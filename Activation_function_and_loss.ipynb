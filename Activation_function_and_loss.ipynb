{
 "cells": [
  {
   "cell_type": "code",
   "execution_count": 5,
   "metadata": {},
   "outputs": [],
   "source": [
    "import warnings\n",
    "warnings.filterwarnings(\"ignore\")\n",
    "\n",
    "from tensorflow.keras.datasets import mnist\n",
    "from tensorflow.keras.models import Sequential \n",
    "from tensorflow.keras.layers import Dense"
   ]
  },
  {
   "cell_type": "code",
   "execution_count": 6,
   "metadata": {},
   "outputs": [],
   "source": [
    "(X_train, y_train), (X_test, y_test) = mnist.load_data()\n",
    "input_dim = 784  # 28*28\n",
    "output_dim = nb_classes = 10\n",
    "batch_size = 128\n",
    "nb_epoch = 20\n",
    "\n",
    "X_train = X_train.reshape(60000, input_dim)\n",
    "X_test = X_test.reshape(10000, input_dim)\n",
    "X_train = X_train.astype('float32')\n",
    "X_test = X_test.astype('float32')\n",
    "X_train /= 255\n",
    "X_test /= 255"
   ]
  },
  {
   "cell_type": "code",
   "execution_count": 7,
   "metadata": {},
   "outputs": [],
   "source": [
    "from tensorflow.keras.utils import to_categorical\n",
    "\n",
    "Y_train = to_categorical(y_train, nb_classes)\n",
    "Y_test = to_categorical(y_test, nb_classes)"
   ]
  },
  {
   "cell_type": "markdown",
   "metadata": {},
   "source": [
    "## Activation Functions"
   ]
  },
  {
   "cell_type": "markdown",
   "metadata": {},
   "source": [
    "Implement a three layer ANN model with 128, 64 and 10 neurons in the layers using tanh activation function for each layer."
   ]
  },
  {
   "cell_type": "code",
   "execution_count": 21,
   "metadata": {},
   "outputs": [
    {
     "name": "stdout",
     "output_type": "stream",
     "text": [
      "Train on 60000 samples, validate on 10000 samples\n",
      "Epoch 1/20\n",
      "60000/60000 [==============================] - 1s 20us/sample - loss: 1.0167 - acc: 0.7452 - val_loss: 0.5831 - val_acc: 0.8614\n",
      "Epoch 2/20\n",
      "60000/60000 [==============================] - 1s 18us/sample - loss: 0.5145 - acc: 0.8715 - val_loss: 0.4337 - val_acc: 0.8916\n",
      "Epoch 3/20\n",
      "60000/60000 [==============================] - 1s 16us/sample - loss: 0.4191 - acc: 0.8896 - val_loss: 0.3747 - val_acc: 0.9002\n",
      "Epoch 4/20\n",
      "60000/60000 [==============================] - 1s 15us/sample - loss: 0.3732 - acc: 0.8985 - val_loss: 0.3424 - val_acc: 0.9067\n",
      "Epoch 5/20\n",
      "60000/60000 [==============================] - 1s 19us/sample - loss: 0.3450 - acc: 0.9053 - val_loss: 0.3202 - val_acc: 0.9105\n",
      "Epoch 6/20\n",
      "60000/60000 [==============================] - 1s 17us/sample - loss: 0.3250 - acc: 0.9096 - val_loss: 0.3040 - val_acc: 0.9149\n",
      "Epoch 7/20\n",
      "60000/60000 [==============================] - 1s 15us/sample - loss: 0.3097 - acc: 0.9127 - val_loss: 0.2920 - val_acc: 0.9185\n",
      "Epoch 8/20\n",
      "60000/60000 [==============================] - 1s 18us/sample - loss: 0.2973 - acc: 0.9153 - val_loss: 0.2811 - val_acc: 0.9215\n",
      "Epoch 9/20\n",
      "60000/60000 [==============================] - 1s 15us/sample - loss: 0.2866 - acc: 0.9181 - val_loss: 0.2733 - val_acc: 0.9235\n",
      "Epoch 10/20\n",
      "60000/60000 [==============================] - 1s 14us/sample - loss: 0.2773 - acc: 0.9211 - val_loss: 0.2646 - val_acc: 0.9246\n",
      "Epoch 11/20\n",
      "60000/60000 [==============================] - 1s 15us/sample - loss: 0.2690 - acc: 0.9229 - val_loss: 0.2575 - val_acc: 0.9267\n",
      "Epoch 12/20\n",
      "60000/60000 [==============================] - 1s 15us/sample - loss: 0.2615 - acc: 0.9252 - val_loss: 0.2510 - val_acc: 0.9289\n",
      "Epoch 13/20\n",
      "60000/60000 [==============================] - 1s 15us/sample - loss: 0.2544 - acc: 0.9271 - val_loss: 0.2449 - val_acc: 0.9305\n",
      "Epoch 14/20\n",
      "60000/60000 [==============================] - 1s 15us/sample - loss: 0.2478 - acc: 0.9290 - val_loss: 0.2394 - val_acc: 0.9313\n",
      "Epoch 15/20\n",
      "60000/60000 [==============================] - 1s 14us/sample - loss: 0.2416 - acc: 0.9307 - val_loss: 0.2342 - val_acc: 0.9324\n",
      "Epoch 16/20\n",
      "60000/60000 [==============================] - 1s 14us/sample - loss: 0.2358 - acc: 0.9321 - val_loss: 0.2291 - val_acc: 0.9351\n",
      "Epoch 17/20\n",
      "60000/60000 [==============================] - 1s 15us/sample - loss: 0.2301 - acc: 0.9342 - val_loss: 0.2239 - val_acc: 0.9362\n",
      "Epoch 18/20\n",
      "60000/60000 [==============================] - 1s 15us/sample - loss: 0.2249 - acc: 0.9356 - val_loss: 0.2188 - val_acc: 0.9378\n",
      "Epoch 19/20\n",
      "60000/60000 [==============================] - 1s 15us/sample - loss: 0.2196 - acc: 0.9373 - val_loss: 0.2148 - val_acc: 0.9382\n",
      "Epoch 20/20\n",
      "60000/60000 [==============================] - 1s 14us/sample - loss: 0.2148 - acc: 0.9384 - val_loss: 0.2108 - val_acc: 0.9386\n"
     ]
    },
    {
     "data": {
      "text/plain": [
       "<tensorflow.python.keras.callbacks.History at 0x7f9ce1a416d0>"
      ]
     },
     "execution_count": 21,
     "metadata": {},
     "output_type": "execute_result"
    }
   ],
   "source": [
    "model = Sequential()\n",
    "model.add(Dense(128, input_shape = (784, ), activation = 'tanh'))\n",
    "model.add(Dense(64, activation='tanh'))\n",
    "model.add(Dense(10, activation = 'softmax'))\n",
    "\n",
    "model.compile(loss = 'categorical_crossentropy', optimizer= 'sgd', metrics = ['accuracy'])\n",
    "model.fit(X_train, Y_train, batch_size = 128, epochs = 20, validation_data = (X_test, Y_test))"
   ]
  },
  {
   "cell_type": "code",
   "execution_count": 10,
   "metadata": {},
   "outputs": [
    {
     "name": "stdout",
     "output_type": "stream",
     "text": [
      "Test score: 0.15519207552671432\n",
      "Test accuracy: 0.9588\n"
     ]
    }
   ],
   "source": [
    "score = model.evaluate(X_test, Y_test, verbose=0)\n",
    "print('Test score:', score[0])\n",
    "print('Test accuracy:', score[1])"
   ]
  },
  {
   "cell_type": "markdown",
   "metadata": {},
   "source": [
    "Implement a three layer ANN model with 128, 64 and 10 neurons in the layers using sigmoid activation function for each layer."
   ]
  },
  {
   "cell_type": "code",
   "execution_count": 22,
   "metadata": {},
   "outputs": [
    {
     "name": "stdout",
     "output_type": "stream",
     "text": [
      "Train on 60000 samples, validate on 10000 samples\n",
      "Epoch 1/20\n",
      "60000/60000 [==============================] - 1s 18us/sample - loss: 2.2945 - acc: 0.1813 - val_loss: 2.2577 - val_acc: 0.1404\n",
      "Epoch 2/20\n",
      "60000/60000 [==============================] - 1s 14us/sample - loss: 2.2333 - acc: 0.3493 - val_loss: 2.2031 - val_acc: 0.5015\n",
      "Epoch 3/20\n",
      "60000/60000 [==============================] - 1s 14us/sample - loss: 2.1709 - acc: 0.5063 - val_loss: 2.1281 - val_acc: 0.5773\n",
      "Epoch 4/20\n",
      "60000/60000 [==============================] - 1s 14us/sample - loss: 2.0829 - acc: 0.5713 - val_loss: 2.0205 - val_acc: 0.6296\n",
      "Epoch 5/20\n",
      "60000/60000 [==============================] - 1s 14us/sample - loss: 1.9566 - acc: 0.6120 - val_loss: 1.8702 - val_acc: 0.6642\n",
      "Epoch 6/20\n",
      "60000/60000 [==============================] - 1s 14us/sample - loss: 1.7875 - acc: 0.6381 - val_loss: 1.6803 - val_acc: 0.6783\n",
      "Epoch 7/20\n",
      "60000/60000 [==============================] - 1s 15us/sample - loss: 1.5917 - acc: 0.6630 - val_loss: 1.4810 - val_acc: 0.6896\n",
      "Epoch 8/20\n",
      "60000/60000 [==============================] - 1s 20us/sample - loss: 1.4011 - acc: 0.6883 - val_loss: 1.3008 - val_acc: 0.7224\n",
      "Epoch 9/20\n",
      "60000/60000 [==============================] - 1s 15us/sample - loss: 1.2383 - acc: 0.7172 - val_loss: 1.1548 - val_acc: 0.7431\n",
      "Epoch 10/20\n",
      "60000/60000 [==============================] - 1s 18us/sample - loss: 1.1080 - acc: 0.7402 - val_loss: 1.0395 - val_acc: 0.7640\n",
      "Epoch 11/20\n",
      "60000/60000 [==============================] - 1s 15us/sample - loss: 1.0051 - acc: 0.7619 - val_loss: 0.9487 - val_acc: 0.7758\n",
      "Epoch 12/20\n",
      "60000/60000 [==============================] - 1s 15us/sample - loss: 0.9229 - acc: 0.7775 - val_loss: 0.8746 - val_acc: 0.7928\n",
      "Epoch 13/20\n",
      "60000/60000 [==============================] - 1s 15us/sample - loss: 0.8558 - acc: 0.7922 - val_loss: 0.8129 - val_acc: 0.8066\n",
      "Epoch 14/20\n",
      "60000/60000 [==============================] - 1s 15us/sample - loss: 0.7996 - acc: 0.8046 - val_loss: 0.7612 - val_acc: 0.8198\n",
      "Epoch 15/20\n",
      "60000/60000 [==============================] - 1s 16us/sample - loss: 0.7517 - acc: 0.8159 - val_loss: 0.7162 - val_acc: 0.8275\n",
      "Epoch 16/20\n",
      "60000/60000 [==============================] - 1s 15us/sample - loss: 0.7102 - acc: 0.8254 - val_loss: 0.6773 - val_acc: 0.8374\n",
      "Epoch 17/20\n",
      "60000/60000 [==============================] - 1s 15us/sample - loss: 0.6740 - acc: 0.8339 - val_loss: 0.6432 - val_acc: 0.8428\n",
      "Epoch 18/20\n",
      "60000/60000 [==============================] - 1s 16us/sample - loss: 0.6420 - acc: 0.8404 - val_loss: 0.6134 - val_acc: 0.8504\n",
      "Epoch 19/20\n",
      "60000/60000 [==============================] - 1s 15us/sample - loss: 0.6137 - acc: 0.8467 - val_loss: 0.5859 - val_acc: 0.8552\n",
      "Epoch 20/20\n",
      "60000/60000 [==============================] - 1s 15us/sample - loss: 0.5883 - acc: 0.8526 - val_loss: 0.5620 - val_acc: 0.8611\n"
     ]
    },
    {
     "data": {
      "text/plain": [
       "<tensorflow.python.keras.callbacks.History at 0x7f9ca23fdb90>"
      ]
     },
     "execution_count": 22,
     "metadata": {},
     "output_type": "execute_result"
    }
   ],
   "source": [
    "model = Sequential()\n",
    "model.add(Dense(128, input_shape = (784, ), activation = 'sigmoid'))\n",
    "model.add(Dense(64, activation='sigmoid'))\n",
    "model.add(Dense(10, activation = 'softmax'))\n",
    "\n",
    "model.compile(loss = 'categorical_crossentropy', optimizer= 'sgd', metrics = ['accuracy'])\n",
    "model.fit(X_train, Y_train, batch_size = 128, epochs = 20, validation_data = (X_test, Y_test))"
   ]
  },
  {
   "cell_type": "code",
   "execution_count": 23,
   "metadata": {},
   "outputs": [
    {
     "name": "stdout",
     "output_type": "stream",
     "text": [
      "Test score: 0.5620161676406861\n",
      "Test accuracy: 0.8611\n"
     ]
    }
   ],
   "source": [
    "score = model.evaluate(X_test, Y_test, verbose=0)\n",
    "print('Test score:', score[0])\n",
    "print('Test accuracy:', score[1])"
   ]
  },
  {
   "cell_type": "markdown",
   "metadata": {},
   "source": [
    "Implement a three layer ANN model with 128, 64 and 10 neurons in the layers using ReLU activation function for each layer."
   ]
  },
  {
   "cell_type": "code",
   "execution_count": 24,
   "metadata": {},
   "outputs": [
    {
     "name": "stdout",
     "output_type": "stream",
     "text": [
      "Train on 60000 samples, validate on 10000 samples\n",
      "Epoch 1/20\n",
      "60000/60000 [==============================] - 1s 17us/sample - loss: 1.2813 - acc: 0.6747 - val_loss: 0.6106 - val_acc: 0.8579\n",
      "Epoch 2/20\n",
      "60000/60000 [==============================] - 1s 14us/sample - loss: 0.5030 - acc: 0.8699 - val_loss: 0.4046 - val_acc: 0.8920\n",
      "Epoch 3/20\n",
      "60000/60000 [==============================] - 1s 15us/sample - loss: 0.3905 - acc: 0.8926 - val_loss: 0.3436 - val_acc: 0.9043\n",
      "Epoch 4/20\n",
      "60000/60000 [==============================] - 1s 15us/sample - loss: 0.3444 - acc: 0.9026 - val_loss: 0.3156 - val_acc: 0.9119\n",
      "Epoch 5/20\n",
      "60000/60000 [==============================] - 1s 17us/sample - loss: 0.3165 - acc: 0.9101 - val_loss: 0.2918 - val_acc: 0.9176\n",
      "Epoch 6/20\n",
      "60000/60000 [==============================] - 1s 13us/sample - loss: 0.2958 - acc: 0.9157 - val_loss: 0.2767 - val_acc: 0.9219\n",
      "Epoch 7/20\n",
      "60000/60000 [==============================] - 1s 13us/sample - loss: 0.2792 - acc: 0.9203 - val_loss: 0.2636 - val_acc: 0.9242\n",
      "Epoch 8/20\n",
      "60000/60000 [==============================] - 1s 13us/sample - loss: 0.2648 - acc: 0.9247 - val_loss: 0.2507 - val_acc: 0.9278\n",
      "Epoch 9/20\n",
      "60000/60000 [==============================] - 1s 16us/sample - loss: 0.2521 - acc: 0.9277 - val_loss: 0.2423 - val_acc: 0.9318\n",
      "Epoch 10/20\n",
      "60000/60000 [==============================] - 1s 16us/sample - loss: 0.2406 - acc: 0.9311 - val_loss: 0.2316 - val_acc: 0.9323\n",
      "Epoch 11/20\n",
      "60000/60000 [==============================] - 1s 16us/sample - loss: 0.2302 - acc: 0.9349 - val_loss: 0.2216 - val_acc: 0.9357\n",
      "Epoch 12/20\n",
      "60000/60000 [==============================] - 1s 14us/sample - loss: 0.2206 - acc: 0.9373 - val_loss: 0.2147 - val_acc: 0.9382\n",
      "Epoch 13/20\n",
      "60000/60000 [==============================] - 1s 14us/sample - loss: 0.2117 - acc: 0.9402 - val_loss: 0.2063 - val_acc: 0.9397\n",
      "Epoch 14/20\n",
      "60000/60000 [==============================] - 1s 14us/sample - loss: 0.2033 - acc: 0.9430 - val_loss: 0.2012 - val_acc: 0.9397\n",
      "Epoch 15/20\n",
      "60000/60000 [==============================] - 1s 14us/sample - loss: 0.1959 - acc: 0.9450 - val_loss: 0.1923 - val_acc: 0.9447\n",
      "Epoch 16/20\n",
      "60000/60000 [==============================] - 1s 14us/sample - loss: 0.1886 - acc: 0.9469 - val_loss: 0.1861 - val_acc: 0.9453\n",
      "Epoch 17/20\n",
      "60000/60000 [==============================] - 1s 15us/sample - loss: 0.1821 - acc: 0.9486 - val_loss: 0.1797 - val_acc: 0.9486\n",
      "Epoch 18/20\n",
      "60000/60000 [==============================] - 1s 14us/sample - loss: 0.1759 - acc: 0.9503 - val_loss: 0.1770 - val_acc: 0.9481\n",
      "Epoch 19/20\n",
      "60000/60000 [==============================] - 1s 14us/sample - loss: 0.1701 - acc: 0.9521 - val_loss: 0.1695 - val_acc: 0.9504\n",
      "Epoch 20/20\n",
      "60000/60000 [==============================] - 1s 14us/sample - loss: 0.1646 - acc: 0.9532 - val_loss: 0.1674 - val_acc: 0.9514\n"
     ]
    },
    {
     "data": {
      "text/plain": [
       "<tensorflow.python.keras.callbacks.History at 0x7f9d01732190>"
      ]
     },
     "execution_count": 24,
     "metadata": {},
     "output_type": "execute_result"
    }
   ],
   "source": [
    "model = Sequential()\n",
    "model.add(Dense(128, input_shape = (784, ), activation = 'relu'))\n",
    "model.add(Dense(64, activation='relu'))\n",
    "model.add(Dense(10, activation = 'softmax'))\n",
    "\n",
    "model.compile(loss = 'categorical_crossentropy', optimizer= 'sgd', metrics = ['accuracy'])\n",
    "model.fit(X_train, Y_train, batch_size = 128, epochs = 20, validation_data = (X_test, Y_test))"
   ]
  },
  {
   "cell_type": "code",
   "execution_count": 25,
   "metadata": {},
   "outputs": [
    {
     "name": "stdout",
     "output_type": "stream",
     "text": [
      "Test score: 0.16736505468264223\n",
      "Test accuracy: 0.9514\n"
     ]
    }
   ],
   "source": [
    "score = model.evaluate(X_test, Y_test, verbose=0)\n",
    "print('Test score:', score[0])\n",
    "print('Test accuracy:', score[1])"
   ]
  },
  {
   "cell_type": "code",
   "execution_count": null,
   "metadata": {},
   "outputs": [],
   "source": [
    "#Relu works best "
   ]
  },
  {
   "cell_type": "markdown",
   "metadata": {},
   "source": [
    "## Hinge Loss"
   ]
  },
  {
   "cell_type": "markdown",
   "metadata": {},
   "source": [
    "Implement a three layer ANN model with 128, 64 and 10 neurons in the layers using tanh activation function for each layer."
   ]
  },
  {
   "cell_type": "code",
   "execution_count": 18,
   "metadata": {},
   "outputs": [
    {
     "name": "stdout",
     "output_type": "stream",
     "text": [
      "Train on 60000 samples, validate on 10000 samples\n",
      "Epoch 1/20\n",
      "60000/60000 [==============================] - 1s 17us/sample - loss: 0.9771 - acc: 0.4796 - val_loss: 0.8690 - val_acc: 0.6965\n",
      "Epoch 2/20\n",
      "60000/60000 [==============================] - 1s 15us/sample - loss: 0.7458 - acc: 0.7383 - val_loss: 0.6294 - val_acc: 0.7951\n",
      "Epoch 3/20\n",
      "60000/60000 [==============================] - 1s 15us/sample - loss: 0.5642 - acc: 0.8168 - val_loss: 0.4870 - val_acc: 0.8519\n",
      "Epoch 4/20\n",
      "60000/60000 [==============================] - 1s 15us/sample - loss: 0.4514 - acc: 0.8561 - val_loss: 0.3966 - val_acc: 0.8755\n",
      "Epoch 5/20\n",
      "60000/60000 [==============================] - 1s 15us/sample - loss: 0.3798 - acc: 0.8730 - val_loss: 0.3417 - val_acc: 0.8886\n",
      "Epoch 6/20\n",
      "60000/60000 [==============================] - 1s 15us/sample - loss: 0.3350 - acc: 0.8822 - val_loss: 0.3065 - val_acc: 0.8936\n",
      "Epoch 7/20\n",
      "60000/60000 [==============================] - 1s 18us/sample - loss: 0.3051 - acc: 0.8890 - val_loss: 0.2821 - val_acc: 0.8983\n",
      "Epoch 8/20\n",
      "60000/60000 [==============================] - 1s 16us/sample - loss: 0.2837 - acc: 0.8935 - val_loss: 0.2641 - val_acc: 0.9017\n",
      "Epoch 9/20\n",
      "60000/60000 [==============================] - 1s 14us/sample - loss: 0.2674 - acc: 0.8970 - val_loss: 0.2501 - val_acc: 0.9053\n",
      "Epoch 10/20\n",
      "60000/60000 [==============================] - 1s 15us/sample - loss: 0.2544 - acc: 0.9002 - val_loss: 0.2392 - val_acc: 0.9073\n",
      "Epoch 11/20\n",
      "60000/60000 [==============================] - 1s 16us/sample - loss: 0.2438 - acc: 0.9032 - val_loss: 0.2302 - val_acc: 0.9100\n",
      "Epoch 12/20\n",
      "60000/60000 [==============================] - 1s 17us/sample - loss: 0.2350 - acc: 0.9054 - val_loss: 0.2224 - val_acc: 0.9127\n",
      "Epoch 13/20\n",
      "60000/60000 [==============================] - 1s 19us/sample - loss: 0.2273 - acc: 0.9074 - val_loss: 0.2162 - val_acc: 0.9137\n",
      "Epoch 14/20\n",
      "60000/60000 [==============================] - 1s 16us/sample - loss: 0.2207 - acc: 0.9092 - val_loss: 0.2097 - val_acc: 0.9159\n",
      "Epoch 15/20\n",
      "60000/60000 [==============================] - 1s 15us/sample - loss: 0.2149 - acc: 0.9113 - val_loss: 0.2046 - val_acc: 0.9175\n",
      "Epoch 16/20\n",
      "60000/60000 [==============================] - 1s 15us/sample - loss: 0.2095 - acc: 0.9130 - val_loss: 0.2000 - val_acc: 0.9183\n",
      "Epoch 17/20\n",
      "60000/60000 [==============================] - 1s 15us/sample - loss: 0.2048 - acc: 0.9149 - val_loss: 0.1960 - val_acc: 0.9197\n",
      "Epoch 18/20\n",
      "60000/60000 [==============================] - 1s 15us/sample - loss: 0.2005 - acc: 0.9160 - val_loss: 0.1920 - val_acc: 0.9204\n",
      "Epoch 19/20\n",
      "60000/60000 [==============================] - 1s 15us/sample - loss: 0.1965 - acc: 0.9176 - val_loss: 0.1886 - val_acc: 0.9217\n",
      "Epoch 20/20\n",
      "60000/60000 [==============================] - 1s 17us/sample - loss: 0.1927 - acc: 0.9189 - val_loss: 0.1857 - val_acc: 0.9224\n"
     ]
    },
    {
     "data": {
      "text/plain": [
       "<tensorflow.python.keras.callbacks.History at 0x7f9d01575690>"
      ]
     },
     "execution_count": 18,
     "metadata": {},
     "output_type": "execute_result"
    }
   ],
   "source": [
    "model = Sequential()\n",
    "model.add(Dense(128, input_shape = (784, ), activation = 'tanh'))\n",
    "model.add(Dense(64, activation='tanh'))\n",
    "model.add(Dense(10, activation = 'softmax'))\n",
    "\n",
    "model.compile(loss = 'categorical_hinge', optimizer= 'sgd', metrics = ['accuracy'])\n",
    "model.fit(X_train, Y_train, batch_size = 128, epochs = 20, validation_data = (X_test, Y_test))"
   ]
  },
  {
   "cell_type": "markdown",
   "metadata": {},
   "source": [
    "Implement a three layer ANN model with 128, 64 and 10 neurons in the layers using sigmoid activation function for each layer."
   ]
  },
  {
   "cell_type": "code",
   "execution_count": 19,
   "metadata": {},
   "outputs": [
    {
     "name": "stdout",
     "output_type": "stream",
     "text": [
      "Train on 60000 samples, validate on 10000 samples\n",
      "Epoch 1/20\n",
      "60000/60000 [==============================] - 1s 19us/sample - loss: 1.0309 - acc: 0.1106 - val_loss: 1.0215 - val_acc: 0.1283\n",
      "Epoch 2/20\n",
      "60000/60000 [==============================] - 1s 15us/sample - loss: 1.0183 - acc: 0.1516 - val_loss: 1.0136 - val_acc: 0.1817\n",
      "Epoch 3/20\n",
      "60000/60000 [==============================] - 1s 15us/sample - loss: 1.0067 - acc: 0.1891 - val_loss: 1.0023 - val_acc: 0.2038\n",
      "Epoch 4/20\n",
      "60000/60000 [==============================] - 1s 15us/sample - loss: 1.0020 - acc: 0.2262 - val_loss: 1.0017 - val_acc: 0.2608\n",
      "Epoch 5/20\n",
      "60000/60000 [==============================] - 1s 16us/sample - loss: 1.0015 - acc: 0.2914 - val_loss: 1.0011 - val_acc: 0.3313\n",
      "Epoch 6/20\n",
      "60000/60000 [==============================] - 1s 16us/sample - loss: 1.0010 - acc: 0.3614 - val_loss: 1.0007 - val_acc: 0.4128\n",
      "Epoch 7/20\n",
      "60000/60000 [==============================] - 1s 16us/sample - loss: 1.0005 - acc: 0.4326 - val_loss: 1.0002 - val_acc: 0.4785\n",
      "Epoch 8/20\n",
      "60000/60000 [==============================] - 1s 16us/sample - loss: 1.0001 - acc: 0.4884 - val_loss: 0.9998 - val_acc: 0.5261\n",
      "Epoch 9/20\n",
      "60000/60000 [==============================] - 1s 16us/sample - loss: 0.9997 - acc: 0.5276 - val_loss: 0.9995 - val_acc: 0.5550\n",
      "Epoch 10/20\n",
      "60000/60000 [==============================] - 1s 16us/sample - loss: 0.9994 - acc: 0.5588 - val_loss: 0.9991 - val_acc: 0.5821\n",
      "Epoch 11/20\n",
      "60000/60000 [==============================] - 1s 16us/sample - loss: 0.9990 - acc: 0.5827 - val_loss: 0.9988 - val_acc: 0.6002\n",
      "Epoch 12/20\n",
      "60000/60000 [==============================] - 1s 16us/sample - loss: 0.9987 - acc: 0.6030 - val_loss: 0.9985 - val_acc: 0.6127\n",
      "Epoch 13/20\n",
      "60000/60000 [==============================] - 1s 16us/sample - loss: 0.9984 - acc: 0.6196 - val_loss: 0.9982 - val_acc: 0.6302\n",
      "Epoch 14/20\n",
      "60000/60000 [==============================] - 1s 16us/sample - loss: 0.9981 - acc: 0.6354 - val_loss: 0.9979 - val_acc: 0.6464\n",
      "Epoch 15/20\n",
      "60000/60000 [==============================] - 1s 16us/sample - loss: 0.9978 - acc: 0.6468 - val_loss: 0.9976 - val_acc: 0.6589\n",
      "Epoch 16/20\n",
      "60000/60000 [==============================] - 1s 16us/sample - loss: 0.9975 - acc: 0.6590 - val_loss: 0.9973 - val_acc: 0.6702\n",
      "Epoch 17/20\n",
      "60000/60000 [==============================] - 1s 16us/sample - loss: 0.9973 - acc: 0.6674 - val_loss: 0.9970 - val_acc: 0.6817\n",
      "Epoch 18/20\n",
      "60000/60000 [==============================] - 1s 16us/sample - loss: 0.9970 - acc: 0.6770 - val_loss: 0.9968 - val_acc: 0.6846\n",
      "Epoch 19/20\n",
      "60000/60000 [==============================] - 1s 18us/sample - loss: 0.9967 - acc: 0.6835 - val_loss: 0.9965 - val_acc: 0.6948\n",
      "Epoch 20/20\n",
      "60000/60000 [==============================] - 1s 18us/sample - loss: 0.9964 - acc: 0.6907 - val_loss: 0.9962 - val_acc: 0.7086\n"
     ]
    },
    {
     "data": {
      "text/plain": [
       "<tensorflow.python.keras.callbacks.History at 0x7f9d016bd050>"
      ]
     },
     "execution_count": 19,
     "metadata": {},
     "output_type": "execute_result"
    }
   ],
   "source": [
    "model = Sequential()\n",
    "model.add(Dense(128, input_shape = (784, ), activation = 'sigmoid'))\n",
    "model.add(Dense(64, activation='sigmoid'))\n",
    "model.add(Dense(10, activation = 'softmax'))\n",
    "\n",
    "model.compile(loss = 'categorical_hinge', optimizer= 'sgd', metrics = ['accuracy'])\n",
    "model.fit(X_train, Y_train, batch_size = 128, epochs = 20, validation_data = (X_test, Y_test))"
   ]
  },
  {
   "cell_type": "markdown",
   "metadata": {},
   "source": [
    "Implement a three layer ANN model with 128, 64 and 10 neurons in the layers using ReLU activation function for each layer."
   ]
  },
  {
   "cell_type": "code",
   "execution_count": 20,
   "metadata": {},
   "outputs": [
    {
     "name": "stdout",
     "output_type": "stream",
     "text": [
      "Train on 60000 samples, validate on 10000 samples\n",
      "Epoch 1/20\n",
      "60000/60000 [==============================] - 1s 18us/sample - loss: 1.0197 - acc: 0.1694 - val_loss: 1.0063 - val_acc: 0.3161\n",
      "Epoch 2/20\n",
      "60000/60000 [==============================] - 1s 15us/sample - loss: 0.9941 - acc: 0.4155 - val_loss: 0.9742 - val_acc: 0.5016\n",
      "Epoch 3/20\n",
      "60000/60000 [==============================] - 1s 15us/sample - loss: 0.9415 - acc: 0.5503 - val_loss: 0.9050 - val_acc: 0.6096\n",
      "Epoch 4/20\n",
      "60000/60000 [==============================] - 1s 16us/sample - loss: 0.8517 - acc: 0.6216 - val_loss: 0.7790 - val_acc: 0.6667\n",
      "Epoch 5/20\n",
      "60000/60000 [==============================] - 1s 15us/sample - loss: 0.7026 - acc: 0.7016 - val_loss: 0.6133 - val_acc: 0.7710\n",
      "Epoch 6/20\n",
      "60000/60000 [==============================] - 1s 15us/sample - loss: 0.5537 - acc: 0.8087 - val_loss: 0.4767 - val_acc: 0.8571\n",
      "Epoch 7/20\n",
      "60000/60000 [==============================] - 1s 15us/sample - loss: 0.4284 - acc: 0.8625 - val_loss: 0.3658 - val_acc: 0.8836\n",
      "Epoch 8/20\n",
      "60000/60000 [==============================] - 1s 15us/sample - loss: 0.3426 - acc: 0.8803 - val_loss: 0.3027 - val_acc: 0.8906\n",
      "Epoch 9/20\n",
      "60000/60000 [==============================] - 1s 15us/sample - loss: 0.2952 - acc: 0.8896 - val_loss: 0.2673 - val_acc: 0.8977\n",
      "Epoch 10/20\n",
      "60000/60000 [==============================] - 1s 15us/sample - loss: 0.2664 - acc: 0.8954 - val_loss: 0.2451 - val_acc: 0.9010\n",
      "Epoch 11/20\n",
      "60000/60000 [==============================] - 1s 15us/sample - loss: 0.2472 - acc: 0.9000 - val_loss: 0.2297 - val_acc: 0.9053\n",
      "Epoch 12/20\n",
      "60000/60000 [==============================] - 1s 15us/sample - loss: 0.2329 - acc: 0.9041 - val_loss: 0.2172 - val_acc: 0.9094\n",
      "Epoch 13/20\n",
      "60000/60000 [==============================] - 1s 15us/sample - loss: 0.2215 - acc: 0.9077 - val_loss: 0.2080 - val_acc: 0.9113\n",
      "Epoch 14/20\n",
      "60000/60000 [==============================] - 1s 15us/sample - loss: 0.2124 - acc: 0.9106 - val_loss: 0.2012 - val_acc: 0.9147\n",
      "Epoch 15/20\n",
      "60000/60000 [==============================] - 1s 14us/sample - loss: 0.2047 - acc: 0.9126 - val_loss: 0.1942 - val_acc: 0.9167\n",
      "Epoch 16/20\n",
      "60000/60000 [==============================] - 1s 15us/sample - loss: 0.1982 - acc: 0.9148 - val_loss: 0.1882 - val_acc: 0.9193\n",
      "Epoch 17/20\n",
      "60000/60000 [==============================] - 1s 15us/sample - loss: 0.1924 - acc: 0.9171 - val_loss: 0.1838 - val_acc: 0.9197\n",
      "Epoch 18/20\n",
      "60000/60000 [==============================] - 1s 14us/sample - loss: 0.1872 - acc: 0.9190 - val_loss: 0.1791 - val_acc: 0.9208\n",
      "Epoch 19/20\n",
      "60000/60000 [==============================] - 1s 14us/sample - loss: 0.1826 - acc: 0.9204 - val_loss: 0.1747 - val_acc: 0.9232\n",
      "Epoch 20/20\n",
      "60000/60000 [==============================] - 1s 14us/sample - loss: 0.1784 - acc: 0.9219 - val_loss: 0.1719 - val_acc: 0.9238\n"
     ]
    },
    {
     "data": {
      "text/plain": [
       "<tensorflow.python.keras.callbacks.History at 0x7f9ce198eb10>"
      ]
     },
     "execution_count": 20,
     "metadata": {},
     "output_type": "execute_result"
    }
   ],
   "source": [
    "model = Sequential()\n",
    "model.add(Dense(128, input_shape = (784, ), activation = 'relu'))\n",
    "model.add(Dense(64, activation='relu'))\n",
    "model.add(Dense(10, activation = 'softmax'))\n",
    "\n",
    "model.compile(loss = 'categorical_hinge', optimizer= 'sgd', metrics = ['accuracy'])\n",
    "model.fit(X_train, Y_train, batch_size = 128, epochs = 20, validation_data = (X_test, Y_test))"
   ]
  },
  {
   "cell_type": "code",
   "execution_count": null,
   "metadata": {},
   "outputs": [],
   "source": [
    "#Relu works best again"
   ]
  }
 ],
 "metadata": {
  "kernelspec": {
   "display_name": "Python 3",
   "language": "python",
   "name": "python3"
  },
  "language_info": {
   "codemirror_mode": {
    "name": "ipython",
    "version": 3
   },
   "file_extension": ".py",
   "mimetype": "text/x-python",
   "name": "python",
   "nbconvert_exporter": "python",
   "pygments_lexer": "ipython3",
   "version": "3.7.7"
  }
 },
 "nbformat": 4,
 "nbformat_minor": 4
}
