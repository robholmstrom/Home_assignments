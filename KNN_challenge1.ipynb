{
 "cells": [
  {
   "cell_type": "code",
   "execution_count": 259,
   "metadata": {},
   "outputs": [],
   "source": [
    "import math\n",
    "import pandas as pd\n",
    "import numpy as np\n",
    "import matplotlib.pyplot as plt\n",
    "from scipy import stats\n",
    "from statsmodels.stats.multicomp import pairwise_tukeyhsd\n",
    "import seaborn as sns \n",
    "sns.set()\n",
    "from sklearn.neighbors import KNeighborsClassifier\n",
    "from sklearn.neighbors import KNeighborsRegressor\n",
    "from sklearn import neighbors\n",
    "from sklearn.model_selection import cross_val_score\n",
    "from sklearn.model_selection import train_test_split\n",
    "from sklearn import linear_model\n",
    "from sqlalchemy import create_engine\n",
    "import statsmodels.api as sm\n",
    "from sklearn.linear_model import LinearRegression\n",
    "from sklearn.metrics import mean_absolute_error\n",
    "from statsmodels.tools.eval_measures import mse, rmse\n",
    "\n",
    "\n"
   ]
  },
  {
   "cell_type": "markdown",
   "metadata": {},
   "source": [
    "Here let's work on regression. Find a data set and build a KNN Regression and an OLS regression. Compare the two. How similar are they? Do they miss in different ways?"
   ]
  },
  {
   "cell_type": "code",
   "execution_count": 260,
   "metadata": {},
   "outputs": [],
   "source": [
    "df = pd.read_csv('https://raw.githubusercontent.com/robholmstrom/Sams_github/master/houses_to_rent_v2.csv')\n",
    "\n",
    "\n"
   ]
  },
  {
   "cell_type": "code",
   "execution_count": 261,
   "metadata": {},
   "outputs": [
    {
     "name": "stdout",
     "output_type": "stream",
     "text": [
      "<class 'pandas.core.frame.DataFrame'>\n",
      "RangeIndex: 10692 entries, 0 to 10691\n",
      "Data columns (total 13 columns):\n",
      " #   Column               Non-Null Count  Dtype \n",
      "---  ------               --------------  ----- \n",
      " 0   city                 10692 non-null  object\n",
      " 1   area                 10692 non-null  int64 \n",
      " 2   rooms                10692 non-null  int64 \n",
      " 3   bathroom             10692 non-null  int64 \n",
      " 4   parking spaces       10692 non-null  int64 \n",
      " 5   floor                10692 non-null  object\n",
      " 6   animal               10692 non-null  object\n",
      " 7   furniture            10692 non-null  object\n",
      " 8   hoa (R$)             10692 non-null  int64 \n",
      " 9   rent amount (R$)     10692 non-null  int64 \n",
      " 10  property tax (R$)    10692 non-null  int64 \n",
      " 11  fire insurance (R$)  10692 non-null  int64 \n",
      " 12  total (R$)           10692 non-null  int64 \n",
      "dtypes: int64(9), object(4)\n",
      "memory usage: 1.1+ MB\n"
     ]
    }
   ],
   "source": [
    "df.head()\n",
    "df.info()\n"
   ]
  },
  {
   "cell_type": "code",
   "execution_count": 401,
   "metadata": {},
   "outputs": [
    {
     "data": {
      "text/plain": [
       "Index(['city', 'area', 'rooms', 'bathroom', 'parking spaces', 'floor',\n",
       "       'animal', 'furniture', 'hoa (R$)', 'rent amount (R$)',\n",
       "       'property tax (R$)', 'fire insurance (R$)', 'total (R$)'],\n",
       "      dtype='object')"
      ]
     },
     "execution_count": 401,
     "metadata": {},
     "output_type": "execute_result"
    }
   ],
   "source": [
    "df.columns"
   ]
  },
  {
   "cell_type": "markdown",
   "metadata": {},
   "source": [
    "Create a Jupyter notebook with your models. At the end in a markdown cell write a few paragraphs to describe the models' behaviors and why you favor one model or the other. Try to determine whether there is a situation where you would change your mind, or whether one is unambiguously better than the other. Lastly, try to note what it is about the data that causes the better model to outperform the weaker model. Submit a link to your notebook below."
   ]
  },
  {
   "cell_type": "code",
   "execution_count": 572,
   "metadata": {},
   "outputs": [
    {
     "name": "stdout",
     "output_type": "stream",
     "text": [
      "<class 'pandas.core.frame.DataFrame'>\n",
      "Int64Index: 8515 entries, 0 to 10691\n",
      "Data columns (total 3 columns):\n",
      " #   Column                   Non-Null Count  Dtype\n",
      "---  ------                   --------------  -----\n",
      " 0   parking spaces           8515 non-null   int64\n",
      " 1   fire insurance (R$)      8515 non-null   int64\n",
      " 2   furniture_not furnished  8515 non-null   int64\n",
      "dtypes: int64(3)\n",
      "memory usage: 266.1 KB\n"
     ]
    }
   ],
   "source": [
    "#'floor', 'rooms', 'bathroom', 'area'\n",
    "#df.loc[df['shield'] > 6]\n",
    "high_rent_cutoff = 6000\n",
    "low_rent_cutoff = 0\n",
    "dfcutoff = df.loc[(df['rent amount (R$)']<high_rent_cutoff) & (df['rent amount (R$)']>low_rent_cutoff)]\n",
    "target = 'rent amount (R$)'\n",
    "drop_list = ['floor',  'city','hoa (R$)', 'bathroom', 'rooms', 'total (R$)','animal','property tax (R$)', 'area']\n",
    "\n",
    "\n",
    "dfdum = dfcutoff.drop(drop_list, axis =1).drop(target, axis =1)\n",
    "\n",
    "\n",
    "dumcols = [i for i in dfdum.select_dtypes(include = 'object')]\n",
    "dfdum = pd.get_dummies(dfdum, prefix=dumcols, drop_first = True)#.drop('city_Campinas', axis = 1)\n",
    "\n",
    "dfdum = dfdum.applymap(lambda x: x.strip() if isinstance(x, str) else x)\n",
    "\n",
    "\n",
    "dfcutoff.corr()\n",
    "df.columns\n",
    "dfdum.info()"
   ]
  },
  {
   "cell_type": "code",
   "execution_count": 573,
   "metadata": {},
   "outputs": [
    {
     "data": {
      "text/html": [
       "<div>\n",
       "<style scoped>\n",
       "    .dataframe tbody tr th:only-of-type {\n",
       "        vertical-align: middle;\n",
       "    }\n",
       "\n",
       "    .dataframe tbody tr th {\n",
       "        vertical-align: top;\n",
       "    }\n",
       "\n",
       "    .dataframe thead th {\n",
       "        text-align: right;\n",
       "    }\n",
       "</style>\n",
       "<table border=\"1\" class=\"dataframe\">\n",
       "  <thead>\n",
       "    <tr style=\"text-align: right;\">\n",
       "      <th></th>\n",
       "      <th>level_0</th>\n",
       "      <th>level_1</th>\n",
       "      <th>Corr</th>\n",
       "    </tr>\n",
       "  </thead>\n",
       "  <tbody>\n",
       "    <tr>\n",
       "      <th>3</th>\n",
       "      <td>fire insurance (R$)</td>\n",
       "      <td>parking spaces</td>\n",
       "      <td>0.519922</td>\n",
       "    </tr>\n",
       "    <tr>\n",
       "      <th>4</th>\n",
       "      <td>parking spaces</td>\n",
       "      <td>fire insurance (R$)</td>\n",
       "      <td>0.519922</td>\n",
       "    </tr>\n",
       "    <tr>\n",
       "      <th>5</th>\n",
       "      <td>furniture_not furnished</td>\n",
       "      <td>fire insurance (R$)</td>\n",
       "      <td>0.158541</td>\n",
       "    </tr>\n",
       "    <tr>\n",
       "      <th>6</th>\n",
       "      <td>fire insurance (R$)</td>\n",
       "      <td>furniture_not furnished</td>\n",
       "      <td>0.158541</td>\n",
       "    </tr>\n",
       "    <tr>\n",
       "      <th>7</th>\n",
       "      <td>furniture_not furnished</td>\n",
       "      <td>parking spaces</td>\n",
       "      <td>0.045386</td>\n",
       "    </tr>\n",
       "  </tbody>\n",
       "</table>\n",
       "</div>"
      ],
      "text/plain": [
       "                   level_0                  level_1      Corr\n",
       "3      fire insurance (R$)           parking spaces  0.519922\n",
       "4           parking spaces      fire insurance (R$)  0.519922\n",
       "5  furniture_not furnished      fire insurance (R$)  0.158541\n",
       "6      fire insurance (R$)  furniture_not furnished  0.158541\n",
       "7  furniture_not furnished           parking spaces  0.045386"
      ]
     },
     "execution_count": 573,
     "metadata": {},
     "output_type": "execute_result"
    }
   ],
   "source": [
    "corr_list = dfdum.corr().unstack().abs().sort_values(ascending= False).reset_index().rename(columns = {0:'Corr'})\n",
    "corr_list_uq = corr_list[corr_list.iloc[:,0] != corr_list.iloc[:,1]]\n",
    "corr_list_uq.head(5)\n"
   ]
  },
  {
   "cell_type": "code",
   "execution_count": 574,
   "metadata": {},
   "outputs": [
    {
     "data": {
      "text/html": [
       "<div>\n",
       "<style scoped>\n",
       "    .dataframe tbody tr th:only-of-type {\n",
       "        vertical-align: middle;\n",
       "    }\n",
       "\n",
       "    .dataframe tbody tr th {\n",
       "        vertical-align: top;\n",
       "    }\n",
       "\n",
       "    .dataframe thead th {\n",
       "        text-align: right;\n",
       "    }\n",
       "</style>\n",
       "<table border=\"1\" class=\"dataframe\">\n",
       "  <thead>\n",
       "    <tr style=\"text-align: right;\">\n",
       "      <th></th>\n",
       "      <th>area</th>\n",
       "      <th>rooms</th>\n",
       "      <th>bathroom</th>\n",
       "      <th>parking spaces</th>\n",
       "      <th>hoa (R$)</th>\n",
       "      <th>rent amount (R$)</th>\n",
       "      <th>property tax (R$)</th>\n",
       "      <th>fire insurance (R$)</th>\n",
       "      <th>total (R$)</th>\n",
       "    </tr>\n",
       "  </thead>\n",
       "  <tbody>\n",
       "    <tr>\n",
       "      <th>area</th>\n",
       "      <td>1.000000</td>\n",
       "      <td>0.363308</td>\n",
       "      <td>0.373317</td>\n",
       "      <td>0.319070</td>\n",
       "      <td>0.012389</td>\n",
       "      <td>0.275710</td>\n",
       "      <td>0.021635</td>\n",
       "      <td>0.302493</td>\n",
       "      <td>0.037181</td>\n",
       "    </tr>\n",
       "    <tr>\n",
       "      <th>rooms</th>\n",
       "      <td>0.363308</td>\n",
       "      <td>1.000000</td>\n",
       "      <td>0.687147</td>\n",
       "      <td>0.562796</td>\n",
       "      <td>-0.006058</td>\n",
       "      <td>0.469711</td>\n",
       "      <td>0.026507</td>\n",
       "      <td>0.502531</td>\n",
       "      <td>0.034831</td>\n",
       "    </tr>\n",
       "    <tr>\n",
       "      <th>bathroom</th>\n",
       "      <td>0.373317</td>\n",
       "      <td>0.687147</td>\n",
       "      <td>1.000000</td>\n",
       "      <td>0.634943</td>\n",
       "      <td>0.050007</td>\n",
       "      <td>0.570402</td>\n",
       "      <td>0.053171</td>\n",
       "      <td>0.584074</td>\n",
       "      <td>0.102286</td>\n",
       "    </tr>\n",
       "    <tr>\n",
       "      <th>parking spaces</th>\n",
       "      <td>0.319070</td>\n",
       "      <td>0.562796</td>\n",
       "      <td>0.634943</td>\n",
       "      <td>1.000000</td>\n",
       "      <td>-0.002409</td>\n",
       "      <td>0.490620</td>\n",
       "      <td>0.040976</td>\n",
       "      <td>0.519922</td>\n",
       "      <td>0.042786</td>\n",
       "    </tr>\n",
       "    <tr>\n",
       "      <th>hoa (R$)</th>\n",
       "      <td>0.012389</td>\n",
       "      <td>-0.006058</td>\n",
       "      <td>0.050007</td>\n",
       "      <td>-0.002409</td>\n",
       "      <td>1.000000</td>\n",
       "      <td>0.023094</td>\n",
       "      <td>0.003252</td>\n",
       "      <td>0.018517</td>\n",
       "      <td>0.977281</td>\n",
       "    </tr>\n",
       "    <tr>\n",
       "      <th>rent amount (R$)</th>\n",
       "      <td>0.275710</td>\n",
       "      <td>0.469711</td>\n",
       "      <td>0.570402</td>\n",
       "      <td>0.490620</td>\n",
       "      <td>0.023094</td>\n",
       "      <td>1.000000</td>\n",
       "      <td>0.041300</td>\n",
       "      <td>0.974204</td>\n",
       "      <td>0.106192</td>\n",
       "    </tr>\n",
       "    <tr>\n",
       "      <th>property tax (R$)</th>\n",
       "      <td>0.021635</td>\n",
       "      <td>0.026507</td>\n",
       "      <td>0.053171</td>\n",
       "      <td>0.040976</td>\n",
       "      <td>0.003252</td>\n",
       "      <td>0.041300</td>\n",
       "      <td>1.000000</td>\n",
       "      <td>0.038151</td>\n",
       "      <td>0.201202</td>\n",
       "    </tr>\n",
       "    <tr>\n",
       "      <th>fire insurance (R$)</th>\n",
       "      <td>0.302493</td>\n",
       "      <td>0.502531</td>\n",
       "      <td>0.584074</td>\n",
       "      <td>0.519922</td>\n",
       "      <td>0.018517</td>\n",
       "      <td>0.974204</td>\n",
       "      <td>0.038151</td>\n",
       "      <td>1.000000</td>\n",
       "      <td>0.099218</td>\n",
       "    </tr>\n",
       "    <tr>\n",
       "      <th>total (R$)</th>\n",
       "      <td>0.037181</td>\n",
       "      <td>0.034831</td>\n",
       "      <td>0.102286</td>\n",
       "      <td>0.042786</td>\n",
       "      <td>0.977281</td>\n",
       "      <td>0.106192</td>\n",
       "      <td>0.201202</td>\n",
       "      <td>0.099218</td>\n",
       "      <td>1.000000</td>\n",
       "    </tr>\n",
       "  </tbody>\n",
       "</table>\n",
       "</div>"
      ],
      "text/plain": [
       "                         area     rooms  bathroom  parking spaces  hoa (R$)  \\\n",
       "area                 1.000000  0.363308  0.373317        0.319070  0.012389   \n",
       "rooms                0.363308  1.000000  0.687147        0.562796 -0.006058   \n",
       "bathroom             0.373317  0.687147  1.000000        0.634943  0.050007   \n",
       "parking spaces       0.319070  0.562796  0.634943        1.000000 -0.002409   \n",
       "hoa (R$)             0.012389 -0.006058  0.050007       -0.002409  1.000000   \n",
       "rent amount (R$)     0.275710  0.469711  0.570402        0.490620  0.023094   \n",
       "property tax (R$)    0.021635  0.026507  0.053171        0.040976  0.003252   \n",
       "fire insurance (R$)  0.302493  0.502531  0.584074        0.519922  0.018517   \n",
       "total (R$)           0.037181  0.034831  0.102286        0.042786  0.977281   \n",
       "\n",
       "                     rent amount (R$)  property tax (R$)  fire insurance (R$)  \\\n",
       "area                         0.275710           0.021635             0.302493   \n",
       "rooms                        0.469711           0.026507             0.502531   \n",
       "bathroom                     0.570402           0.053171             0.584074   \n",
       "parking spaces               0.490620           0.040976             0.519922   \n",
       "hoa (R$)                     0.023094           0.003252             0.018517   \n",
       "rent amount (R$)             1.000000           0.041300             0.974204   \n",
       "property tax (R$)            0.041300           1.000000             0.038151   \n",
       "fire insurance (R$)          0.974204           0.038151             1.000000   \n",
       "total (R$)                   0.106192           0.201202             0.099218   \n",
       "\n",
       "                     total (R$)  \n",
       "area                   0.037181  \n",
       "rooms                  0.034831  \n",
       "bathroom               0.102286  \n",
       "parking spaces         0.042786  \n",
       "hoa (R$)               0.977281  \n",
       "rent amount (R$)       0.106192  \n",
       "property tax (R$)      0.201202  \n",
       "fire insurance (R$)    0.099218  \n",
       "total (R$)             1.000000  "
      ]
     },
     "execution_count": 574,
     "metadata": {},
     "output_type": "execute_result"
    }
   ],
   "source": [
    "dfcutoff.corr()"
   ]
  },
  {
   "cell_type": "code",
   "execution_count": 575,
   "metadata": {},
   "outputs": [
    {
     "data": {
      "text/html": [
       "<div>\n",
       "<style scoped>\n",
       "    .dataframe tbody tr th:only-of-type {\n",
       "        vertical-align: middle;\n",
       "    }\n",
       "\n",
       "    .dataframe tbody tr th {\n",
       "        vertical-align: top;\n",
       "    }\n",
       "\n",
       "    .dataframe thead th {\n",
       "        text-align: right;\n",
       "    }\n",
       "</style>\n",
       "<table border=\"1\" class=\"dataframe\">\n",
       "  <thead>\n",
       "    <tr style=\"text-align: right;\">\n",
       "      <th></th>\n",
       "      <th>parking spaces</th>\n",
       "      <th>fire insurance (R$)</th>\n",
       "      <th>furniture_not furnished</th>\n",
       "    </tr>\n",
       "  </thead>\n",
       "  <tbody>\n",
       "    <tr>\n",
       "      <th>0</th>\n",
       "      <td>1</td>\n",
       "      <td>42</td>\n",
       "      <td>0</td>\n",
       "    </tr>\n",
       "    <tr>\n",
       "      <th>1</th>\n",
       "      <td>0</td>\n",
       "      <td>63</td>\n",
       "      <td>1</td>\n",
       "    </tr>\n",
       "    <tr>\n",
       "      <th>2</th>\n",
       "      <td>1</td>\n",
       "      <td>41</td>\n",
       "      <td>1</td>\n",
       "    </tr>\n",
       "    <tr>\n",
       "      <th>3</th>\n",
       "      <td>0</td>\n",
       "      <td>17</td>\n",
       "      <td>1</td>\n",
       "    </tr>\n",
       "    <tr>\n",
       "      <th>4</th>\n",
       "      <td>0</td>\n",
       "      <td>11</td>\n",
       "      <td>1</td>\n",
       "    </tr>\n",
       "    <tr>\n",
       "      <th>...</th>\n",
       "      <td>...</td>\n",
       "      <td>...</td>\n",
       "      <td>...</td>\n",
       "    </tr>\n",
       "    <tr>\n",
       "      <th>10682</th>\n",
       "      <td>3</td>\n",
       "      <td>49</td>\n",
       "      <td>0</td>\n",
       "    </tr>\n",
       "    <tr>\n",
       "      <th>10683</th>\n",
       "      <td>2</td>\n",
       "      <td>51</td>\n",
       "      <td>1</td>\n",
       "    </tr>\n",
       "    <tr>\n",
       "      <th>10684</th>\n",
       "      <td>0</td>\n",
       "      <td>51</td>\n",
       "      <td>1</td>\n",
       "    </tr>\n",
       "    <tr>\n",
       "      <th>10687</th>\n",
       "      <td>1</td>\n",
       "      <td>22</td>\n",
       "      <td>0</td>\n",
       "    </tr>\n",
       "    <tr>\n",
       "      <th>10691</th>\n",
       "      <td>0</td>\n",
       "      <td>22</td>\n",
       "      <td>1</td>\n",
       "    </tr>\n",
       "  </tbody>\n",
       "</table>\n",
       "<p>8515 rows × 3 columns</p>\n",
       "</div>"
      ],
      "text/plain": [
       "       parking spaces  fire insurance (R$)  furniture_not furnished\n",
       "0                   1                   42                        0\n",
       "1                   0                   63                        1\n",
       "2                   1                   41                        1\n",
       "3                   0                   17                        1\n",
       "4                   0                   11                        1\n",
       "...               ...                  ...                      ...\n",
       "10682               3                   49                        0\n",
       "10683               2                   51                        1\n",
       "10684               0                   51                        1\n",
       "10687               1                   22                        0\n",
       "10691               0                   22                        1\n",
       "\n",
       "[8515 rows x 3 columns]"
      ]
     },
     "execution_count": 575,
     "metadata": {},
     "output_type": "execute_result"
    }
   ],
   "source": [
    "\n",
    "\n",
    "X = dfdum\n",
    "y = dfcutoff[target]\n",
    "X_train, X_test, y_train, y_test = train_test_split(X, y, test_size = 0.2)\n",
    "X\n",
    "\n"
   ]
  },
  {
   "cell_type": "code",
   "execution_count": 576,
   "metadata": {},
   "outputs": [
    {
     "data": {
      "text/plain": [
       "parking spaces             2.712917\n",
       "fire insurance (R$)        3.587623\n",
       "furniture_not furnished    2.239182\n",
       "dtype: float64"
      ]
     },
     "execution_count": 576,
     "metadata": {},
     "output_type": "execute_result"
    }
   ],
   "source": [
    "from statsmodels.stats.outliers_influence import variance_inflation_factor\n",
    "\n",
    "pd.Series([variance_inflation_factor(X.values, i) \n",
    "               for i in range(X.shape[1])], \n",
    "              index=X.columns)"
   ]
  },
  {
   "cell_type": "code",
   "execution_count": 577,
   "metadata": {},
   "outputs": [
    {
     "data": {
      "text/html": [
       "<table class=\"simpletable\">\n",
       "<caption>OLS Regression Results</caption>\n",
       "<tr>\n",
       "  <th>Dep. Variable:</th>    <td>rent amount (R$)</td> <th>  R-squared:         </th> <td>   0.953</td> \n",
       "</tr>\n",
       "<tr>\n",
       "  <th>Model:</th>                   <td>OLS</td>       <th>  Adj. R-squared:    </th> <td>   0.953</td> \n",
       "</tr>\n",
       "<tr>\n",
       "  <th>Method:</th>             <td>Least Squares</td>  <th>  F-statistic:       </th> <td>4.563e+04</td>\n",
       "</tr>\n",
       "<tr>\n",
       "  <th>Date:</th>             <td>Thu, 04 Jun 2020</td> <th>  Prob (F-statistic):</th>  <td>  0.00</td>  \n",
       "</tr>\n",
       "<tr>\n",
       "  <th>Time:</th>                 <td>16:52:25</td>     <th>  Log-Likelihood:    </th> <td> -48180.</td> \n",
       "</tr>\n",
       "<tr>\n",
       "  <th>No. Observations:</th>      <td>  6812</td>      <th>  AIC:               </th> <td>9.637e+04</td>\n",
       "</tr>\n",
       "<tr>\n",
       "  <th>Df Residuals:</th>          <td>  6808</td>      <th>  BIC:               </th> <td>9.640e+04</td>\n",
       "</tr>\n",
       "<tr>\n",
       "  <th>Df Model:</th>              <td>     3</td>      <th>                     </th>     <td> </td>    \n",
       "</tr>\n",
       "<tr>\n",
       "  <th>Covariance Type:</th>      <td>nonrobust</td>    <th>                     </th>     <td> </td>    \n",
       "</tr>\n",
       "</table>\n",
       "<table class=\"simpletable\">\n",
       "<tr>\n",
       "             <td></td>                <th>coef</th>     <th>std err</th>      <th>t</th>      <th>P>|t|</th>  <th>[0.025</th>    <th>0.975]</th>  \n",
       "</tr>\n",
       "<tr>\n",
       "  <th>const</th>                   <td>  219.6656</td> <td>   10.589</td> <td>   20.744</td> <td> 0.000</td> <td>  198.907</td> <td>  240.424</td>\n",
       "</tr>\n",
       "<tr>\n",
       "  <th>parking spaces</th>          <td>  -17.9041</td> <td>    3.282</td> <td>   -5.455</td> <td> 0.000</td> <td>  -24.338</td> <td>  -11.470</td>\n",
       "</tr>\n",
       "<tr>\n",
       "  <th>fire insurance (R$)</th>     <td>   70.4524</td> <td>    0.227</td> <td>  310.257</td> <td> 0.000</td> <td>   70.007</td> <td>   70.898</td>\n",
       "</tr>\n",
       "<tr>\n",
       "  <th>furniture_not furnished</th> <td> -120.7944</td> <td>    8.596</td> <td>  -14.052</td> <td> 0.000</td> <td> -137.646</td> <td> -103.943</td>\n",
       "</tr>\n",
       "</table>\n",
       "<table class=\"simpletable\">\n",
       "<tr>\n",
       "  <th>Omnibus:</th>       <td>2510.963</td> <th>  Durbin-Watson:     </th> <td>   1.957</td> \n",
       "</tr>\n",
       "<tr>\n",
       "  <th>Prob(Omnibus):</th>  <td> 0.000</td>  <th>  Jarque-Bera (JB):  </th> <td>60258.374</td>\n",
       "</tr>\n",
       "<tr>\n",
       "  <th>Skew:</th>           <td> 1.213</td>  <th>  Prob(JB):          </th> <td>    0.00</td> \n",
       "</tr>\n",
       "<tr>\n",
       "  <th>Kurtosis:</th>       <td>17.367</td>  <th>  Cond. No.          </th> <td>    140.</td> \n",
       "</tr>\n",
       "</table><br/><br/>Warnings:<br/>[1] Standard Errors assume that the covariance matrix of the errors is correctly specified."
      ],
      "text/plain": [
       "<class 'statsmodels.iolib.summary.Summary'>\n",
       "\"\"\"\n",
       "                            OLS Regression Results                            \n",
       "==============================================================================\n",
       "Dep. Variable:       rent amount (R$)   R-squared:                       0.953\n",
       "Model:                            OLS   Adj. R-squared:                  0.953\n",
       "Method:                 Least Squares   F-statistic:                 4.563e+04\n",
       "Date:                Thu, 04 Jun 2020   Prob (F-statistic):               0.00\n",
       "Time:                        16:52:25   Log-Likelihood:                -48180.\n",
       "No. Observations:                6812   AIC:                         9.637e+04\n",
       "Df Residuals:                    6808   BIC:                         9.640e+04\n",
       "Df Model:                           3                                         \n",
       "Covariance Type:            nonrobust                                         \n",
       "===========================================================================================\n",
       "                              coef    std err          t      P>|t|      [0.025      0.975]\n",
       "-------------------------------------------------------------------------------------------\n",
       "const                     219.6656     10.589     20.744      0.000     198.907     240.424\n",
       "parking spaces            -17.9041      3.282     -5.455      0.000     -24.338     -11.470\n",
       "fire insurance (R$)        70.4524      0.227    310.257      0.000      70.007      70.898\n",
       "furniture_not furnished  -120.7944      8.596    -14.052      0.000    -137.646    -103.943\n",
       "==============================================================================\n",
       "Omnibus:                     2510.963   Durbin-Watson:                   1.957\n",
       "Prob(Omnibus):                  0.000   Jarque-Bera (JB):            60258.374\n",
       "Skew:                           1.213   Prob(JB):                         0.00\n",
       "Kurtosis:                      17.367   Cond. No.                         140.\n",
       "==============================================================================\n",
       "\n",
       "Warnings:\n",
       "[1] Standard Errors assume that the covariance matrix of the errors is correctly specified.\n",
       "\"\"\""
      ]
     },
     "execution_count": 577,
     "metadata": {},
     "output_type": "execute_result"
    }
   ],
   "source": [
    "X_ols = X_train.copy()\n",
    "X_ols = sm.add_constant(X_ols)\n",
    "results = sm.OLS(y_train,X_ols).fit()\n",
    "results.summary()"
   ]
  },
  {
   "cell_type": "code",
   "execution_count": 578,
   "metadata": {},
   "outputs": [
    {
     "data": {
      "text/plain": [
       "<matplotlib.axes._subplots.AxesSubplot at 0x7f9e46c85f50>"
      ]
     },
     "execution_count": 578,
     "metadata": {},
     "output_type": "execute_result"
    },
    {
     "data": {
      "image/png": "[encoded data removed]",
      "text/plain": [
       "<Figure size 432x288 with 1 Axes>"
      ]
     },
     "metadata": {},
     "output_type": "display_data"
    }
   ],
   "source": [
    "c_list = [10**x for x in range(-2, 5)]\n",
    "knn = KNeighborsRegressor(n_neighbors = 1)\n",
    "knn.fit(X_train,y_train)\n",
    "y_pred = knn.predict(X_train)\n",
    "sns.scatterplot(y_train, y_pred)"
   ]
  },
  {
   "cell_type": "code",
   "execution_count": 579,
   "metadata": {},
   "outputs": [
    {
     "name": "stdout",
     "output_type": "stream",
     "text": [
      "581     -2130.0\n",
      "3886    -1600.0\n",
      "6577    -1450.0\n",
      "1285    -1430.0\n",
      "2109    -1360.0\n",
      "          ...  \n",
      "4029     2300.0\n",
      "10308    2450.0\n",
      "9897     2450.0\n",
      "6042     2600.0\n",
      "1337     3000.0\n",
      "Name: rent amount (R$), Length: 6812, dtype: float64\n"
     ]
    },
    {
     "data": {
      "text/plain": [
       "<matplotlib.axes._subplots.AxesSubplot at 0x7f9e46ae6bd0>"
      ]
     },
     "execution_count": 579,
     "metadata": {},
     "output_type": "execute_result"
    },
    {
     "data": {
      "image/png": "[encoded data removed]",
      "text/plain": [
       "<Figure size 432x288 with 1 Axes>"
      ]
     },
     "metadata": {},
     "output_type": "display_data"
    }
   ],
   "source": [
    "err = y_train-y_pred\n",
    "print(err.sort_values())\n",
    "sns.scatterplot(y_pred,err)"
   ]
  },
  {
   "cell_type": "code",
   "execution_count": 580,
   "metadata": {},
   "outputs": [
    {
     "name": "stdout",
     "output_type": "stream",
     "text": [
      "Unweighted Accuracy: 0.93 (+/- 0.02)\n"
     ]
    }
   ],
   "source": [
    "score = cross_val_score(knn, X_train, y_train, cv=5)\n",
    "print(\"Unweighted Accuracy: %0.2f (+/- %0.2f)\" % (score.mean(), score.std() * 2))\n",
    "# score_w = cross_val_score(knn_w, X, Y, cv=5)\n",
    "# print(\"Weighted Accuracy: %0.2f (+/- %0.2f)\" % (score_w.mean(), score_w.std() * 2))"
   ]
  },
  {
   "cell_type": "code",
   "execution_count": null,
   "metadata": {},
   "outputs": [],
   "source": []
  },
  {
   "cell_type": "code",
   "execution_count": null,
   "metadata": {},
   "outputs": [],
   "source": []
  },
  {
   "cell_type": "code",
   "execution_count": null,
   "metadata": {},
   "outputs": [],
   "source": []
  }
 ],
 "metadata": {
  "kernelspec": {
   "display_name": "Python 3",
   "language": "python",
   "name": "python3"
  },
  "language_info": {
   "codemirror_mode": {
    "name": "ipython",
    "version": 3
   },
   "file_extension": ".py",
   "mimetype": "text/x-python",
   "name": "python",
   "nbconvert_exporter": "python",
   "pygments_lexer": "ipython3",
   "version": "3.7.4"
  }
 },
 "nbformat": 4,
 "nbformat_minor": 4
}
