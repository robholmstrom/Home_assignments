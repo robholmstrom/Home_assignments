{
 "cells": [
  {
   "cell_type": "code",
   "execution_count": 592,
   "metadata": {},
   "outputs": [
    {
     "name": "stdout",
     "output_type": "stream",
     "text": [
      "Requirement already satisfied: en_core_web_sm==2.1.0 from https://github.com/explosion/spacy-models/releases/download/en_core_web_sm-2.1.0/en_core_web_sm-2.1.0.tar.gz#egg=en_core_web_sm==2.1.0 in /Users/robholmstrom/miniconda3/lib/python3.7/site-packages (2.1.0)\n",
      "\u001b[38;5;2m✔ Download and installation successful\u001b[0m\n",
      "You can now load the model via spacy.load('en_core_web_sm')\n",
      "\u001b[38;5;2m✔ Linking successful\u001b[0m\n",
      "/Users/robholmstrom/miniconda3/lib/python3.7/site-packages/en_core_web_sm -->\n",
      "/Users/robholmstrom/miniconda3/lib/python3.7/site-packages/spacy/data/en\n",
      "You can now load the model via spacy.load('en')\n"
     ]
    }
   ],
   "source": [
    "import pandas as pd\n",
    "import numpy as np\n",
    "from collections import Counter\n",
    "import nltk\n",
    "import spacy\n",
    "import re\n",
    "from nltk.stem.wordnet import WordNetLemmatizer\n",
    "import markovify\n",
    "from sklearn.linear_model import LogisticRegression\n",
    "from sklearn.ensemble import RandomForestClassifier, GradientBoostingClassifier\n",
    "from sklearn.model_selection import train_test_split\n",
    "from nltk import pos_tag\n",
    "from nltk.text import Text\n",
    "from nltk import sent_tokenize\n",
    "from nltk import word_tokenize\n",
    "from nltk.corpus import stopwords\n",
    "from nltk.probability import FreqDist\n",
    "from nltk.corpus.reader.plaintext import PlaintextCorpusReader\n",
    "import matplotlib.pyplot as plt\n",
    "import seaborn as sns\n",
    "from wordcloud import WordCloud, STOPWORDS\n",
    "from sklearn.feature_extraction.text import CountVectorizer\n",
    "!python -m spacy download en\n",
    "import gensim\n",
    "from sklearn.feature_extraction.text import TfidfVectorizer\n",
    "import requests\n",
    "from datetime import datetime as dt\n",
    "\n"
   ]
  },
  {
   "cell_type": "markdown",
   "metadata": {},
   "source": [
    "## About dataset:\n",
    "In response to the COVID-19 pandemic, a free resource of over 7,000 news articles from Canada with full text, about COVID-19 and the coronavirus family of viruses for use by the global research community.\n",
    "\n",
    "This dataset is intended to mobilize researchers to apply recent advances in natural language processing to generate new insights in support of the fight against this infectious disease and future pandemics. The news articles will be updated weekly and more news agencies covering more countries will be continuously added at a later date.\n",
    "\n",
    "https://www.kaggle.com/ryanxjhan/cbc-news-coronavirus-articles-march-26"
   ]
  },
  {
   "cell_type": "code",
   "execution_count": 593,
   "metadata": {},
   "outputs": [],
   "source": [
    "df = pd.read_csv('/Users/robholmstrom/OneDrive/Gitrepos/nonrepo_files/news.csv')"
   ]
  },
  {
   "cell_type": "code",
   "execution_count": 594,
   "metadata": {},
   "outputs": [
    {
     "data": {
      "text/html": [
       "<div>\n",
       "<style scoped>\n",
       "    .dataframe tbody tr th:only-of-type {\n",
       "        vertical-align: middle;\n",
       "    }\n",
       "\n",
       "    .dataframe tbody tr th {\n",
       "        vertical-align: top;\n",
       "    }\n",
       "\n",
       "    .dataframe thead th {\n",
       "        text-align: right;\n",
       "    }\n",
       "</style>\n",
       "<table border=\"1\" class=\"dataframe\">\n",
       "  <thead>\n",
       "    <tr style=\"text-align: right;\">\n",
       "      <th></th>\n",
       "      <th>Unnamed: 0</th>\n",
       "      <th>authors</th>\n",
       "      <th>title</th>\n",
       "      <th>publish_date</th>\n",
       "      <th>description</th>\n",
       "      <th>text</th>\n",
       "      <th>url</th>\n",
       "    </tr>\n",
       "  </thead>\n",
       "  <tbody>\n",
       "    <tr>\n",
       "      <th>0</th>\n",
       "      <td>0</td>\n",
       "      <td>[]</td>\n",
       "      <td>'More vital now:' Gay-straight alliances go vi...</td>\n",
       "      <td>2020-05-03 1:30</td>\n",
       "      <td>Lily Overacker and Laurell Pallot start each g...</td>\n",
       "      <td>Lily Overacker and Laurell Pallot start each g...</td>\n",
       "      <td>https://www.cbc.ca/news/canada/calgary/gay-str...</td>\n",
       "    </tr>\n",
       "    <tr>\n",
       "      <th>1</th>\n",
       "      <td>1</td>\n",
       "      <td>[]</td>\n",
       "      <td>Scientists aim to 'see' invisible transmission...</td>\n",
       "      <td>2020-05-02 8:00</td>\n",
       "      <td>Some researchers aim to learn more about how t...</td>\n",
       "      <td>This is an excerpt from Second Opinion, a week...</td>\n",
       "      <td>https://www.cbc.ca/news/technology/droplet-tra...</td>\n",
       "    </tr>\n",
       "    <tr>\n",
       "      <th>2</th>\n",
       "      <td>2</td>\n",
       "      <td>['The Canadian Press']</td>\n",
       "      <td>Coronavirus: What's happening in Canada and ar...</td>\n",
       "      <td>2020-05-02 11:28</td>\n",
       "      <td>Canada's chief public health officer struck an...</td>\n",
       "      <td>The latest:  The lives behind the numbers: Wha...</td>\n",
       "      <td>https://www.cbc.ca/news/canada/coronavirus-cov...</td>\n",
       "    </tr>\n",
       "    <tr>\n",
       "      <th>3</th>\n",
       "      <td>3</td>\n",
       "      <td>[]</td>\n",
       "      <td>B.C. announces 26 new coronavirus cases, new c...</td>\n",
       "      <td>2020-05-02 18:45</td>\n",
       "      <td>B.C. provincial health officer Dr. Bonnie Henr...</td>\n",
       "      <td>B.C. provincial health officer Dr. Bonnie Henr...</td>\n",
       "      <td>https://www.cbc.ca/news/canada/british-columbi...</td>\n",
       "    </tr>\n",
       "    <tr>\n",
       "      <th>4</th>\n",
       "      <td>4</td>\n",
       "      <td>[]</td>\n",
       "      <td>B.C. announces 26 new coronavirus cases, new c...</td>\n",
       "      <td>2020-05-02 18:45</td>\n",
       "      <td>B.C. provincial health officer Dr. Bonnie Henr...</td>\n",
       "      <td>B.C. provincial health officer Dr. Bonnie Henr...</td>\n",
       "      <td>https://www.cbc.ca/news/canada/british-columbi...</td>\n",
       "    </tr>\n",
       "  </tbody>\n",
       "</table>\n",
       "</div>"
      ],
      "text/plain": [
       "  Unnamed: 0                 authors  \\\n",
       "0          0                      []   \n",
       "1          1                      []   \n",
       "2          2  ['The Canadian Press']   \n",
       "3          3                      []   \n",
       "4          4                      []   \n",
       "\n",
       "                                               title      publish_date  \\\n",
       "0  'More vital now:' Gay-straight alliances go vi...   2020-05-03 1:30   \n",
       "1  Scientists aim to 'see' invisible transmission...   2020-05-02 8:00   \n",
       "2  Coronavirus: What's happening in Canada and ar...  2020-05-02 11:28   \n",
       "3  B.C. announces 26 new coronavirus cases, new c...  2020-05-02 18:45   \n",
       "4  B.C. announces 26 new coronavirus cases, new c...  2020-05-02 18:45   \n",
       "\n",
       "                                         description  \\\n",
       "0  Lily Overacker and Laurell Pallot start each g...   \n",
       "1  Some researchers aim to learn more about how t...   \n",
       "2  Canada's chief public health officer struck an...   \n",
       "3  B.C. provincial health officer Dr. Bonnie Henr...   \n",
       "4  B.C. provincial health officer Dr. Bonnie Henr...   \n",
       "\n",
       "                                                text  \\\n",
       "0  Lily Overacker and Laurell Pallot start each g...   \n",
       "1  This is an excerpt from Second Opinion, a week...   \n",
       "2  The latest:  The lives behind the numbers: Wha...   \n",
       "3  B.C. provincial health officer Dr. Bonnie Henr...   \n",
       "4  B.C. provincial health officer Dr. Bonnie Henr...   \n",
       "\n",
       "                                                 url  \n",
       "0  https://www.cbc.ca/news/canada/calgary/gay-str...  \n",
       "1  https://www.cbc.ca/news/technology/droplet-tra...  \n",
       "2  https://www.cbc.ca/news/canada/coronavirus-cov...  \n",
       "3  https://www.cbc.ca/news/canada/british-columbi...  \n",
       "4  https://www.cbc.ca/news/canada/british-columbi...  "
      ]
     },
     "execution_count": 594,
     "metadata": {},
     "output_type": "execute_result"
    }
   ],
   "source": [
    "df.head()"
   ]
  },
  {
   "cell_type": "code",
   "execution_count": 595,
   "metadata": {},
   "outputs": [],
   "source": [
    "#drop nulls since there are so few\n",
    "\n",
    "df.dropna(inplace=True)"
   ]
  },
  {
   "cell_type": "code",
   "execution_count": 672,
   "metadata": {},
   "outputs": [],
   "source": [
    "#get rid of duplicates\n",
    "df.drop_duplicates(inplace= True)"
   ]
  },
  {
   "cell_type": "code",
   "execution_count": 673,
   "metadata": {},
   "outputs": [
    {
     "name": "stdout",
     "output_type": "stream",
     "text": [
      "<class 'pandas.core.frame.DataFrame'>\n",
      "Int64Index: 6770 entries, 0 to 6787\n",
      "Data columns (total 9 columns):\n",
      " #   Column        Non-Null Count  Dtype         \n",
      "---  ------        --------------  -----         \n",
      " 0   Unnamed: 0    6770 non-null   object        \n",
      " 1   authors       6770 non-null   object        \n",
      " 2   title         6770 non-null   object        \n",
      " 3   publish_date  6770 non-null   datetime64[ns]\n",
      " 4   description   6770 non-null   object        \n",
      " 5   text          6770 non-null   object        \n",
      " 6   url           6770 non-null   object        \n",
      " 7   date          6770 non-null   object        \n",
      " 8   weekday       6770 non-null   object        \n",
      "dtypes: datetime64[ns](1), object(8)\n",
      "memory usage: 528.9+ KB\n"
     ]
    }
   ],
   "source": [
    "df.info()"
   ]
  },
  {
   "cell_type": "code",
   "execution_count": 674,
   "metadata": {},
   "outputs": [
    {
     "data": {
      "text/plain": [
       "'The Canadian Press'"
      ]
     },
     "execution_count": 674,
     "metadata": {},
     "output_type": "execute_result"
    }
   ],
   "source": [
    "#investigate the string structure before stripping the bracket and quotes\n",
    "df.authors[2]"
   ]
  },
  {
   "cell_type": "code",
   "execution_count": 675,
   "metadata": {},
   "outputs": [],
   "source": [
    "# Strip unnecessary character from string object:\n",
    "df.authors = df.authors.str.strip(\"[]'\")\n",
    "df.title = df.title.str.strip(\"'\")"
   ]
  },
  {
   "cell_type": "code",
   "execution_count": 676,
   "metadata": {},
   "outputs": [],
   "source": [
    "# Convert time string to datetime\n",
    "df.publish_date = pd.to_datetime(df.publish_date)"
   ]
  },
  {
   "cell_type": "code",
   "execution_count": 677,
   "metadata": {},
   "outputs": [],
   "source": [
    "# Make column with just string\n",
    "df['date'] = df.publish_date.dt.date"
   ]
  },
  {
   "cell_type": "code",
   "execution_count": 678,
   "metadata": {},
   "outputs": [],
   "source": [
    "# Make column with just weekday name\n",
    "df['weekday'] = df['publish_date'].dt.day_name()"
   ]
  },
  {
   "cell_type": "code",
   "execution_count": 679,
   "metadata": {},
   "outputs": [
    {
     "data": {
      "text/html": [
       "<div>\n",
       "<style scoped>\n",
       "    .dataframe tbody tr th:only-of-type {\n",
       "        vertical-align: middle;\n",
       "    }\n",
       "\n",
       "    .dataframe tbody tr th {\n",
       "        vertical-align: top;\n",
       "    }\n",
       "\n",
       "    .dataframe thead th {\n",
       "        text-align: right;\n",
       "    }\n",
       "</style>\n",
       "<table border=\"1\" class=\"dataframe\">\n",
       "  <thead>\n",
       "    <tr style=\"text-align: right;\">\n",
       "      <th></th>\n",
       "      <th>Unnamed: 0</th>\n",
       "      <th>authors</th>\n",
       "      <th>title</th>\n",
       "      <th>publish_date</th>\n",
       "      <th>description</th>\n",
       "      <th>text</th>\n",
       "      <th>url</th>\n",
       "      <th>date</th>\n",
       "      <th>weekday</th>\n",
       "    </tr>\n",
       "  </thead>\n",
       "  <tbody>\n",
       "    <tr>\n",
       "      <th>0</th>\n",
       "      <td>0</td>\n",
       "      <td></td>\n",
       "      <td>More vital now:' Gay-straight alliances go vir...</td>\n",
       "      <td>2020-05-03 01:30:00</td>\n",
       "      <td>Lily Overacker and Laurell Pallot start each g...</td>\n",
       "      <td>Lily Overacker and Laurell Pallot start each g...</td>\n",
       "      <td>https://www.cbc.ca/news/canada/calgary/gay-str...</td>\n",
       "      <td>2020-05-03</td>\n",
       "      <td>Sunday</td>\n",
       "    </tr>\n",
       "    <tr>\n",
       "      <th>1</th>\n",
       "      <td>1</td>\n",
       "      <td></td>\n",
       "      <td>Scientists aim to 'see' invisible transmission...</td>\n",
       "      <td>2020-05-02 08:00:00</td>\n",
       "      <td>Some researchers aim to learn more about how t...</td>\n",
       "      <td>This is an excerpt from Second Opinion, a week...</td>\n",
       "      <td>https://www.cbc.ca/news/technology/droplet-tra...</td>\n",
       "      <td>2020-05-02</td>\n",
       "      <td>Saturday</td>\n",
       "    </tr>\n",
       "  </tbody>\n",
       "</table>\n",
       "</div>"
      ],
      "text/plain": [
       "  Unnamed: 0 authors                                              title  \\\n",
       "0          0          More vital now:' Gay-straight alliances go vir...   \n",
       "1          1          Scientists aim to 'see' invisible transmission...   \n",
       "\n",
       "         publish_date                                        description  \\\n",
       "0 2020-05-03 01:30:00  Lily Overacker and Laurell Pallot start each g...   \n",
       "1 2020-05-02 08:00:00  Some researchers aim to learn more about how t...   \n",
       "\n",
       "                                                text  \\\n",
       "0  Lily Overacker and Laurell Pallot start each g...   \n",
       "1  This is an excerpt from Second Opinion, a week...   \n",
       "\n",
       "                                                 url        date   weekday  \n",
       "0  https://www.cbc.ca/news/canada/calgary/gay-str...  2020-05-03    Sunday  \n",
       "1  https://www.cbc.ca/news/technology/droplet-tra...  2020-05-02  Saturday  "
      ]
     },
     "execution_count": 679,
     "metadata": {},
     "output_type": "execute_result"
    }
   ],
   "source": [
    "df.head(2)"
   ]
  },
  {
   "cell_type": "code",
   "execution_count": 680,
   "metadata": {},
   "outputs": [
    {
     "data": {
      "text/plain": [
       "2020    6770\n",
       "Name: publish_date, dtype: int64"
      ]
     },
     "execution_count": 680,
     "metadata": {},
     "output_type": "execute_result"
    }
   ],
   "source": [
    "# check counts for years included for articles\n",
    "df['publish_date'].dt.year.value_counts()"
   ]
  },
  {
   "cell_type": "code",
   "execution_count": 681,
   "metadata": {},
   "outputs": [],
   "source": [
    "# Looks like there might be some mistaken date values (2012 and 2013), so will eliminate all but 2020 rows\n",
    "df = df[df['publish_date'].dt.year==2020]"
   ]
  },
  {
   "cell_type": "code",
   "execution_count": 682,
   "metadata": {},
   "outputs": [
    {
     "data": {
      "text/plain": [
       "array(['', 'The Canadian Press',\n",
       "       \"Senior Writer', 'Chris Arsenault Is A Senior Writer Who Joined Cbc News In Toronto After A Decade As A Foreign Correspondent With Al Jazeera', 'The Thomson Reuters Foundation In South America', 'Europe', 'The Middle East.\",\n",
       "       'Cbc News',\n",
       "       'Senior Writer\\', \"Adam Miller Is Senior Digital Writer With Cbc News. He\\'S Covered Health\", \\'Politics\\', \\'Breaking News Extensively In Canada\\', \\'In Addition To Several Years Reporting On News\\', \\'Current Affairs Throughout Asia.',\n",
       "       'Thomson Reuters', 'The Associated Press',\n",
       "       'Video Journalist\\', \"Colin Butler Is A Veteran Cbc Reporter Who\\'S Worked In Moncton\", \\'Saint John\\', \\'Fredericton\\', \\'Toronto\\', \\'Kitchener-Waterloo\\', \\'Hamilton\\', \\'London\\', \\'Ont. Email\\', \\'Colin.Butler Cbc.Ca',\n",
       "       'Benjamin Shingler Is A Journalist With Cbc Montreal. Follow Him On Twitter',\n",
       "       'Tory Gillis Began Work As A Journalist With Cbc Saskatchewan In You Can Hear Her Deliver The Afternoon News On Weekdays On Cbc Radio One In Saskatchewan. She Has Also Worked As A Reporter\\', \"As An Associate Producer On Cbc Saskatchewan\\'S Radio Shows\", \\'The Morning Edition\\', \\'Bluesky\\', \\'The Afternoon Edition.',\n",
       "       'For Cbc News',\n",
       "       \"Los Angeles Correspondent', 'Kim Brunhuber Is A Cbc News Senior Reporter Based In Los Angeles. He Has Travelled The World Sierra Leone To Afghanistan As A Videojournalist', 'Shooting', 'Editing Pieces For Tv', 'Radio', 'Online. Originally Montreal', 'He Speaks French', 'Spanish', 'Is Also A Published Novelist.\",\n",
       "       \"Medical Science', 'Kelly Crowe Is A Science Correspondent For Cbc News. She Joined Cbc In', 'Has Spent Years Reporting On A Wide Range Of National News', 'Current Affairs', 'With A Particular Interest In Science\",\n",
       "       \"Bryce Hoye Is An Award-Winning Journalist', 'Science Writer With A Background In Wildlife Biology', 'Interests In Courts', 'Social Justice', 'Health', 'More. He Is The Prairie Rep For Outcbc. Story Idea', 'Email Bryce.Hoye Cbc.Ca.', 'Email', 'Bryce.Hoye Cbc.Ca', 'More Bryce Hoye\",\n",
       "       'Connell Smith Is A Reporter With Cbc In Saint John. He Can Be Reached At Connell.Smith Cbc.Ca',\n",
       "       'Investigative Reporter\\', \\'Cbc Manitoba I-Team\\', \\'Caroline Began Her Career Co-Hosting An Internet Radio Talk Show In Toronto\\', \\'Then Worked At Various Stations In Oshawa\\', \\'Sudbury\\', \\'Toronto Before Landing In Winnipeg In Since Joining Cbc Manitoba As A Reporter In\\', \\'She Has Won An Award For Her Work On Crowded Jails\\', \"Her Investigation Into Tina Fontaine\\'S Death Led To Changes In The Child Welfare System. Email\", \\'Caroline.Barghout Cbc.Ca\\', \\'Twitter',\n",
       "       \"Michelle Ghoussoub Is A Journalist With Cbc News In Vancouver. She Has Previously Reported In Lebanon', 'Chile. Reach Her At Michelle.Ghoussoub Cbc.Ca Or On Twitter\",\n",
       "       'Correspondent\\', \\'Documentary Maker\\', \\'Terence Mckenna Has Reported Extensively On Domestic\\', \\'International Affairs For More Than Years. His Cbc Documentaries Have Won Numerous Awards In Canada\\', \\'The U.K.\\', \\'The U.S. Based In Toronto\\', \"He Now Reports For Cbc\\'S The National.\"',\n",
       "       'Senior Correspondent\\', \"Susan Ormiston\\'S Career Spans More Than Years Reporting Hot Spots Such As Afghanistan\", \\'Egypt\\', \\'Libya\\', \\'Haiti\\', \\'Lebanon\\', \\'South Africa.\\', \\'Video Susan Ormiston',\n",
       "       'Winnipeg Free Press',\n",
       "       \"Two Years Ago Jenalene Antony', 'Opened A Design Studio In Shields', 'Sask.', 'With A Focus On Rural Issues.', 'As A Designer She Has Worked On Teams With Environment Canada', 'The University Of Saskatchewan', 'The University Of Calgary Telling Stories About Sustainability', 'Social Change. She Got Her Start As A Reporter At The Yorkton News Review. She Went On To Co-Host Cfcr Radio S Pocket Mulch', 'Access Television S Talk Of The Town.\",\n",
       "       \"Sam Samson Is A Multimedia Journalist Who Has Worked For Cbc In Manitoba', 'Ontario As A Reporter', 'Associate Producer. Before Working For Cbc', 'She Studied Journalism', 'Communications In Winnipeg. You Can Get In Touch On Twitter', 'Cbcsamsamson Or Email Samantha.Samson Cbc.Ca.\",\n",
       "       'Devin Pacholik Writes Very Important Comedy Journalism In Regina. You Can Follow Him On Twitter At',\n",
       "       '\"Shiu-Yik Au Is An Assistant Professor Of Finance With The University Of Manitoba\\'S Asper School Of Business. His Research Focuses On The Impact Of Intangibles\", \\'Such As Corporate Culture\\', \\'Innovation\\', \\'Ethics On Corporate Outcomes. He Completed A Phd In Finance At York University\\', \\'Holds An Mba Cornell University\\', \\'An Mba Queen S University\\', \\'A Cfa Charter. He Is A Member Of The Manitoba Progressive Conservative Party\\', \"Is The Treasurer Of The Federal Conservative Party\\'S Saint Boniface Saint Vital Association.\"',\n",
       "       '\"Ashley Burke Is A Senior Reporter With Cbc\\'S Parliamentary Bureau. Have A Story Idea\", \\'Email Her At Ashley.Burke Cbc.Ca',\n",
       "       \"Katie Simpson Is A Foreign Correspondent With Cbc News Based In Washington. Prior To Joining The Team In D.C. She Spent Six Years Covering Parliament Hill In Ottawa', 'Nearly A Decade Covering Local', 'Provincial Issues In Toronto.', 'Follow', 'Cbckatie On Twitter', 'More Katie Simpson\",\n",
       "       '\"Alex Migdal Is A Journalist With Cbc News In Vancouver. He\\'S Previously Reported For The Globe\", \\'Mail\\', \\'Guelph Mercury\\', \\'Edmonton Journal. You Can Reach Him At Alex.Migdal Cbc.Ca.\\', \\'Twitter\\', \\'More Stories',\n",
       "       \"Natalia Is A Multi-Platform Journalist In Ottawa. She Has Also Worked For Cbc In P.E.I.', 'Newfoundland\",\n",
       "       'Senior Writer\\', \"Kathleen Harris Is A Senior Writer In The Cbc\\'S Parliament Hill Bureau. She Covers Politics\", \\'Immigration\\', \\'Justice\\', \\'Follow Her On Twitter',\n",
       "       'Business Columnist\\', \\'Don Pittis Was A Forest Firefighter\\', \"A Ranger In Canada\\'S High Arctic Islands. After Moving Into Journalism\", \\'He Was Principal Business Reporter For Radio Television Hong Kong Before The Handover To China. He Has Produced\\', \\'Reported For The Cbc In Saskatchewan\\', \\'Toronto\\', \"The Bbc In London. He Is Currently Senior Producer At Cbc\\'S Business Unit.\", \\'More Don Pittis',\n",
       "       \"Rachel Bergen Is A Journalist For Cbc Manitoba', 'Previously Reported For Cbc Saskatoon. Find Her On Twitter At', 'R_Bergen Or Email Her At', 'Rachel.Bergen Cbc.Ca.\",\n",
       "       \"Entertainment Reporter', 'Film Critic', 'Eli Glasner Is A National Entertainment Reporter', 'Film Critic For Cbc News. Each Friday He Reviews Films On Cbc News Network As Well As Appearing On Cbc Radio Programs Coast To Coast. Covering Culture Has Taken Him The Northern Tip Of Moosonee', 'Ont. To The Oscars Red Carpet.', 'More This Author\",\n",
       "       '\"Kyle Bakx Is A Calgary-Based Journalist With Cbc\\'S Network Business Unit. He\\'S Covered Stories Across The Country\", \\'Follow\\', \\'Kylebakx On Twitter',\n",
       "       \"Cbc Investigative Journalist', 'Jonathon Gatehouse Has Covered News', 'Politics At Home', 'Abroad', 'Reporting Dozens Of Countries. He Has Also Written Extensively About Sports', 'Covering Seven Olympic Games', 'Authoring A Best-Selling Book On The Business Of Pro-Hockey. He Works For The National Investigative Unit In Toronto.\",\n",
       "       \"Cbc News', 'Gary Moore Is A Video Journalist Based In Fredericton.', 'Follow Gary Moore On Twitter\",\n",
       "       \"Reporter Editor', 'Tom Ayers Has Been A Reporter', 'Editor For More Than Years. He Has Spent The Last Years Covering Cape Breton', 'Nova Scotia Stories. You Can Reach Him At Tom.Ayers Cbc.Ca.\",\n",
       "       \"Adam Carter Is A Newfoundlander Who Now Calls Toronto Home. He Enjoys A Good Story', 'Playing Loud Music. You Can Follow Him On Twitter', 'Adamcartercbc Or Drop Him An Email At Adam.Carter Cbc.Ca.\",\n",
       "       \"Dan Mcgarvey Is A Mobile Journalist Focused On Filing Stories Remotely For Cbc Calgary S Web', 'Radio', 'Tv', 'Social Media Platforms', 'Only Using An Iphone', 'Mobile Tech. You Can Email Story Ideas', 'Tips To Dan At', 'Dan.Mcgarvey Cbc.Ca Or Tweet Him\",\n",
       "       \"Reporter', 'Web Writer For Cbc Saskatoon', 'Story Tips', 'Ideas Welcomed At Guy.Quenneville Cbc.Ca', 'Follow Guy On Twitter\",\n",
       "       \"Andrea Bellemare Is A Reporter', 'Producer With Cbc News Who Currently Focuses On Disinformation', 'Tech', 'Privacy.', 'She Helped Launch The New Cbc Kitchener-Waterloo Radio Station In', 'Reported For Cbc Montreal', 'Produced Radio Docs For Cbc Radio. She Has Also Reported For The Wire Service Agence France-Presse.\",\n",
       "       'Parliamentary Bureau\\', \\'John Paul\\', \\'J.P.\\', \"Tasker Is A Reporter In The Cbc\\'S Parliamentary Bureau In Ottawa. He Can Be Reached At John.Tasker Cbc.Ca.\", \\'Follow J.P. On Twitter',\n",
       "       'Joe Tunney Reports For Cbc News In Ottawa. He Can Be Reached At Joe.Tunney Cbc.Ca',\n",
       "       'Science\\', \\'Technology Writer\\', \\'Emily Chung Covers Science\\', \\'Technology For Cbc News. She Has Previously Worked As A Digital Journalist For Cbc Ottawa\\', \"As An Occasional Producer At Cbc\\'S Quirks\", \\'Quarks. She Has A Phd In Chemistry.',\n",
       "       'Reporter Associate Producer\\', \\'Emily Pasiuk Is A Reporter For Cbc Saskatchewan\\', \"An Associate Producer For The Morning Edition. She\\'S Based In Regina. She Has Also Reported At Ctv Saskatoon\", \\'Written For Global Regina. Reach Her At Emily.Pasiuk Cbc.Ca.\\', \\'Find Her On Twitter',\n",
       "       \"American Politics Contributor', 'Keith Boag Writes About American Politics', 'Issues That Shape The American Experience. Keith Was Based For Several Years In Los Angeles', 'Now', 'In Retirement After A Long Career With Cbc News', 'Continues To Live In Washington', 'D.C. Earlier', 'Keith Reported Ottawa', 'Where He Served As Chief Political Correspondent For Cbc News.\",\n",
       "       'Cbc News New York\\', \"Steven D\\'Souza Is A Gemini-Nominated Journalist Based In New York City. He Has Reported Internationally The Papal Conclave In Rome\", \\'The World Cup In Brazil\\', \\'He Spent Eight Years In Toronto Covering Stories Like The Protests\\', \\'The Rob Ford Crack Video Scandal.',\n",
       "       'Host Of Afternoon Drive\\', \"Chris Dela Torre Is The Host Of Afternoon Drive On Cbc Radio One In Southwestern Ontario. He\\'S Worked As A Host\", \\'Reporter\\', \\'Producer In Several Cities Across Canada\\', \\'Has Hosted Several Cbc Network Programs\\', \\'Such As Q\\', \\'Dnto\\', \\'The Story Here.',\n",
       "       'Nancy Hansen Is An Associate Professor\\', \"Director Of The University Of Manitoba\\'S Interdisciplinary Master\\'S Program In Disability Studies. She Is The Co-Author Of The Routledge History Of Disability.\"',\n",
       "       \"Business Reporter', 'Sophia Harris Covers Business', 'Consumer News.', 'Contact', 'Sophia.Harris Cbc.Ca', 'More This Author\",\n",
       "       'Vivian Luk',\n",
       "       \"Ian Froese Is A Reporter With Cbc Manitoba. He Has Previously Worked For Newspapers In Brandon', 'Steinbach. Story Idea', 'Email', 'Ian.Froese Cbc.Ca.', 'Twitter\",\n",
       "       \"Reporter Editor', 'Darren Bernhardt Spent The First Dozen Years Of His Journalism Career In Newspapers', 'First At The Regina Leader-Post Then The Saskatoon Starphoenix. He Has Been With Cbc Manitoba Since', 'Specializes In Offbeat', 'Local History Stories', 'Features. Story Idea', 'Email', 'Darren.Bernhardt Cbc.Ca\",\n",
       "       'Dan Zakreski Is A Reporter For Cbc Saskatoon.',\n",
       "       'Provincial Affairs Reporter\\', \\'Mike Crawley Is Provincial Affairs Reporter In Ontario For Cbc News. He Has Won Awards For His Reporting On The Ehealth Spending Scandal\\', \"Flaws In Ontario\\'S Welfare-Payment Computer System. Before Joining The Cbc In\", \\'Mike Filed Stories Countries In Africa As A Freelance Journalist\\', \\'Worked As A Newspaper Reporter In B.C.\\', \\'Twitter',\n",
       "       \"Nicholas Frew Is An Online Reporter Based In Winnipeg. Hailing Newfoundland', 'Frew Moved To Halifax To Attend Journalism School Before Moving To Winnipeg. Prior To Joining Cbc Manitoba', 'Frew Interned At The Winnipeg Free Press. Story Idea', 'Email At Nick.Frew Cbc.Ca', 'Email', 'Nick.Frew Cbc.Ca', 'Twitter\",\n",
       "       \"Briar Stewart Is A Senior Reporter With Cbc News.', 'For More Than A Decade', 'She Has Been Covering Stories For Television', 'Radio', 'Online.', 'She Is Based In Vancouver', 'Can Be Reached At Briar.Stewart Cbc.Ca', 'Or On Twitter\",\n",
       "       \"Digital Reporter', 'Sam Juric Is A Digital Reporter With Cbc P.E.I.', 'Can Be Reached At Samantha.Juric Cbc.Ca.\",\n",
       "       'Alex Soloducha Is A Reporter For Cbc Saskatchewan.',\n",
       "       \"Provincial Affairs Reporter Covering The B.C. Legislature. Anything Political', 'Tanya.Fletcher Cbc.Ca\",\n",
       "       \"Senior Writer', 'Pete Evans Is The Senior Business Writer For Cbcnews.Ca. Prior To Coming To The Cbc', 'His Work Has Appeared In The Globe', 'Mail', 'The Financial Post', 'The Toronto Star', 'Canadian Business Magazine', 'Believe It Or Not', 'Circuits Assembly Magazine.', 'Twitter\",\n",
       "       \"Prince Edward Island', 'Wayne Thibodeau Is A Reporter Editor With Cbc Prince Edward Island. He Has Worked As A Reporter', 'Editor', 'Photographer', 'Video Journalist In Print', 'Digital', 'Tv For More Than Years. He Can Be Reached At Wayne.Thibodeau Cbc.Ca', 'Follow', 'Jwaynecbc On Twitter\",\n",
       "       'Paul Withers Is An Award-Winning Journalist Whose Career Started In The As A Cartoonist. He Has Been Covering Nova Scotia Politics For More Than Years.',\n",
       "       \"Sarah Rieger Joined Cbc Calgary As An Online Journalist In You Can Reach Her Email At Sarah.Rieger Cbc.Ca.', 'Follow Sarah On Twitter', 'Read More Articles Sarah\",\n",
       "       'Cbc News\\', \"David Cochrane Is A Senior Reporter In Cbc\\'S Parliamentary Bureau. He Previously Wrote For Cbc Newfoundland\", \\'Follow David Cochrane On Twitter\\', \\'Read More Articles David Cochrane',\n",
       "       \"Rachel Ward Is A Journalist Nova Scotia', 'Working For Cbc News In Calgary. You Can Reach Her With Questions Or Story Ideas At Rachel.Ward Cbc.Ca.', 'Follow Rachel On Twitter\",\n",
       "       \"Reporter Editor', 'Bobhristova Is A Reporter Editor With Cbc Hamilton. Email', 'Bobby.Hristova Cbc.Ca', 'Follow', 'Bobbyhristova On Twitter\",\n",
       "       'Reporter Editor\\', \"Elizabeth Fraser Is A Reporter Editor With Cbc New Brunswick Based In Fredericton. She\\'S Originally Manitoba. Story Tip\", \\'Elizabeth.Fraser Cbc.Ca',\n",
       "       \"Holly Conners Is A Reporter', 'Current Affairs Producer Who Has Been With Cbc Cape Breton Since', 'Contact Her At Holly.Conners Cbc.Ca.\",\n",
       "       \"Moscow Correspondent', 'Chris Brown Is A Foreign Correspondent Based In The Cbc S Moscow Bureau. Previously A National Reporter For Cbc News On Radio', 'Tv', 'Online', 'Chris Has A Passion For Great Stories', 'Has Travelled All Over Canada', 'The World To Find Them.\",\n",
       "       \"Shaina Luck Covers Everything Court To City Council. Her Favourite Stories Are About Ordinary People In Extraordinary Circumstances. Email', 'Shaina.Luck Cbc.Ca\",\n",
       "       'Laurence Watt Is An Associate Producer With Cbc Vancouver. You Can Reach Him At Laurence.Watt Cbc.Ca Or On Twitter',\n",
       "       'Yvette Brend Is A Cbc Vancouver Journalist. Yvette.Brend Cbc.Ca',\n",
       "       \"Cbc Reporter', 'Brady Strachan Is A Cbc Reporter Based In Kelowna', 'B.C. Besides Kelowna', 'Strachan Has Covered Stories For Cbc News In Winnipeg', 'Brandon', 'Vancouver', 'Internationally. Follow His Tweets\",\n",
       "       \"Renée Is A Cbc Correspondent Based In London', 'U.K.', 'She Has Spent A Decade With The Organization In A Number Of Roles', 'Including Senior Business Reporter', 'Weekend News Anchor', 'Television', 'Radio Reporter', 'Associate Producer', 'Program Director\",\n",
       "       \"Tony Davis Grew Up On P.E.I.', 'Studied Journalism At Holland College. He Can Be Contacted At Anthony.Davis Cbc.Ca\",\n",
       "       \"Mark Gollom Is A Toronto-Based Reporter With Cbc News. He Covers Canadian', 'U.S. Politics', 'Current Affairs.\",\n",
       "       \"Associate Producer Technician', 'Danelle Cloutier Is An Associate Producer', 'Audio Technician In Current Affairs At Cbc Manitoba. She Has A Background In Audio Engineering\",\n",
       "       \"Lien Yeung Hosts Cbc Vancouver News Weekends. As A Multimedia Reporter', 'She Has Covered Stories Locally', 'Nationally Coast To Coast On Television', 'Radio', 'Social Media. You Can Reach Her On Instagram Or Twitter', 'Lienyeung Or Via Email At Lien.Yeung Cbc.Ca.\",\n",
       "       \"Alanna Petroff Is A Freelance Reporter Based In London. She Has Covered Business', 'Economic', 'International News For The Past Decade At Outlets Such As Reuters', 'Cnn', 'The Bbc.\",\n",
       "       \"Jim Agapito Is A Filipino Filmmaker Winnipeg. Jim Writes', 'Boxes', 'Takes Photos', 'Sings In A Punk Band.\",\n",
       "       'Emily Brass Is A Radio News Anchor\\', \"Reporter At Cbc Manitoba. She\\'S Worked As A National\", \\'Local Journalist At Cbc In Montreal\\', \\'Toronto\\', \"St. John\\'S\", \\'Victoria\\', \\'London',\n",
       "       'Jason Viau Is A Video Journalist\\', \\'Tv Host\\', \\'Radio Newsreader At Cbc Windsor. He Was Born In North Bay\\', \\'But Has Lived In Windsor For Most Of His Life. Since Graduating St. Clair College\\', \"He\\'S Worked In Print\", \\'Tv\\', \\'Radio. Email Him At Jason.Viau Cbc.Ca\\', \\'Follow Jason On Twitter',\n",
       "       'Cbc News\\', \"John Gushue Is The Digital Senior Producer With Cbc News In St. John\\'S.\", \\'More This Author',\n",
       "       \"Reporter Editor', 'Alex Is A Reporter Living In Halifax. Send Her Story Ideas At Alex.Cooke Cbc.Ca.\",\n",
       "       \"Rafferty Baker Is A Video Journalist With Cbc News', 'Based In Vancouver. You Can Find His Stories On Cbc Radio', 'Television', 'Online At Cbc.Ca Bc.\",\n",
       "       'Mandy Luk Is A Senior Producer With Cbc News. She Holds A Journalism Degree The Chinese University Of Hong Kong\\', \"A Master\\'S Degree In Economics The University Of Toronto. Programs She Has Worked For Include Cbc News Network\", \\'The National\\', \\'Cross Country Checkup.',\n",
       "       '\"Rosemary Barton Is Cbc\\'S Chief Political Correspondent\", \\'Based In Ottawa.',\n",
       "       'Senior Reporter\\', \\'Bonnie Allen Is A Senior Reporter For Cbc News Based In Saskatchewan. Before Returning To Canada In\\', \\'Allen Spent Four Years Reporting Across Africa\\', \\'Including Libya\\', \\'South Sudan\\', \\'Liberia\\', \"Sierra Leone. She Holds A Master\\'S In International Human Rights Law The University Of Oxford.\"',\n",
       "       \"Cbc Staff', 'Alvin Yu Splits His Time Along The Corridor As A Reporter For Cbc London', 'Associate Producer For Cbc Toronto', 'The National. Yu Set His Sights On Journalism Early - As A Kid He Would Anchor The News In The Shower', 'Hoping One Day To Make It To The Big Screen.\",\n",
       "       \"Dr. Vivek Goel Was The Founding Head Of Public Health Ontario', 'Set Up In Response To The Sars Crisis. He Is Currently A Professor At The University Of Toronto S Dalla Lana School Of Public Health', 'Vice-President Of Research', 'Innovation', 'Strategic Initiatives At U Of T.\",\n",
       "       \"Cbc Investigates', 'Katie Nicholson Is A Senior Reporter With Cbc Investigates Based In Toronto.\",\n",
       "       'Philip Drost Is A Reporter With Cbc New Brunswick.',\n",
       "       'Laura Glowacki Is A Reporter Based In Ottawa. Previously\\', \\'She Worked As A Reporter In Winnipeg\\', \"As An Associate Producer For Cbc\\'S Metro Morning In Toronto. Find Her On Twitter\", \\'Glowackicbc\\', \\'Reach Her Email At Laura.Glowacki Cbc.Ca.',\n",
       "       \"Jonathan Montpetit Is A Journalist With Cbc Montreal.', 'Follow Him On Twitter\",\n",
       "       \"Carolyn Ray Is A Videojournalist Who Has Reported Out Of Three Provinces', 'Two Territories', 'Is Now Based In Halifax. You Can Reach Her At Carolyn.Ray Cbc.Ca\",\n",
       "       'City Hall Reporter\\', \\'Lauren Pelley Is A Cbc Reporter Based In Toronto. Currently Covering\\', \\'Previously Covered Toronto City Hall\\', \"Municipal Affairs. Part Of The Team Behind Cbc Toronto\\'S International Win For Multimedia At The Edward R. Murrow Awards. Contact Her At\", \\'Lauren.Pelley Cbc.Ca',\n",
       "       'Asia Correspondent\\', \"Saša Petricic Is The Cbc\\'S Asia Correspondent\", \\'Based In Beijing. He Has Covered China As Well As Reported North\\', \\'South Korea. He Previously Reported On The Middle East\\', \\'Jerusalem\\', \\'Through The Arab Spring\\', \\'The Syrian Civil War. He Has Filed Stories Every Continent For Cbc News. Instagram\\', \\'More Saša Petricic',\n",
       "       'Preston Mulligan Has Been A Reporter In The Maritimes For More Than Years. Along With His Reporting Gig\\', \"He Also Hosts Cbc Radio\\'S Sunday Phone-In Show\", \\'Maritime Connection.',\n",
       "       \"Alicia Bridges Is A Digital', 'Broadcast Journalist At Cbc Saskatoon. Email Her At Alicia.Bridges Cbc.Ca.\",\n",
       "       \"Health Writer', 'Amina Zafar Has Reported On Sars', 'Flu', 'Ebola', 'Other Medical', 'Science Topics For Cbc News.\",\n",
       "       '\"Ryan Cooke Works For Cbc Out Of Its Bureau In St. John\\'S.\", \\'Read More Articles This Author',\n",
       "       'Franca G. Mignacca Is A Journalist At Cbc Montreal.',\n",
       "       'Joel Ballard Is A Reporter With The Cbc In Vancouver. You Can Reach Him At Joel.Ballard Cbc.Ca',\n",
       "       'Anjuli Patil Is A Reporter\\', \"Occasional Video Journalist With Cbc Nova Scotia\\'S Digital Team.\"',\n",
       "       \"Erik White Is A Cbc Journalist Based In Sudbury. He Covers A Wide Range Of Stories About Northern Ontario. Connect With Him On Twitter', 'Erikjwhite. Send Story Ideas To Erik.White Cbc.Ca\",\n",
       "       \"Inayat Singh Is A Reporter In The Cbc News Investigative Unit. He Specializes In Stories Involving Data Analysis', 'Statistics', 'Mapping. He Is Currently Based In Toronto', 'Has Previously Reported Winnipeg.\",\n",
       "       'Reporter\\', \\'Cbc News\\', \\'Jill Coubrough Is A Video Journalist With Cbc News Based In Winnipeg. She Previously Worked As A Reporter For Cbc News In Halifax\\', \\'As An Associate Producer For The Cbc Documentary Series Land\\', \\'Sea. She Holds A Degree In Political Studies The University Of Manitoba\\', \"A Degree In Journalism The University Of King\\'S College. Email\", \\'Jillian.Coubrough Cbc.Ca.',\n",
       "       'Cbc News\\', \"Jane Adey Hosts Cbc Radio\\'S The Broadcast\", \\'Has Worked For Many Other Cbc Programs\\', \\'Including Here\\', \\'Now\\', \\'Land\\', \\'Sea\\', \\'On The Go.',\n",
       "       'Senior Reporter\\', \\'Parliamentary Bureau\\', \"Karina Roman Joined Cbc\\'S Parliamentary Bureau In She Can Be Reached On Email Karina.Roman Cbc.Ca Or On Twitter\"',\n",
       "       \"Jacob Barker Is A Videojournalist For Cbc Windsor.', 'Follow Jacob Barker On Twitter\",\n",
       "       'Ariana Kelland Is A Reporter With The Cbc Newfoundland\\', \"Labrador Bureau In St. John\\'S.\", \\'More This Author\\', \\'Follow Ariana Kelland On Twitter',\n",
       "       \"Reporter Editor', 'Born', 'Raised In Thunder Bay', 'Jeff Is Proud To Work In His Hometown', 'As Well As Throughout Northwestern Ontario. Away Work', 'You Can Find Him Skiing', 'On Water Or Snow', 'Curling', 'Out At The Lake Or Flying.\",\n",
       "       'Austin Grabish Landed His First Byline When He Was Just He Joined Cbc In After Freelancing For Several Outlets.\\', \\'In\\', \"He Was Part Of A Team Of Cbc Journalists Who Won The Ron Laidlaw Award For The Corporation\\'S Extensive Digital Coverage On Asylum Seekers Crossing Into Canada. This Past Summer\", \\'He Was On The Ground In Northern Manitoba Covering The Manhunt For B.C. Fugitives Bryer Schmegelsky\\', \\'Kam Mcleod\\', \\'Which Attracted International Attention. Email\\', \\'Austin.Grabish Cbc.Ca\\', \\'Pgp Key',\n",
       "       'Reporter\\', \"Robson Fletcher\\'S Work For Cbc Calgary Focuses On Data\", \\'Analysis\\', \\'Investigative Journalism. He Joined Cbc In After Spending The Previous Decade Working As A Reporter\\', \\'Editor At Newspapers In Alberta\\', \\'British Columbia\\', \\'Follow Robson On Twitter',\n",
       "       'Reporter Writer\\', \"Malone Mullin Reports For All Platforms In St. John\\'S. She Previously Worked On The Web Desk At Cbc Toronto\", \\'Cbc Vancouver.\\', \\'Read More Articles Malone Mullin\\', \\'Follow Malone Mullin On Twitter',\n",
       "       \"Investigative Journalist', 'Eric Rankin Is An Award-Winning Cbc Reporter. His Honours Include The Canadian Screen Award For Best Local Reportage', 'The', 'Rtdna Awards For Best In-Depth Investigative Reporting', 'The Jack Webster Award For Best News Reporting.\",\n",
       "       \"Kailea Has A B.A. In Psychology Mount Allison University', 'A B.Ed. St. Thomas University', 'A M.Ed. Harvard University. After Living In Toronto', 'Boston', 'Los Angeles For Several Years', 'She Moved Back To Charlottetown With Her Husband', 'Daughter In She Offers Private Counselling Services As Well As Organization Coaching', 'Time Management Consulting.\",\n",
       "       \"Parliamentary Bureau', 'Catherine Cullen Is A Senior Reporter Covering Politics', 'Parliament Hill In Ottawa.\",\n",
       "       '\"Chris Windeyer Is Cbc Yukon\\'S Legislative Reporter. He Is The Former Editor Of The Yukon News\", \\'Was A Southam Journalism Fellow At Massey College.',\n",
       "       'Hadeel Ibrahim Is A Cbc Reporter Based In Saint John. She Can Be Reached At Hadeel.Ibrahim Cbc.Ca',\n",
       "       \"Editor In Chief', 'Brodie Fenlon Is Editor In Chief', 'Executive Director Of Daily News For Cbc News.', 'Follow Brodie Fenlon On Twitter\",\n",
       "       'Parliament Hill Bureau\\', \\'Aaron Wherry Has Covered Parliament Hill Since\\', \"Has Written For Maclean\\'S\", \\'The National Post\\', \\'The Globe\\', \\'Mail. He Is The Author Of Promise\\', \\'Peril\\', \"A Book About Justin Trudeau\\'S Years In Power.\", \\'Follow Aaron On Twitter',\n",
       "       \"Cbc Reporter', 'Matthew Kupfer Has Been A Reporter', 'Producer At Cbc News Since He Can Be Reached At Matthew.Kupfer Cbc.Ca', 'On Twitter\",\n",
       "       'Kevin Yarr Is The Early Morning Web Journalist At Cbc P.E.I. You Can Reach Him At Kevin.Yarr Cbc.Ca.',\n",
       "       \"Marina Von Stackelberg Is A Cbc Journalist Based In Winnipeg. She Previously Worked For Cbc In Halifax', 'Sudbury. Connect With Her', 'Cbcmarina Or Marina.Von.Stackelberg Cbc.Ca\",\n",
       "       'Lenard Monkman Is Anishinaabe Lake Manitoba First Nation\\', \\'Treaty Territory. He Is The Co-Founder Of Red Rising Magazine\\', \"Has Been An Associate Producer With The Cbc\\'S Indigenous Unit For Three Years. Follow Him On Twitter\"',\n",
       "       'Jesse Johnston Worked In Private Radio To In Vancouver\\', \\'Red Deer\\', \\'Calgary. He Spent The Next Five Years Based Out Of Surrey\\', \\'His Hometown\\', \"As Cbc\\'S South Of The Fraser Reporter Until He Joined The Impact Team In Jesse Is A Two-Time Recipient Of The Rtdna Dave Rogers Award For Best Short Radio Feature. He Loves Radio\", \\'Running\\', \\'Dogs. He Also Loves The Detroit Lions\\', \\'But If You Follow Him On Twitter\\', \\'You Already Knew That.',\n",
       "       'Isaac Olson Has Been A Montreal-Area Journalist For More Than A Decade.',\n",
       "       \"Heather Gillis Has Been Reporting In Newfoundland', 'Labrador Since', 'Follow Heather Gillis On Twitter\",\n",
       "       \"Adam Hunter Is The Provincial Affairs Reporter At Cbc Saskatchewan', 'Based In Regina. He Has Been With Cbc For Years. He Hosts The Cbc Podcast On The Ledge. Follow Him On Twitter', 'Ahiddycbc. Contact Him', 'Adam.Hunter Cbc.Ca\",\n",
       "       'Consumer Watchdog\\', \\'Yvonne Colbert Has Been A Journalist For Nearly Years\\', \\'Covering Everything Human Interest Stories To The Provincial Legislature. These Days\\', \"She\\'S Focused On Helping Consumers Get The Most Bang For Their Bucks\", \\'Avoid Being Ripped Off. She Invites Story Ideas At Yvonne.Colbert Cbc.Ca.',\n",
       "       'Edward Riche Writes For The Page\\', \\'Stage\\', \"Screen. He Lives In St. John\\'S.\"',\n",
       "       \"Andrew Lupton Is A B.C.-Born Journalist', 'Father Of Two', 'A North London Resident With A Passion For Politics', 'Photography', 'Follow Andrew On Twitter\",\n",
       "       \"Dan Taekema Is A Reporter Editor With Cbc Hamilton.', 'Email', 'Daniel.Taekema Cbc.Ca', 'Follow', 'Dantaekema On Twitter\",\n",
       "       'Travis Kingdon Is A Journalist With Cbc P.E.I. He Moved To The Island Toronto In The Spring Of',\n",
       "       'Reporter\\', \\'Cbc Manitoba\\', \\'Reporter Bartley Kives Joined Cbc Manitoba In Prior To That\\', \\'He Spent Three Years At The Winnipeg Sun\\', \\'At The Winnipeg Free Press\\', \\'Writing About Politics\\', \\'Music\\', \\'Food\\', \"Outdoor Recreation. He\\'S The Author Of The Canadian Bestseller A Daytripper\\'S Guide To Manitoba\", \"Exploring Canada\\'S Undiscovered Province\"',\n",
       "       'Isabella Zavarise Is A Video Journalist With Cbc In P.E.I. You Can Contact Her At Isabella.Zavarise Cbc.Ca',\n",
       "       \"Senior Reporter', 'Evan Dyer Has Been A Journalist With Cbc For Years', 'After An Early Career As A Freelancer In Argentina. He Works In The Parliamentary Bureau', 'Can Be Reached At Evan.Dyer Cbc.Ca.\",\n",
       "       \"Kate Mckenna Is A Reporter With Cbc Montreal. Email Her At Kate.Mckenna Cbc.Ca.', 'Follow Kate On Twitter\",\n",
       "       \"Alexander Panetta Is A Washington-Based Correspondent For Cbc News Who Has Covered American Politics', 'Canada-U.S. Issues Since He Previously Worked In Ottawa', 'Quebec City', 'Internationally', 'Reporting On Politics', 'Conflict', 'Disaster', 'The Montreal Expos.\",\n",
       "       \"Anouk Poulin Is An Architect Working As An Assistant Patient Attendant At A Chsld In A Montreal Suburb. She Is Chronicling Her Experiences', 'In French', 'On Her Facebook Page', 'Https\",\n",
       "       \"Robert Chernomas', 'Ian Hudson Teach Economics At The University Of Manitoba.\",\n",
       "       \"Senior Investigative Journalist', 'Geoff Leo Has Been A Reporter For Cbc News In Saskatchewan Since His Work As An Investigative Journalist', 'Documentary Producer Has Earned Numerous National', 'Regional Awards.', 'Send Your Tips', 'Story Ideas To Geoff.\",\n",
       "       \"Douglas Gelevan', 'A National Award-Winning Sports Journalist', 'Has Been A Member Of The Cbc Team Since He Is Currently The Sports Journalist For Cbc News Montreal.', 'Follow Doug On Twitter\",\n",
       "       'Shane Fowler Has Been A Cbc Journalist Based In Fredericton Since',\n",
       "       \"Provincial Affairs Reporter', 'Kerry Campbell Is The Provincial Affairs Reporter For Cbc P.E.I.', 'Covering Politics', 'The Provincial Legislature.', 'Kerry.Campbell Cbc.Ca\",\n",
       "       \"Bryan Eneas Is A Journalist The Penticton Indian Band Currently Based In Regina', 'Saskatchewan. Before Joining Cbc', 'He Reported In Central', 'Northern Saskatchewan. Send News Tips To Bryan.Eneas Cbc.Ca.\",\n",
       "       \"Video', 'Tina Is A Video Journalist With Cbc Vancouver. Send Her An Email At Tina.Lovgreen Cbc.Ca\",\n",
       "       '\"Kristin Annable Is A Member Of Cbc\\'S Investigative Unit Based In Winnipeg. She Can Be Reached At Kristin.Annable Cbc.Ca\"',\n",
       "       \"Kendall Latimer Has Shared Compelling Stories', 'Photos', 'Audio', 'Video With Cbc Saskatchewan Since She Loves A Good Yarn', 'Is Always Open To Chat', 'Kendall.Latimer Cbc.Ca.', 'Follow Me\",\n",
       "       \"Errol Patrick Mendes Is A Professor Of Constitutional', 'International Law At The University Of Ottawa', 'Is President Of The International Commission Of Jurists', 'Canada. He Is A Recipient Of The Order Of Ontario.\",\n",
       "       \"Defence', 'Murray Brewster Is Senior Defence Writer For Cbc News', 'Based In Ottawa. He Has Covered The Canadian Military', 'Foreign Policy Parliament Hill For Over A Decade. Among Other Assignments', 'He Spent A Total Of Months On The Ground Covering The Afghan War For The Canadian Press. Prior To That', 'He Covered Defence Issues', 'Politics For Cp In Nova Scotia For Years', 'Was Bureau Chief For Standard Broadcast News In Ottawa.', 'Follow', 'Murray_Brewster On Twitter\",\n",
       "       \"Samantha Craggs Is A Cbc News Reporter Based In Hamilton', 'Ont. She Has A Particular Interest In Politics', 'Social Justice Stories', 'Tweets Live Hamilton City Hall. Follow Her On Twitter At', 'Samcraggscbc', 'Or Email Her At Samantha.Craggs Cbc.Ca\",\n",
       "       \"Colleen Underwood Has Been A Reporter Editor With Cbc News For More Than Years Filing Stories Across Southern Alberta For Radio', 'Television', 'Online.', 'Follow Her On Twitter\",\n",
       "       \"Taryn Grant Is A Halifax-Based Reporter', 'Web Writer For Cbc Nova Scotia.', 'Follow Taryn On Twitter\",\n",
       "       \"Janice Johnston Is An Award-Winning Journalist In Edmonton Who Has Covered The Courts', 'Crime For More Than Two Decades.', 'You Can Reach Her At Janice.Johnston Cbc.Ca Or On Twitter At\",\n",
       "       \"Investigative Reporter', 'Jennie Russell Is A Reporter With Cbc Investigates', 'The Award-Winning Investigative Unit Of Cbc Edmonton. Jennie Specializes In Accountability Journalism', 'Her Work Has Been Widely Credited With Forcing Transparency', 'Democratic Change In Alberta. Contact Jennie At Jennie.Russell Cbc.Ca', 'Follow Her On Twitter\",\n",
       "       \"Reporter Editor', 'Jennifer La Grassa Is A Reporter Editor For Cbc Hamilton. Email', 'Jennifer.Lagrassa Cbc.Ca', 'Follow', 'Jennlagrassa On Twitter\",\n",
       "       '\"Jessica Deer Is Kanien Kehá Ka Kahnawake. She Works In Cbc\\'S Indigenous Unit Based In Montreal. Email Her At Jessica.Deer Cbc.Ca Or Follow Her On Twitter\"',\n",
       "       'Web Journalist\\', \"Sara Is A P.E.I. Native Who Graduated The University Of King\\'S College In Halifax. N.S.\", \\'With A Bachelor Of Journalism\\', \\'Honours\\', \"Degree. She\\'S Worked With Cbc Radio\", \\'Television Since\\', \\'Moving To The Cbc P.E.I. Web Team In\\', \\'Focusing On Weekend Features.\\', \\'Email Sara.Fraser Cbc.Ca',\n",
       "       \"Janet Davison Is A Cbc Senior Writer', 'Editor Based In Toronto.\",\n",
       "       \"Cbc Calgary Reporter', 'Meghan Grant Is The Courts', 'Crime Reporter For Cbc Calgary.', 'Follow Her On Twitter\",\n",
       "       'Chitrangada Choudhury Is A Freelance Journalist\\', \\'Researcher Based In Delhi. Her Reporting Has Focused On Indigenous\\', \\'Rural Communities\\', \\'Land\\', \\'Resource Rights\\', \"Has Appeared In The People\\'S Archive Of Rural India\", \\'The Indian Express\\', \\'Hindustan Times\\', \\'The Guardian U.S.',\n",
       "       'Cbc Radio',\n",
       "       'Hadani Ditmars Is The Author Of Dancing In The No Fly Zone\\', \"A Woman\\'S Journey Through Iraq. A Former Editor At New Internationalist\", \\'Past Contributor To Cbc S Dispatches\\', \\'She Has Been Reporting The Middle East For Over Two Decades. Her Next Book\\', \\'Between Two Rivers\\', \\'Is A Political Travelogue Of Iraqi Heritage Sites.',\n",
       "       'Mike Moore Is A Journalist Who Works With The Cbc Newfoundland\\', \"Labrador Bureau In St. John\\'S.\", \\'Follow Mike Moore On Twitter',\n",
       "       \"Ryan Has Chased Stories For Cbc News Across The Country In Toronto', 'Vancouver', 'Yellowknife', 'Ottawa', 'Filing For Web', 'Radio', 'Tv. You Can Reach Him Email At Ryan.Jones Cbc.Ca Or On Twitter At\",\n",
       "       'Cbc Communications',\n",
       "       \"Angelina King Is A Reporter With Cbc Toronto Where She Covers A Wide Range Of Stories. She Has A Particular Interest In Crime', 'Legal', 'Justice Issues', 'Human Interest Stories. She Previously Reported On National', 'International News. Angelina Got Her Start In Her Home City Of Saskatoon Where She Spent Much Of Her Time Covering The Courts. You Can Contact Her At Angelina.King Cbc.Ca Or\",\n",
       "       \"Sarah Leavitt Is A Journalist With Cbc Montreal.', 'Follow Sarah On Twitter\",\n",
       "       \"Leonard Podolak Is Executive Producer Of Home Routes Chemin Chez Nous', 'Founder Of Juno', 'Grammy Winning Winnipeg Band The Duhks. His Father', 'The Late Mitch Podolak', 'Founded The Winnipeg Folk Festival In\",\n",
       "       \"National Reporter', 'Karen Pauls Is An Award-Winning Journalist Who Has Been A National News Reporter In Manitoba Since She Has Travelled Across Canada', 'Around The World To Do Stories For Cbc', 'Including The Royal Wedding In London. Karen Has Worked In Washington', 'Was The Correspondent In Berlin', 'Germany', 'For Three Months In', 'Covering The Selection Of Pope Francis In Rome.', 'Twitter\",\n",
       "       \"Assistant Professor', 'Religious Studies', 'Mcmaster University', 'Hanna Tervanotko Is An Assistant Professor Of Religious Studies At Mcmaster University. This Article Was Originally Published On The Conversation', 'An Independent', 'Nonprofit Source Of News', 'Analysis', 'Commentary Academic Experts.\",\n",
       "       'Politics\\', \\'Éric Grenier Is A Senior Writer\\', \"The Cbc\\'S Polls Analyst. He Was The Founder Of Threehundredeight.Com\", \\'Has Written For The Globe\\', \\'Mail\\', \\'Huffington Post Canada\\', \\'The Hill Times\\', \\'Le Devoir\\', \\'L Actualité.\\', \\'Read More Cbcnews.Ca Columns Éric Grenier',\n",
       "       \"Born', 'Raised In Winnipeg', 'Marianne Has Always Had A Passion For Seeking The Truth. She Began Her Career Anchoring', 'Reporting At Ckx Brandon. There She Worked In Both Tv News', 'Current Affairs At Cbc Saskatoon. For The Past Years Marianne Has Worked In Winnipeg', 'Both In Radio', 'Television. She Was Formerly A Teacher In Manitoba\",\n",
       "       \"Laura Is A Journalist For Cbc Saskatchewan. Some Of Her Previous Work Has Appeared In The Globe', 'Mail', 'Nylon Magazine', 'Vice Canada', 'The Georgia Straight', 'The Tyee. Follow Laura On Twitter', 'Melaura. Send Her News Tips At Laura.Sciarpelletti Cbc.Ca\",\n",
       "       '\"Jason D\\'Souza Is A Broadcast Journalist At Cbc Vancouver. Follow Him On Twitter\"',\n",
       "       '\"Nic Meloney Is A Wolastoqi Video Journalist Raised On Cape Breton Island In Nova Scotia Mi\\'Kma\\'Ki. Email Him At Nic.Meloney Cbc.Ca Or Follow Him On Twitter\"',\n",
       "       \"Born', 'Raised In Yorkton', 'Allie Vered Is A Communications Executive', 'Long-Distance Runner Who Lives With Her Family', 'Two Dogs In The Beautiful Seaside New England Town Of Swampscott\",\n",
       "       '\"Tori Weldon Is A Reporter Based In Moncton. She\\'S Been Working For The Cbc Since\"',\n",
       "       'Cbc Investigative Producer\\', \\'Nazim Baksh Is A Producer With The Fifth Estate. He Has Won Numerous Awards Over The Years For His Work On The National\\', \\'The Fifth Estate\\', \"The Cbc\\'S Documentary Unit Among More. Since\", \\'He Has Worked Extensively On Issues Of National Security\\', \\'Violent Religious Extremism.',\n",
       "       \"Josee St-Onge Is A Journalist With Cbc Edmonton. She Has Also Reported In French For Radio-Canada In Alberta', 'Saskatchewan. Reach Her At Josee.St-Onge Cbc.Ca\",\n",
       "       \"Cbc Reporter', 'You Can Reach Giacomo Email Giacomo.Panico Cbc.Ca.\",\n",
       "       'Sarah Macmillan Is A Reporter With Cbc Sudbury. She Previously Worked With Cbc P.E.I. You Can Contact Her At Sarah.Macmillan Cbc.Ca',\n",
       "       \"Senior Reporter', 'Nicole Has An Avid Interest In All Things Science. As An Amateur Astronomer', 'Nicole Can Be Found Looking Up At The Night Sky Appreciating The Marvels Of Our Universe. She Is The Editor Of The Journal Of The Royal Astronomical Society Of Canada', 'The Author Of Several Books.\",\n",
       "       \"Maryse Zeidler Is A Reporter For Cbc News In Vancouver', 'Covering News Across British Columbia. You Can Reach Her At Maryse.Zeidler Cbc.Ca.\",\n",
       "       \"Jessie Anton Is A Regina-Based Journalist With Cbc Saskatchewan. She S Been Sharing Stories Across The Province On Television', 'Radio', 'Online Since', 'Initially Getting Her Start In The Rural Weekly Newspaper World. Email Her', 'Jessie.Anton Cbc.Ca.\",\n",
       "       'Jorge Barrera Is A Caracas-Born\\', \\'Award-Winning Journalist Who Has Worked Across The Country\\', \"Internationally. He Works For Cbc\\'S Indigenous Unit Based Out Of Ottawa. Follow Him On Twitter\", \\'Jorgebarrera Or Email Him Jorge.Barrera Cbc.Ca.\\', \\'Follow\\', \\'Jorgebarrera On Twitter',\n",
       "       '\"Marjorie Dowhos Is The Host Of Cbc Manitoba\\'S Radio Noon. Marjorie Joined Cbc Manitoba In\", \\'Has Worked As A Reporter\\', \\'As Host Of Cbc Winnipeg News At Prior To That\\', \\'She Spent Four Years In Thunder Bay\\', \\'Ont.\\', \\'As A Tv News Anchor.',\n",
       "       'Cbc News\\', \"Mark Quinn Is A Videojournalist With Cbc\\'S Bureau In St. John\\'S.\"',\n",
       "       'Sanjay Maru Is A Reporter At Cbc Windsor. Email Him At Sanjay.Maru Cbc.Ca.',\n",
       "       '\"David Thurton Is A National Reporter In Cbc\\'S Parliamentary Bureau. He\\'S Worked For Cbc In Fort Mcmurray\", \\'The Maritimes\\', \"In Canada\\'S Arctic.\"',\n",
       "       'Reporter\\', \\'Cbc Toronto\\', \"Nicole Brockbank Is A Reporter For Cbc Toronto\\'S Enterprise Unit. Fuelled Coffee\", \\'She Digs Up\\', \\'Researches\\', \\'Writes Original Investigative\\', \\'Feature Stories. Nicole.Brockbank Cbc.Ca',\n",
       "       'Shane Magee Is A Moncton-Based Reporter For Cbc.',\n",
       "       'Kate Letterick Is A Reporter With Cbc New Brunswick.',\n",
       "       \"Producer', 'The Fifth Estate', 'Scott Anderson Is A Producer At The Fifth Estate. He Has Been An Investigative Journalist In Both Print', 'Broadcast. He Has Covered Stories At City Hall', 'Across The Country', 'Around The World.\",\n",
       "       \"Cbc Radio Current Affairs Producer', 'Donna Carreiro Is An Award-Winning Producer', 'Journalist', 'Who Has Worked For More Than Years With Cbc Manitoba. Prior To That', 'She Was A Print Journalist For A Daily Newspaper', 'Local Magazines. She Is Drawn To Stories Of Social Justice', 'Or Injustice', 'That Give A Voice To Those Who Most Need One.', 'She Can Be Reached At Donna.Carreiro Cbc.Ca.\",\n",
       "       \"Madeleine Cummings Is A Digital Journalist With Cbc Edmonton.', 'Follow Madeleine On Twitter\",\n",
       "       \"Andrea Huncar Reports On Human Rights', 'Immigrant', 'Indigenous Communities', 'Youth At-Risk', 'The Justice System. Contact Her In Confidence At Andrea.Huncar Cbc.Ca', 'Follow Andrea Huncar On Twitter', 'More Andrea Huncar\",\n",
       "       'Jeremy Raven Is A Winnipeg Man Currently In Addictions Recovery.',\n",
       "       \"Sylvia Thomson Is A Producer With The Cbc In Toronto. She Spent Several Years As A Producer Covering Politics In Washington', 'D.C.', 'Ottawa', 'Has Covered Major International Stories.\",\n",
       "       'Provincial Affairs Reporter\\', \"Jacques Poitras Has Been Cbc\\'S Provincial Affairs Reporter In New Brunswick Since Raised In Moncton\", \\'He Also Produces The Cbc Political Podcast Spin Reduxit.',\n",
       "       \"Foreign Correspondent', 'Paul Hunter Is A Correspondent For Cbc News In Washington', 'D.C. Prior To That', 'He Was A Political Correspondent For The National In Ottawa. In His More Than Two Decades With The Cbc', 'He Has Reported Across Canada', 'More Than A Dozen Countries', 'Including Haiti', 'Japan', 'Video Paul Hunter\",\n",
       "       \"Reporter', 'Cbc Toronto', 'Michael Smee Has Worked In Print', 'Radio', 'Tv', 'Online Journalism For Many Years. You Can Reach Him At Michael.Smee Cbc.Ca\",\n",
       "       'Senior Reporter\\', \\'Cbc Toronto\\', \\'Small Town Ontario To Washington D.C.\\', \\'Philip Has Covered Stories Big\\', \\'Small. An Award-Winning Reporter With More Than Two Decades Of Experience In Ontario\\', \\'Alberta\\', \"He\\'S Now A Senior Reporter For Cbc Toronto On Television\", \\'Radio\\', \\'Online. He Is Also A National Reporter For The World This Weekend On Radio One.\\', \\'Follow Him On Twitter',\n",
       "       \"Juliet Guichon', 'Ian Mitchell Are Faculty Members In The Cumming School Of Medicine At The University Of Calgary', 'Co-Authors Of The Recent Book', 'Ethics In Pediatrics', 'Achieving Excellence When Helping Children .\",\n",
       "       '\"You Can Find Columnist Graham Thomson\\'S Thoughts\", \\'Analysis On Provincial Politics Every Friday At Cbc.Ca Edmonton\\', \\'On Cbc Edmonton Television News\\', \\'During Radio Active On Cbc Radio One\\', \\'On Twitter At',\n",
       "       \"Nicole Ireland Is A Cbc News Journalist With A Special Interest In Health', 'Social Justice Stories. Based In Toronto', 'She Has Lived', 'Worked In Thunder Bay', 'Ont.', 'Iqaluit', 'Nunavut', 'Beirut\",\n",
       "       \"Jack Julian Joined Cbc Nova Scotia As An Arts Reporter In His News Career Began On The Morning Of Sept.', 'Following The Crash Of Swissair He Is Now A Data Journalist In Halifax', 'You Can Reach Him At', 'Email At Jack.Julian Cbc.Ca Or Follow Him On Twitter\",\n",
       "       'Elias Abboud Is A Journalist At Cbc Montreal.',\n",
       "       \"Joelle Seal Is An Associate Producer In Current Affairs For Cbc Saskatchewan.', 'Get In Touch With Her Emailing Joelle.Seal Cbc.Ca Or On Twitter\",\n",
       "       \"Brian Higgins Shoots Video', 'Reports News On Prince Edward Island.\",\n",
       "       'Jason Warick Is A Reporter With Cbc Saskatoon.',\n",
       "       \"Bethany Lindsay Is A B.C. Journalist With A Focus On The Courts', 'Health', 'Science', 'Social Justice Issues. Questions Or News Tips', 'Get In Touch At Bethany.Lindsay Cbc.Ca Or On Twitter Through\",\n",
       "       'Host Of Cbc Ideas\\', \\'Nahlah Ayed Is The Host Of The Nightly Cbc Radio Program Ideas. A Veteran Of Foreign Reportage\\', \"She\\'S Spent Nearly A Decade Covering Major World Events London\", \\'Another Decade Covering Upheaval Across The Middle East. Ayed Was Previously A Parliamentary Reporter For The Canadian Press.\\', \\'More This Author\\', \\'Video Nahlah Ayed',\n",
       "       'Travis Mcewan Is A Video Journalist\\', \\'Who Has Not Won Any Awards. Originally Churchill\\', \\'Manitoba\\', \"He\\'S Spent The Last Decade Working At Cbc Edmonton. Email Story Ideas To Travis.Mcewan Cbc.Ca\"',\n",
       "       '\"Riley Laychuk Is Cbc\\'S Reporter Based In Brandon\", \\'Covering Rural Manitoba. Share Your Story Ideas\\', \\'Tips\\', \\'Feedback\\', \\'Riley.Laychuk Cbc.Ca.',\n",
       "       \"Julia Peterson Is A Freelance Journalist Currently Based In Regina', 'Saskatchewan. Her Writing Can Be Found In Eagle Feather News', 'Plenitude Magazine', 'Startrek.Com', 'Alma', 'Briarpatch Magazine.\",\n",
       "       'Senior Reporter\\', \\'Cbc Toronto\\', \\'John Lancaster Is A Senior Reporter With Cbc News Focusing On Investigative\\', \\'Enterprise Journalism. His Stories Have Taken Him Across Canada\\', \\'The Us\\', \\'The Caribbean. His Reports Have Appeared On Cbc Toronto\\', \\'The National\\', \"Cbc\\'S Marketplace\", \\'The Fifth Estate-And Of Course Cbc Online\\', \\'Radio.',\n",
       "       \"Ap Journalist', 'Heidi Atter Is A Journalist Working In Regina. She Started With Cbc Saskatchewan After A Successful Internship', 'Has A Passion For Character-Driven Stories. Heidi Has Worked As A Reporter', 'Web Writer', 'Associate Producer', 'Show Director So Far', 'Has Worked In Edmonton', 'At The Wainwright Military Base', 'In Adazi', 'Latvia. Story Ideas\",\n",
       "       'Nicola Macleod Is A Reporter With Cbc In P.E.I.',\n",
       "       'Steven Webb Is A Producer For Cbc Based In Saint John',\n",
       "       '\"Dianne Buckner Has Reported On Entrepreneurs For Two Decades. She Hosts Dragons\\' Den On Cbc Television\", \\'Is Part Of The Business News Team At Cbc News Network.',\n",
       "       \"Political Researcher', 'Brooks Decillia Spent Years Reporting', 'Producing News At Cbc. He Splits His Time Now Between Researching Public Opinion About Energy', 'The Environment At The University Of Calgary', 'Teaching Journalism At Mount Royal University.\",\n",
       "       'Roberto Rocha Is A Data Journalist With Cbc Radio-Canada.',\n",
       "       \"Health Policy Analyst', 'Steven Lewis Is A Health Policy Consultant Formerly Based In Saskatchewan. He Now Lives In Australia.\",\n",
       "       '\"Anand Ram Is A Producer For Cbc Television\\'S The National. He Has Previously Written For Financial Post\", \\'Canada.Com On Personal Tech',\n",
       "       \"Vanessa Blanch Is A Reporter Based In Moncton. She Has Worked Across The Country For Cbc For Years. If You Have Story Ideas To Share Please Email', 'Vanessa.Blanch Cbc.Ca\",\n",
       "       'Senior Reporter\\', \\'Julie Ireton Is A Senior Reporter Who Works On Investigations\\', \"Enterprise News Features At Cbc Ottawa. She\\'S Also The Host Of The New Cbc Investigative Podcast\", \\'The Band Played On. You Can Reach Her At Julie.Ireton Cbc.Ca',\n",
       "       \"Leah Hendry Is A Tv', 'Radio', 'Online Journalist With Cbc Montreal Investigates. Contact Her Via Our Confidential Tipline', 'Or On Email At Montrealinvestigates Cbc.Ca.', 'Follow Leah On Twitter\",\n",
       "       \"Reporter The Canadian Press', 'Stephanie Taylor Is A Canadian Press Reporter Based In Saskatchewan.\",\n",
       "       \"Mark Ting Is A Partner With Foundation Wealth', 'Where He Helps Clients Reach Their Financial Goals. He Can Also Be Heard Every Thursday At P.M. On Cbc Radio As On The Coast S Guide To Personal Finance.', 'Marktingcfp Mark.Ting Foundationwealth.Ca\",\n",
       "       'Drew Anderson Is A Web Journalist At Cbc Calgary. Like Almost Every Journalist Working Today\\', \"He\\'S Won A Few Awards. He\\'S Also A Third-Generation Calgarian.\", \\'You Can Follow Him On Twitter\\', \\'Drewpanderson. Contact Him In Confidence At Drew.Anderson Cbc.Ca. Signal Contact Upon Request. Cbc Secure Drop\\', \\'Www.Cbc.Ca Securedrop',\n",
       "       'Senior Producer Western Digital Business Unit\\', \"Tony Seskus Is Senior Producer With Cbc\\'S Western Business Unit In Calgary. He\\'S Written For Newspapers\", \\'Wire Services For More Than Years On Three Continents. In Calgary\\', \\'Tony Has Reported On The Energy Sector\\', \\'Federal Politics.',\n",
       "       'National Affairs Editor\\', \"Chris Hall Is The Cbc\\'S National Affairs Editor\", \\'Host Of The House On Cbc Radio\\', \\'Based In The Parliamentary Bureau In Ottawa. He Began His Reporting Career With The Ottawa Citizen\\', \\'Before Moving To Cbc Radio In\\', \\'Where He Worked As A National Radio Reporter In Toronto\\', \\'Halifax\\', \"St. John\\'S. He Returned To Ottawa\", \\'The Hill In\\', \\'More This Author',\n",
       "       'Philippe De Montigny Is Radio-Canada S Business Correspondent In Toronto.',\n",
       "       'Cbc News\\', \"Brandie Weikle Is A Senior Writer For Cbc News Based In Toronto. She\\'S A Long-Time Magazine\", \\'Newspaper Editor\\', \\'Podcast Host With Specialities In Family Life\\', \\'Health\\', \\'The Workplace. You Can Reach Her At Brandie.Weikle Cbc.Ca.',\n",
       "       'Senior Reporter\\', \"Olivia Stefanovich Is A Senior Reporter For Cbc\\'S Parliamentary Bureau Based In Ottawa. She Previously Worked In Toronto\", \\'Saskatchewan\\', \\'Northern Ontario. Connect With Her On Twitter At\\', \\'Cbcolivia. Story Tips Welcome\\', \\'Olivia.Stefanovich Cbc.Ca.',\n",
       "       'Cbc Reporter\\', \"Angela Sterritt Is A Journalist The Gitxsan Nation. Sterritt\\'S News\", \\'Current Affairs Pieces Are Featured On National\\', \"Local Cbc Platforms. Her Cbc Column \\'Reconcile This\\' Tackles The Tensions Between Indigenous People\", \\'Institutions In B.C. Have A Story Idea\\', \\'Angela.Sterritt Cbc.Ca',\n",
       "       \"Wallis Snowdon Is A Digital Journalist With Cbc Edmonton. She Has Nearly A Decade Of Experience Reporting Behind Her. Originally New Brunswick', 'Her Journalism Career Has Taken Her Nova Scotia To Fort Mcmurray. Share Your Stories With Wallis At Wallis.Snowdon Cbc.Ca\",\n",
       "       \"Angela Gemmill Is A Cbc Journalist Who Has Covered News In Sudbury', 'Ont.', 'For Years. Connect With Her On Twitter', 'Angelagemmill. Send Story Ideas To Angela.Gemmill Cbc.Ca\",\n",
       "       \"Logan Perley Is A Wolastoqi Journalist Tobique First Nation', 'A Casual Reporter At Cbc New Brunswick. You Can Email Him At Logan.Perley Cbc.Ca Or Follow Him On Twitter\",\n",
       "       'Aidan Geary Is A Journalist At Cbc Manitoba. Connect With Her At Aidan.Geary Cbc.Ca.',\n",
       "       'Senior Reporter\\', \\'Cbc News\\', \\'Natalie Is An Award-Wining Senior Reporter For Cbc News Network\\', \"Cbc The National Specializing In Breaking News. Whether It\\'S A Terror Attack Or A Royal Tour\", \\'She Brings The Stories To You.\\', \\'Natalie Lives In Toronto With Her Husband',\n",
       "       \"Rome Correspondent', 'Rome Correspondent Megan Williams Has Covered Everything Italian Politics', 'Migration To The Vatican', 'The Venice Biennale For Almost Two Decades. Her Award-Winning Documentaries Can Be Heard On Ideas', 'The Current', 'Other Cbc Shows. Megan Is A Regular Guest Host Of As It Happens', 'The Current.\",\n",
       "       \"Jason Proctor Is A Reporter In British Columbia For Cbc News', 'Has Covered The B.C. Courts', 'Mental Health Issues In The Justice System Extensively.\",\n",
       "       'Cbc News\\', \"Terry Roberts Is A Journalist With Cbc\\'S Bureau In St. John\\'S.\", \\'Follow Terry Roberts On Twitter',\n",
       "       \"Sarah Morin Is A Reporter With Cbc New Brunswick Based In Fredericton. Story Tip', 'Sarah.Morin Cbc.Ca\",\n",
       "       \"Jessica Doria-Brown Is A Videojournalist With Cbc In P.E.I.', 'Originally Toronto', 'Jessica Has Worked For Cbc In Newfoundland', 'Labrador', 'New Brunswick\",\n",
       "       \"Reporter Editor', 'John Gibson Started Out As A Newspaper Reporter Before Joining Cbc Calgary More Than Years Ago', 'Working As A Lineup Producer With Cbc Newsworld', 'Later As The Newscast Producer For Cbc Calgary News At Six. He Joined The Digital Team As A Reporter Editor In\",\n",
       "       \"Lucie Edwardson Is A Reporter With Cbc Calgary', 'Currently Focused On Bringing You Stories Related To Education In Alberta. In She Headed A Pop-Up Bureau In Lethbridge', 'Alta . Her Experience Includes Newspaper', 'Online', 'Tv', 'Radio. Follow Her On Twitter\",\n",
       "       'Radio-Canada Columnist\\', \\'Jeff Yates Is A Radio-Canada Columnist Who Checks Online Facts\\', \"Debunks Fake News. He\\'S Part Of Décrypteurs\", \"Radio-Canada\\'S Team Dedicated To Tackling Online Disinformation.\"',\n",
       "       'Sarah Trick',\n",
       "       \"John Loeppky Is A Disabled Artist', 'Freelance Writer Editor. He Is The Soon To Be Former Editor-In-Chief Of The Carillon', 'The University Of Regina S Campus Newspaper', 'Can Be Reached At Loeppkycreative Gmail.Com.\",\n",
       "       \"Enterprise Reporter', 'Bryan Labis An Enterprise Reporter With Cbc Calgary. If You Have A Good Story Idea Or Tip', 'You Can Reach Him At Bryan.Labby Cbc.Ca Or On Twitter At\",\n",
       "       \"Colleen M. Flood Is Director Of The Centre For Health Law', 'Policy', 'Ethics', 'University Research Chair At The University Of Ottawa.\",\n",
       "       \"Bernice Hillier Is A Host Of Cbc Newfoundland Morning', 'Which Airs Weekday Mornings Across Western', 'Central Newfoundland', 'As Well As Southern Labrador.', 'Read More Articles This Author', 'Follow Bernice Hillier On Twitter\",\n",
       "       'Jenny Cowley Is An Investigative Journalist In Toronto. She Has Previously Reported For Cbc In Nova Scotia. You Can Reach Her At Jenny.Cowley Cbc.Ca.',\n",
       "       \"Janet French Is A Provincial Affairs Reporter With Cbc Edmonton. She Has Also Been A Reporter At The Edmonton Journal', 'Saskatoon Starphoenix. You Can Reach Her At Janet.French Cbc.Ca\",\n",
       "       'Andie Bulman Is A Chef\\', \\'Writer\\', \"Comedian In St. John\\'S.\"',\n",
       "       'Cbc News\\', \"Adam Walsh Is A Cbc Journalist. He Works Primarily For The St. John\\'S Morning Show\", \\'Contributes To Television\\', \\'Digital Programming.\\', \\'Follow Adam Walsh On Twitter',\n",
       "       \"Natalie Valleau Is A Journalist With Cbc News. She Grew Up In Okotoks', 'Alta.', 'Completed Her Undergrad At Mount Royal University', 'Masters Of Journalism', 'Communications At Western University.\",\n",
       "       \"Aarti Pole Is A Host With Cbc News Network', 'Reporting Breaking Stories Across The Country. She Has Also Previously Reported For The National', 'Cbc Toronto', 'Cbc Vancouver', 'Cbc Winnipeg. Prior To Joining The News Network Team', 'She Was The Washington Correspondent For Global National.\",\n",
       "       \"Katerina Georgieva Is A Multi-Platform Journalist With Cbc Windsor. She Has Also Worked For Cbc In Charlottetown', 'Toronto\",\n",
       "       \"Reporter', 'Cbc Toronto', 'Natalie Is A Storyteller Who Spent The Last Few Years In Montreal Covering Everything Politics To Corruption', 'Student Protests. Now That She S Back In Her Hometown Of Toronto', 'She Is Eagerly Rediscovering What Makes This City Tick', 'Has A Personal Interest In Real Estate', 'Investigative Journalism. When She S Not Reporting You Can Find Her At A Yoga Studio Or Exploring Queen St. Contact Natalie', 'Natalie.Nanowski Cbc.Ca\",\n",
       "       \"Elizabeth Chiu Is A Reporter In Nova Scotia', 'Hosts Atlantic Tonight On Saturdays At P.M.', 'P.M. In Newfoundland. If You Have A Story Idea For Her', 'Contact Her At Elizabeth.Chiu Cbc.Ca.\",\n",
       "       \"Senior Online Arts Writer', 'Jessica Wong Is The Longtime Online Arts', 'Entertainment Writer For Cbc News.', 'More This Author\",\n",
       "       \"Host', 'London Morning', 'Rebecca Zandbergen Is Ottawa', 'Has Worked For Cbc Radio Across The Country For More Than Years', 'Including Stops In Iqaluit', 'Halifax', 'Windsor\",\n",
       "       'Senior Business Reporter\\', \\'Jacqueline Hansen Is A Senior Business Reporter For Cbc News. Based In Toronto\\', \"She\\'S Been Covering Business\", \\'Other News Beats Since',\n",
       "       'Senior Reporter\\', \\'Consumer Affairs\\', \"Aaron Saltzman Is Cbc\\'S Senior Business Reporter. Tips Story Ideas Always Welcome. Aaron.Saltzman Cbc.Ca Twitter.Com Cbcsaltzman\"',\n",
       "       'Producer\\', \\'Cbc News Business\\', \\'James Dunne Researches\\', \\'Produces\\', \\'Writes Stories For The Business Unit At Cbc News. He Has A Decade Of Experience In Business Programming\\', \\'Including On The Shows Venture\\', \\'Fortune Hunters. An Award-Winning Videojournalist\\', \"He\\'S Also Worked On Special Projects\", \\'As The Late Lineup Editor For The World At Six On Cbc Radio One.\\', \\'James Dunne On Linkedin',\n",
       "       \"Senior Writer', 'Peter Zimonjic Has Worked As A Reporter', 'Columnist In London', 'England', 'For The Daily Mail', 'Sunday Times', 'Daily Telegraph', 'In Canada For Sun Media', 'The Ottawa Citizen. He Is The Author Of Into The Darkness', 'An Account Of\",\n",
       "       'Ainslie Maclellan Is A Journalist At Cbc Montreal. Follow Her On Twitter',\n",
       "       \"Caroline Chan Is A Journalist At Cbc Vancouver.', 'Follow On Twitter\",\n",
       "       \"Raffy Boudjikanian Is A National Reporter With Cbc In Edmonton. He Has Also Worked In Calgary', 'Montreal For The Public Broadcaster.\",\n",
       "       \"Video Journalist', 'Jon Hernandez Is An Award-Winning Multimedia Journalist Vancouver', 'British Columbia. His Reporting Has Explored Mass International Migration In Chile', 'Controversial Logging Practices In British Columbia', 'The Global Hiv Aids Epidemic. Follow Jon Hernandez On Twitter\",\n",
       "       \"A.T. Kingsmith Is An Anxiety Researcher', 'Mixed Media Documentarian Who Teaches In The Department Of Politics', 'Public Administration At Ryerson University.\",\n",
       "       'Investigative Reporter\\', \\'Erica Johnson Is An Award-Winning Investigative Journalist.\\', \"She Hosted Cbc\\'S Consumer Program Marketplace For Years\", \\'Investigating Everything Dirty Hospitals To Fraudulent Financial Advisors.\\', \\'As Co-Host Of The Cbc News Segment Go Public\\', \\'Erica Continues To Expose Wrongdoing\\', \\'Hold Corporations\\', \\'Governments To Account.\\', \\'Go Public',\n",
       "       \"Associate Producer', 'Cbc Kw', 'Jackie Sharkey Has Worked All Over The Country With The Cbc Over The Past Decade', 'Including Kelowna', 'Quebec City', 'Rankin Inlet', 'Nu.', 'She Frequently Reports On The Arts', 'Is Particularly Interested In Stories Where Consumer', 'Environmental Issues Intersect.\",\n",
       "       \"Colin Harris Is A Journalist With Cbc In Montreal.', 'Follow Colin On Twitter\",\n",
       "       'Bill Graveland Is A Calgary-Based Reporter For The Canadian Press.',\n",
       "       'Elissa Carpenter Is A Reporter With Cbc Calgary.',\n",
       "       'Co-Host\\', \\'Cbc Vancouver News At\\', \"Anita Bathe Is Co-Host Of Cbc Vancouver\\'S Flagship Newscast.\", \\'She Remains Committed To Working In The Field\\', \\'Telling Stories That Matter\\', \\'Giving Citizens A Voice. Bathe Is A Multiple Rtdna Award Winner\\', \\'A Recipient Of The Jack Webster Fellowship\\', \"She\\'S Won Several Bcab Awards For Her In-Depth Reporting On Breaking News.\"',\n",
       "       'Network News Producer\\', \"Terry Reith Is Cbc\\'S Network News Producer Based In Edmonton.\", \"He\\'S Also Served As The Network\\'S Medical Reporter\", \\'Senior Writer For The Consumer Section Of Cbc.Ca. Reith Joined The Cbc In As A Local Radio\\', \\'Television Reporter.',\n",
       "       'Lori Fox Is A Writer\\', \\'Journalist Whose Work Has Also Appeared In Yukon News\\', \\'Vice\\', \"The Guardian. When They Aren\\'T Writing\", \\'They Can Usually Be Found Fishing\\', \\'Gathering Wild Mushrooms\\', \\'Or Chilling With A Book\\', \\'Their Pitbull',\n",
       "       \"Julia Page Is A Radio', 'Online Journalist With Cbc News', 'Based In Quebec City.\",\n",
       "       'Data Journalist\\', \"Jacques Marcoux Is A Cbc News Investigative Reporter Specializing In Data Analysis. Previously He Worked As A Multiplatform Reporter For The Cbc\\'S French Network Radio-Canada\", \\'As A Public Relations Officer In The Agricultural Industry\\', \\'Worked In Competitive Intelligence Gathering In The Financial Industry. Confidential Email\\', \\'Jacques.Marcoux Cbc.Ca',\n",
       "       \"Staff Photographer', 'Ben Nelms Is An Award-Winning Photojournalist Based In Vancouver\",\n",
       "       \"Sean Mallen Is A Communications Consultant Specializing In Crisis', 'Is The Former Queen S Park Correspondent', 'Europe Bureau Chief For Global News.\",\n",
       "       \"Karin Larsen Is A Former Olympian', 'Award Winning Sports Broadcaster Who Covers News', 'Sports For Cbc Vancouver.\",\n",
       "       'Reporter\\', \\'Cbc Toronto\\', \\'Shanifa Nasser Is An Award-Winning Journalist With An Interest In National Security\\', \\'The Justice System\\', \"Stories With A Heartbeat. Her Work Has Led To Two Investigative Documentaries At Cbc\\'S The Fifth Estate. She Was Previously A Munk Journalism Fellow\", \\'Holds An Ma In Islamic Studies The University Of Toronto. Shanifa.Nasser Cbc.Ca\\', \\'Twitter',\n",
       "       \"Hillary Johnstone Is A Reporter For Cbc Ottawa.', 'You Can Reach Her Email Hillary.Johnstone Cbc.Ca.\",\n",
       "       \"Investigative Reporter', 'Charles Rusnell Is A Reporter With Cbc Investigates', 'The Award-Winning Investigative Unit Of Cbc Edmonton. His Journalism In The Public Interest Is Widely Credited With Forcing Accountability', 'Transparency', 'Democratic Change In Alberta. Send Tips In Confidence To Cbcinvestigates Cbc.Ca.', 'Follow Him On Twitter Charlesrusnell\",\n",
       "       \"Ntawnis Piapot Is Nehiyaw Iskwew Piapot Cree Nation. She Has A Journalism Degree The University Of Regina', 'Is A Graduate The Inca Media', 'Intercultural Leadership Program The First Nations University. Ntawnis Has Been A Reporter For Cbc Saskatchewan', 'Aptn National News', 'Ctv Regina', 'Vice News', 'J-Source', 'Eagle Feather News. Email', 'Ntawnis.Piapot Cbc.Ca\",\n",
       "       \"Social Media Editor', 'Laura Fraser Is An Award-Winning Journalist Who Writes About Justice', 'Health', 'The Human Experience. Story Ideas Are Welcome At Laura.Fraser Cbc.Ca\",\n",
       "       \"Jennifer Lee Is A Cbc News Reporter Based In Calgary. She Worked At Cbc Toronto', 'Saskatoon', 'Regina', 'Before Landing In Calgary In If You Have A Health Or Human Interest Story To Share', 'Let Her Know.', 'Jennifer.Lee Cbc.Ca\",\n",
       "       'Nick Murray Is A Cbc Reporter\\', \"Based In Iqaluit Since He Got His Start With Cbc In Fredericton After Graduating St. Thomas University\\'S Journalism Program. He\\'S Also Worked Two Olympic Games As A Senior Writer With Cbc Sports. You Can Follow Nick On Twitter At\"',\n",
       "       'Rosa Marchitelli Is A National Award Winner For Her Investigative Work. As Co-Host Of The Cbc News Segment Go Public\\', \\'She Has A Reputation For Asking Tough Questions\\', \\'Holding Companies\\', \"Individuals To Account. Rosa\\'S Work Is Seen Across Cbc News Platforms.\"',\n",
       "       \"Mohawk Writer', 'Veteran Journalist', 'Taionrén Hote Dan David Is Mohawk', 'A Veteran Journalist', 'Freelance Writer Based In Kanehsatake', 'Near Oka\",\n",
       "       'Shane Ross Is A Former Newspaper\\', \\'Tv Journalist In Halifax\\', \\'Ottawa\\', \"Charlottetown. He Joined Cbc P.E.I.\\'S Web Team In\"',\n",
       "       'Haydn Watters Is A Roving Reporter For Ontario\\', \"Primarily Serving The Province\\'S Local Radio Shows. He Has Worked For Cbc News\", \\'Cbc Radio In Halifax\\', \\'Yellowknife\\', \\'Ottawa\\', \\'Toronto\\', \\'With Stints At The Politics Bureau\\', \\'The Entertainment Unit. He Also Ran An Experimental One-Person Pop-Up Bureau For The Cbc In Barrie\\', \\'Follow On Twitter\\', \\'More This Author',\n",
       "       \"Hassan Al-Kontar Is A Former Syrian Refugee', 'Who Spent Seven Months Stuck In An Arrival Terminal At Kuala Lumpur International Airport In Malaysia. As A Permanent Resident Of Canada', 'He Is Committed To Advocating For Refugees Around The World.\",\n",
       "       'Casey Stranges Is A Reporter Based In Sudbury. Casey.Stranges Cbc.Ca',\n",
       "       'Senior Writer\\', \\'Benjamin Blum Is A Senior Writer With Cbc News\\', \"Previously Worked With Cbc Sports In The Same Capacity. He Holds A Master\\'S Of Journalism The University Of King\\'S College In Halifax.\"',\n",
       "       \"Food Columnist', 'Cbc Kitchener-Waterloo', 'Andrew Coppolino Is A Food Columnist For Cbc Radio In Waterloo Region. He Was Formerly Restaurant Reviewer With The Waterloo Region Record. He Also Contributes To Culinary Trends', 'Restaurant Report Magazines In The U.S.', 'Is The Co-Author Of Cooking With Shakespeare.', 'A Couple Of Years Of Cooking As An Apprentice Chef In A Restaurant Kitchen Helped Him Decide He Wanted To Work With Food The Other Side Of The Stove.', 'Andrew Coppolino Columns\",\n",
       "       \"Thomas Gagnon-Van Leeuwen Is An Organizer With Our Time Yellowknife', 'The Local Chapter Of A Grassroots', 'Youth-Led Climate Justice Movement For A Green New Deal In Canada. He Graduated The Faculty Of Law At Mcgill University In\",\n",
       "       \"Scott Mitchell Teaches At Carleton University In The School Of Journalism', 'Communication. His Research Focuses On Media Coverage Of Contagious Disease Outbreaks', 'As Well As Risk Communication', 'Perception\",\n",
       "       \"Associate Producer', 'Matt Allen Is A Journalist With Cbc In Prince Rupert', 'British Columbia\",\n",
       "       \"Garrett Barry Is A Cbc Reporter Based In Gander.', 'Follow Garrett Barry On Twitter\",\n",
       "       \"Jordan Gill Is A Cbc Reporter Based Out Of Fredericton. He Can Be Reached At', 'Jordan.Gill Cbc.Ca.\",\n",
       "       \"Brian Rodgers Is A Videojournalist', 'Producer With Cbc Saskatchewan.\",\n",
       "       'Senior Reporter\\', \\'Award-Winning Reporter Elizabeth Thompson Covers Parliament Hill. A Veteran Of The Montreal Gazette\\', \\'Sun Media\\', \\'Ipolitics\\', \"She Currently Works With The Cbc\\'S Ottawa Bureau\", \\'Specializing In Investigative Reporting\\', \\'Data Journalism. She Can Be Reached At\\', \\'Elizabeth.Thompson Cbc.Ca.\\', \\'More Elizabeth Thompson\\', \\'Follow Elizabeth Thompson On Twitter',\n",
       "       'Reporter-Editor\\', \\'Cbc News\\', \\'Betsy Trumpener Is An Award-Winning Journalist\\', \"Author. She\\'S Been Covering The News In Central\", \\'Northern British Columbia For More Than Years.',\n",
       "       'Elizabeth Mcmillan Is A Journalist With Cbc Nova Scotia. Over The Past Years\\', \\'She Has Reported The Edge Of The Arctic Ocean To The Atlantic Coast\\', \"Loves Sharing People\\'S Stories. She Can Be Reached At Elizabeth.Mcmillan Cbc.Ca\"',\n",
       "       '\"Melanee Thomas Teaches Political Science At The University Of Calgary. Lisa Lambert Is A Political Scientist Who Teaches At The University Of Lethbridge. Their Work Together Appears In \\'Mothers\", \\'Others\\', \"The Role Of Parenthood In Politics\\'.\"',\n",
       "       \"Michael Morden Is Research Director Of The Samara Centre For Democracy', 'A Non-Partisan Charity Dedicated To Strengthening Canada S Democracy.\",\n",
       "       \"Justin Is The Municipal Affairs Reporter For Cbc Vancouver', 'Covering Local Political Stories Throughout British Columbia.\",\n",
       "       \"Video Journalist', 'Dale Molnar Is An Award-Winning Video Journalist At Cbc Windsor. He Is A Graduate Of The University Of Windsor', 'Has Worked In Television', 'Radio\",\n",
       "       'Dr. Amit Arya Is A Front-Line Physician Working In Long-Term Care Homes As A Palliative Care Specialist.',\n",
       "       \"Reporter Editor', 'Kaitie Fraser Is A Reporter At Cbc Windsor. Email Kaitie.Fraser Cbc.Ca', 'Follow Kaitie On Twitter\",\n",
       "       \"Information Morning Saint John Host', 'Julia Wright Is A Born', 'Raised Saint Johner', 'The Host Of Information Morning Saint John On She Has Been With The Cbc Since\",\n",
       "       \"Verity Stevenson Is A Reporter With Cbc In Montreal. She Has Previously Worked For The Globe', 'Mail', 'The Toronto Star In Toronto', 'The Telegraph-Journal In Saint John.\",\n",
       "       \"Associate Producer', 'Kim Kaschor Is A Journalist Living In Winnipeg. With Roots In Rural Manitoba', 'She Has A Passion For Hyperlocal Community Issues', 'Grassroots Development', 'Social Justice. You Can Connect With Kim At Kim.Kaschor Cbc.Ca.\",\n",
       "       \"Helen Pike Joined Cbc Calgary As A Reporter In After Spending Four Years Working As A Print Journalist Focusing On Urban Issues', 'Municipal Affairs. You Can Find Her On Twitter\",\n",
       "       \"Haley Ryan Is A Reporter Based In Halifax. Got A Story Idea', 'Send An Email To Haley.Ryan Cbc.Ca', 'Or Reach Out On Twitter\",\n",
       "       'Video Journalist\\', \\'Holly Caruk Is A Video Journalist With Cbc Manitoba. She Began Her Career As A Photo Journalist In\\', \\'Began Reporting In Born\\', \\'Raised In Manitoba\\', \"Holly Is A Graduate Of The University Of Manitoba\\'S Film Studies Program\", \"Red River College\\'S Creative Communications Program. Email\", \\'Holly.Caruk Cbc.Ca',\n",
       "       \"Ashleigh Mattern Is A Web Writer', 'Reporter', 'Copy Editor With Cbc Saskatoon', 'Cbc Saskatchewan', 'An Associate Producer With Saskatoon Morning. She Has Been Working As A Journalist Since', 'Joined Cbc In Email', 'Ashleigh.Mattern Cbc.Ca.\",\n",
       "       \"Robert Jones Has Been A Reporter', 'Producer With Cbc New Brunswick Since His Investigative Reports On Petroleum Pricing In New Brunswick Won Several Regional', 'National Awards', 'Led To The Adoption Of Price Regulation In\",\n",
       "       \"The Canadian Press', 'Kelly Geraldine Malone Is A Reporter For The Canadian Press.\",\n",
       "       '\"Meagan Fitzpatrick Is A Multi-Platform Reporter With Cbc In Toronto. She Previously Worked In Cbc\\'S Washington Bureau\", \"Covered The Election. Prior To Heading South Of The Border Meagan Worked In Cbc\\'S Parliament Hill Bureau. She Has Also Reported For Cbc Hong Kong. Follow Her On Twitter\"',\n",
       "       \"Shari Okeke Is Writer Broadcaster For Daybreak On Cbc Radio', 'Creator Of Mic Drop', 'An Award-Winning Cbc Original Podcast.\",\n",
       "       \"Sally Pitt Is A Producer With Cbc', 'Has Worked As A Journalist For More Than Years In Online', 'Tv', 'Radio', 'Print. She Specializes In Justice Issues', 'Also Works With The Cbc Atlantic Investigative Unit. You Can Reach Her At Sally.Pitt Cbc.Ca.\",\n",
       "       \"Muriel Draaisma Is A Cbc Toronto Web Reporter. She Writes About Crime', 'Social Justice', 'Politics', 'Civic Issues', 'Ravines', 'Now Muriel.Draaisma Cbc.Ca\",\n",
       "       'Colin Mcphail Is A Web Writer With Cbc New Brunswick. He Is Based In Saint John. You Can Reach Him At Colin.Mcphail Cbc.Ca.',\n",
       "       \"Bailey Martens Is A Student At The University Of British Columbia', 'A Freelance Journalist.\",\n",
       "       \"Current Affairs Reporter Editor', 'Brittany Wentzell Is Based In Sydney', 'N.S.', 'As A Reporter For Information Morning Cape Breton. She Has Covered A Wide Range Of Issues Including Education', 'Forestry', 'Municipal Government. Story Ideas', 'Send Them To Brittany.Wentzell Cbc.Ca\",\n",
       "       \"Provincial Affairs Reporter', 'Michelle Bellefontaine Covers The Alberta Legislature In Edmonton. She Has Also Worked As A Reporter In The Maritimes', 'In Northern Canada.', 'You Can Reach Her At Michelle.Bellefontaine', 'Follow Michelle On Twitter\",\n",
       "       'Digital Journalist\\', \\'Liam Britten Is An Award-Winning Journalist For Cbc Vancouver. You Can Contact Him At Liam.Britten Cbc.Ca Or Follow Him On Twitter\\', \"Liam_Britten. Liam Contributes To Cbc Vancouver\\'S Impact Team\", \\'Where He Investigates\\', \\'Reports On Stories That Impact People In Their Local Community.',\n",
       "       \"Morning News Editor', 'Gary Ennett Is A Veteran Editor', 'Reporter. He S Been With Cbc Since The Opening Of The London Bureau In His Email Address Is Gary.Ennett Cbc.Ca\",\n",
       "       'Cherie Wheeler Is A Corner Brook Radio Producer Working With Cbc Newfoundland Morning.',\n",
       "       \"Sandra Abma Is A Veteran Cbc Arts Journalist. If You Have An Event Or Idea You Want To Share', 'Please Do At Sandra.Abma Cbc.Ca.\",\n",
       "       '\"The Cbc\\'S Tahmina Aziz Currently Reports Out Of Windsor\", \\'Toronto For Tv\\', \\'Radio\\', \\'Web. Have A Story\\', \\'Email Tahmina.Aziz Cbc.Ca. Twitter',\n",
       "       \"David Burke Is A Reporter In Halifax Who Covers Everything Politics To Science. His Reports Have Been Featured On The National', 'World Report', 'As It Happens', 'As Well As The Information Morning Shows In Halifax', 'Cape Breton.\",\n",
       "       'Reporter Editor Cbc North\\', \"Danielle D\\'Entremont Is A Reporter\", \\'Editor For The Cbc In Yellowknife.\\', \\'Most Recently She Worked As A National News Reader For Cbc Toronto\\', \"But Has Also Worked For Cbc Nova Scotia In Her Hometown Of Halifax. When She Isn\\'T Chasing Stories She Is On The Search For The Best Hiking Trails Around Town.\"',\n",
       "       'Lauren Pelley',\n",
       "       \"Rachel Cave Is A Cbc Reporter Based In Saint John', 'New Brunswick.\",\n",
       "       '\"Alex Kennedy Works In St. John\\'S For Cbc Newfoundland\"',\n",
       "       '\"Host Of Cbc Radio\\'S Out In The Open\", \\'Piya Chattopadhyay Has Been An On-Air Fixture In Broadcasting For Two Decades As A Reporter\\', \\'Host\\', \\'For Both Radio\\', \\'Tv\\', \\'In Canada',\n",
       "       \"Regan Watts Is A Corporate Affairs Executive. During His Tenure With The Government Of Canada', 'Regan Served At Finance', 'Transport', 'Health', 'Foreign Affairs. He Lives In Toronto.\",\n",
       "       \"Video Journalist', 'Terri Trembath Is A Video Journalist Who Joined Cbc Calgary In', 'You Can Reach Her At Terri.Trembath Cbc.Ca.', 'Follow Terri On Twitter\",\n",
       "       \"Video Producer', 'Rick Bremness Is A Content Creator', 'Video Producer For Cbc Edmonton. Follow Him On Twitter', 'Instagram\"],\n",
       "      dtype=object)"
      ]
     },
     "execution_count": 682,
     "metadata": {},
     "output_type": "execute_result"
    }
   ],
   "source": [
    "# check all authors\n",
    "df['authors'].unique()"
   ]
  },
  {
   "cell_type": "code",
   "execution_count": 683,
   "metadata": {},
   "outputs": [],
   "source": [
    "#Many articles are from unknown authors and some "
   ]
  },
  {
   "cell_type": "code",
   "execution_count": 684,
   "metadata": {},
   "outputs": [
    {
     "name": "stdout",
     "output_type": "stream",
     "text": [
      "More vital now:' Gay-straight alliances go virtual during coronavirus pandemic\n",
      "------------\n",
      "Lily Overacker and Laurell Pallot start each gay-straight alliance meeting with everyone introducing themselves, saying their pronouns and sharing highs and lows of the week.\n",
      "------------\n",
      "Lily Overacker and Laurell Pallot start each gay-straight alliance meeting with everyone introducing themselves, saying their pronouns and sharing highs and lows of the week. Except lately it's been through email chains instead of in-person for the Grade 12 students in Lacombe, Alta. Such school clubs are meant to provide safe spaces for LGBTQ students and their allies. Students, teachers and community groups are working to ensure that support is still available as the COVID-19 pandemic keeps kids out of school. \"It's definitely harder because you want to be able to see those people and be around them,\" said Overacker, 18. \"But I think we are making the best out of the situation that we can and focusing on making sure that kids still know that there's people there to support them.\" Overacker and Pallot want to hold a virtual end-of-year celebration for LGBTQ students. \"We're thinking it'll be over Zoom and we want it to be Alberta-wide,\" said Pallot, 17. She said community groups could host multiple Zoom sessions simultaneously. \"We'll have a Zoom room with a DJ and dancing and games and just multiple different ones that kids can choose.\" Gay-straight alliances are moving online, to ensure support is still available during the pandemic. (Tiphanie Roquette/Radio-Canada/CBC) Pallot said the virtual prom is a way of \"finding light in this situation,\" with the bonus of meeting new people before she goes away to college in the fall. Hilary Mutch, who co-ordinates a GSA network in southern Alberta through the Centre for Sexuality, said isolation is one of the biggest issues for LGBTQ youth at the best of times. \"As much as possible, it's so important to think 'what are the things that we're doing to combat those feelings of isolation, lack of resources, lack of supports that people might be feeling at home, especially if their home isn't affirming or respectful of their identity?\"' School divisions have approached holding GSAs during the shutdown in different ways, whether it's through email, group chats, video conferencing or social media. The Arc Foundation, which runs a program called SOGI 123 to make schools more inclusive, recently held a webinar to help educators run virtual GSAs.  More people are experiencing negativity within their unsupportive households because they're there constantly,​​​​​​.- Mav Gilchrist, 17-year-old student Scout Gray, SOGI 123's leader, said 140 people signed up — mostly in British Columbia, but some in Alberta. \"Teachers are stretched real thin right now and they're taking the time to make sure these clubs are getting running, which shows that they're really dedicated and shows that there's a need.\" Gray added it's important to coach youth on privacy. For instance, if teens don't want everyone to know they're part of a GSA, they would need to think about whether having their face shown in a video chat window beamed into someone else's home is a good idea. \"We want to make sure that ... they understand that things they put out on the internet could be recorded, could be used in other places,\" Gray said. If youth don't want their families knowing, they could participate by phone during a walk around the neighbourhood so no one overhears, Gray added. Mav Gilchrist, a 17-year-old Grade 12 student in St. Albert, Alta., has noticed some students choose their words carefully or mute their mics during their GSA's Google Meet chats. Gilchrist said efforts have been made to ensure names appearing in video chat windows reflect trans students' true gender identities, which isn't always the case when accounts are linked to school-issued email addresses. Gilchrist said not as many students have been participating as usual — possibly because of scheduling or unsupportive households. But Gilchrist said it's crucial the club keep going in some form. \"More people are experiencing negativity within their unsupportive households because they're there constantly,\" Gilchrist said. \"The support that GSAs provide was vital before — it is even more vital now.\" Renee LeClerc, a teacher supervisor for Gilchrist's GSA at Paul Kane High School, said students use the time to talk about whatever they want — whether that be baking, TV shows or anime. \"We are very rarely focused on LGBTQ-specific issues for an entire meeting. It is almost always just things that teenagers talk about,\" she said. \"We all just want to be in a place where we see ourselves reflected and supported.\"\n"
     ]
    }
   ],
   "source": [
    "# Inspect the first text, title, and description column contents\n",
    "print(df.title[0])\n",
    "print('------------')\n",
    "print(df.description[0])\n",
    "print('------------')\n",
    "print(df.text[0])"
   ]
  },
  {
   "cell_type": "code",
   "execution_count": 685,
   "metadata": {},
   "outputs": [
    {
     "data": {
      "text/plain": [
       "{str}"
      ]
     },
     "execution_count": 685,
     "metadata": {},
     "output_type": "execute_result"
    }
   ],
   "source": [
    "# check all text columns are strings that can be cleaned with standard text cleaner and parsable with SpaCy\n",
    "texttype = [type(text) for text in df['text']]\n",
    "set(texttype)"
   ]
  },
  {
   "cell_type": "code",
   "execution_count": 686,
   "metadata": {},
   "outputs": [],
   "source": [
    "#Count and eliminate author rows that are blank"
   ]
  },
  {
   "cell_type": "code",
   "execution_count": 687,
   "metadata": {},
   "outputs": [
    {
     "data": {
      "text/plain": [
       "False    4450\n",
       "True     2320\n",
       "Name: authors, dtype: int64"
      ]
     },
     "execution_count": 687,
     "metadata": {},
     "output_type": "execute_result"
    }
   ],
   "source": [
    "(df['authors']=='').value_counts()"
   ]
  },
  {
   "cell_type": "code",
   "execution_count": 688,
   "metadata": {},
   "outputs": [],
   "source": [
    "df_noblanks = df[df['authors']!='']"
   ]
  },
  {
   "cell_type": "code",
   "execution_count": 689,
   "metadata": {},
   "outputs": [],
   "source": [
    "#check for authors with sufficient number of articles that can be used as classifier (cutoff at 100)\n"
   ]
  },
  {
   "cell_type": "code",
   "execution_count": 690,
   "metadata": {},
   "outputs": [
    {
     "data": {
      "text/plain": [
       "0                                   The Canadian Press\n",
       "1    Senior Writer', 'Chris Arsenault Is A Senior W...\n",
       "2                                             Cbc News\n",
       "3                                             Cbc News\n",
       "Name: authors, dtype: object"
      ]
     },
     "execution_count": 690,
     "metadata": {},
     "output_type": "execute_result"
    }
   ],
   "source": [
    "# Create author list with a reset index (starting at 0--previous selection fragmented index sequence)\n",
    "author_series = df_noblanks['authors'].reset_index(drop=True)\n",
    "author_series.head(4)"
   ]
  },
  {
   "cell_type": "code",
   "execution_count": 691,
   "metadata": {},
   "outputs": [],
   "source": [
    "#Create an author list that with authors that occur more than 100 times in dataframe\n",
    "author_classes = np.unique([author_series[i] for i in range(author_series.shape[0]) if (author_series==author_series[i]).sum()>100])"
   ]
  },
  {
   "cell_type": "code",
   "execution_count": 692,
   "metadata": {},
   "outputs": [
    {
     "data": {
      "text/plain": [
       "array(['Cbc News', 'The Associated Press', 'The Canadian Press',\n",
       "       'Thomson Reuters'], dtype='<U20')"
      ]
     },
     "execution_count": 692,
     "metadata": {},
     "output_type": "execute_result"
    }
   ],
   "source": [
    "author_classes"
   ]
  },
  {
   "cell_type": "code",
   "execution_count": 693,
   "metadata": {},
   "outputs": [
    {
     "data": {
      "text/plain": [
       "Cbc News                2230\n",
       "The Associated Press     296\n",
       "Thomson Reuters          197\n",
       "The Canadian Press       138\n",
       "Name: authors, dtype: int64"
      ]
     },
     "execution_count": 693,
     "metadata": {},
     "output_type": "execute_result"
    }
   ],
   "source": [
    "#Create new dataframe with article text from high frequenct authors\n",
    "df_select = df_noblanks[df_noblanks['authors'].isin(author_classes)]\n",
    "df_select['authors'].value_counts()"
   ]
  },
  {
   "cell_type": "code",
   "execution_count": 694,
   "metadata": {},
   "outputs": [
    {
     "data": {
      "text/html": [
       "<div>\n",
       "<style scoped>\n",
       "    .dataframe tbody tr th:only-of-type {\n",
       "        vertical-align: middle;\n",
       "    }\n",
       "\n",
       "    .dataframe tbody tr th {\n",
       "        vertical-align: top;\n",
       "    }\n",
       "\n",
       "    .dataframe thead th {\n",
       "        text-align: right;\n",
       "    }\n",
       "</style>\n",
       "<table border=\"1\" class=\"dataframe\">\n",
       "  <thead>\n",
       "    <tr style=\"text-align: right;\">\n",
       "      <th></th>\n",
       "      <th>authors</th>\n",
       "      <th>text</th>\n",
       "      <th>title</th>\n",
       "      <th>date</th>\n",
       "      <th>weekday</th>\n",
       "    </tr>\n",
       "  </thead>\n",
       "  <tbody>\n",
       "    <tr>\n",
       "      <th>2</th>\n",
       "      <td>The Canadian Press</td>\n",
       "      <td>The latest:  The lives behind the numbers: Wha...</td>\n",
       "      <td>Coronavirus: What's happening in Canada and ar...</td>\n",
       "      <td>2020-05-02</td>\n",
       "      <td>Saturday</td>\n",
       "    </tr>\n",
       "    <tr>\n",
       "      <th>6</th>\n",
       "      <td>Cbc News</td>\n",
       "      <td>Coronavirus Brief (CBC)  Canada is officiall...</td>\n",
       "      <td>The latest on the coronavirus outbreak for May 1</td>\n",
       "      <td>2020-05-01</td>\n",
       "      <td>Friday</td>\n",
       "    </tr>\n",
       "    <tr>\n",
       "      <th>7</th>\n",
       "      <td>Cbc News</td>\n",
       "      <td>The latest:  The lives behind the numbers: Wha...</td>\n",
       "      <td>Coronavirus: What's happening in Canada and ar...</td>\n",
       "      <td>2020-05-01</td>\n",
       "      <td>Friday</td>\n",
       "    </tr>\n",
       "    <tr>\n",
       "      <th>9</th>\n",
       "      <td>Thomson Reuters</td>\n",
       "      <td>Hundreds of protesters, some armed, gathered a...</td>\n",
       "      <td>Armed people in Michigan's legislature protest...</td>\n",
       "      <td>2020-04-30</td>\n",
       "      <td>Thursday</td>\n",
       "    </tr>\n",
       "    <tr>\n",
       "      <th>10</th>\n",
       "      <td>Cbc News</td>\n",
       "      <td>Coronavirus Brief (CBC)  The stories behind ...</td>\n",
       "      <td>The latest on the coronavirus outbreak for Apr...</td>\n",
       "      <td>2020-04-30</td>\n",
       "      <td>Thursday</td>\n",
       "    </tr>\n",
       "    <tr>\n",
       "      <th>...</th>\n",
       "      <td>...</td>\n",
       "      <td>...</td>\n",
       "      <td>...</td>\n",
       "      <td>...</td>\n",
       "      <td>...</td>\n",
       "    </tr>\n",
       "    <tr>\n",
       "      <th>6776</th>\n",
       "      <td>Cbc News</td>\n",
       "      <td>A 57-year-old man has been ticketed by police ...</td>\n",
       "      <td>Man in Shubie Park given $697.50 ticket for vi...</td>\n",
       "      <td>2020-03-31</td>\n",
       "      <td>Tuesday</td>\n",
       "    </tr>\n",
       "    <tr>\n",
       "      <th>6779</th>\n",
       "      <td>Cbc News</td>\n",
       "      <td>Four new cases of COVID-19 have been confirmed...</td>\n",
       "      <td>Health units report 4 new COVID-19 cases in no...</td>\n",
       "      <td>2020-03-26</td>\n",
       "      <td>Thursday</td>\n",
       "    </tr>\n",
       "    <tr>\n",
       "      <th>6783</th>\n",
       "      <td>Cbc News</td>\n",
       "      <td>The onset of COVID-19 happened to coincide wit...</td>\n",
       "      <td>Fishing industry in Windsor-Essex shut down du...</td>\n",
       "      <td>2020-04-06</td>\n",
       "      <td>Monday</td>\n",
       "    </tr>\n",
       "    <tr>\n",
       "      <th>6784</th>\n",
       "      <td>Cbc News</td>\n",
       "      <td>A Health Canada employee who works at Tunney's...</td>\n",
       "      <td>Health Canada worker tests positive for COVID-19</td>\n",
       "      <td>2020-03-18</td>\n",
       "      <td>Wednesday</td>\n",
       "    </tr>\n",
       "    <tr>\n",
       "      <th>6785</th>\n",
       "      <td>Cbc News</td>\n",
       "      <td>Many in the taxi industry in St. John's though...</td>\n",
       "      <td>Taxis adapting to COVID-19 with plastic shield...</td>\n",
       "      <td>2020-04-19</td>\n",
       "      <td>Sunday</td>\n",
       "    </tr>\n",
       "  </tbody>\n",
       "</table>\n",
       "<p>2861 rows × 5 columns</p>\n",
       "</div>"
      ],
      "text/plain": [
       "                 authors                                               text  \\\n",
       "2     The Canadian Press  The latest:  The lives behind the numbers: Wha...   \n",
       "6               Cbc News    Coronavirus Brief (CBC)  Canada is officiall...   \n",
       "7               Cbc News  The latest:  The lives behind the numbers: Wha...   \n",
       "9        Thomson Reuters  Hundreds of protesters, some armed, gathered a...   \n",
       "10              Cbc News    Coronavirus Brief (CBC)  The stories behind ...   \n",
       "...                  ...                                                ...   \n",
       "6776            Cbc News  A 57-year-old man has been ticketed by police ...   \n",
       "6779            Cbc News  Four new cases of COVID-19 have been confirmed...   \n",
       "6783            Cbc News  The onset of COVID-19 happened to coincide wit...   \n",
       "6784            Cbc News  A Health Canada employee who works at Tunney's...   \n",
       "6785            Cbc News  Many in the taxi industry in St. John's though...   \n",
       "\n",
       "                                                  title        date    weekday  \n",
       "2     Coronavirus: What's happening in Canada and ar...  2020-05-02   Saturday  \n",
       "6      The latest on the coronavirus outbreak for May 1  2020-05-01     Friday  \n",
       "7     Coronavirus: What's happening in Canada and ar...  2020-05-01     Friday  \n",
       "9     Armed people in Michigan's legislature protest...  2020-04-30   Thursday  \n",
       "10    The latest on the coronavirus outbreak for Apr...  2020-04-30   Thursday  \n",
       "...                                                 ...         ...        ...  \n",
       "6776  Man in Shubie Park given $697.50 ticket for vi...  2020-03-31    Tuesday  \n",
       "6779  Health units report 4 new COVID-19 cases in no...  2020-03-26   Thursday  \n",
       "6783  Fishing industry in Windsor-Essex shut down du...  2020-04-06     Monday  \n",
       "6784   Health Canada worker tests positive for COVID-19  2020-03-18  Wednesday  \n",
       "6785  Taxis adapting to COVID-19 with plastic shield...  2020-04-19     Sunday  \n",
       "\n",
       "[2861 rows x 5 columns]"
      ]
     },
     "execution_count": 694,
     "metadata": {},
     "output_type": "execute_result"
    }
   ],
   "source": [
    "df_au_text = df_select[['authors', 'text', 'title', 'date', 'weekday']]\n",
    "df_au_text"
   ]
  },
  {
   "cell_type": "code",
   "execution_count": 695,
   "metadata": {},
   "outputs": [
    {
     "data": {
      "text/plain": [
       "'The latest:  The lives behind the numbers: What we know about the first 1,000 COVID-19 deaths in Canada. Health expert urges provinces to \\'find the middle ground\\' as they begin to reopen. Canadians have lost more than $1.2 million to COVID-19 scams. Canada is officially in a recession, C.D. Howe Institute says. Major U.S. airlines to require passengers to wear masks. Nova Scotia is easing some of its COVID-19 restrictions. Ontario allowing\\xa0some businesses to reopen under strict guidelines. EI claimants are going weeks without income as federal call system slows to a crawl. INTERACTIVE\\xa0|\\xa0See the latest data on coronavirus cases\\xa0in Canada. Have a coronavirus question or news tip for CBC News? Email: Covid@cbc.ca  Canada\\'s chief public health officer\\xa0struck an optimistic tone about the COVID-19 pandemic on Saturday, saying that efforts to flatten the curve are working as provinces across the country reported more positive figures. \"By following public health recommendations, we have collectively brought down the rate of infection. We are flattening the curve,\" said Dr. Theresa Tam in a news release, as federal medical officials and the prime minister took a break from their daily news\\xa0conferences. \"While we can continue to be cautiously optimistic, it is important that everyone remains aware of our duty to protect one another, especially those who are most vulnerable, as we navigate the next few weeks.\" New Brunswick reported it\\xa0had no more active cases of COVID-19 as of Saturday after two weeks without a new infection and in Ontario, Premier Doug Ford said his\\xa0province could get through the pandemic faster than previously expected. Ontario Premier Doug Ford and other officials practice physical distancing at a COVID-19 briefing at Queen\\'s Park in Toronto on Saturday. (Rick Madonik/The Canadian Press) \"We\\'re seeing a gradual downward slope in the public domain\\xa0and the lower we get, the more we can open up and get back to the new normal,\" Ford said. \"I don\\'t know the exact time\\xa0…\\xa0but if we keep going the way we\\'re going, we\\'re going to get out of this a lot sooner than we thought we might\\'ve been able to get out a couple of months ago.\"  What offices might look like in a post-COVID world  At Ontario\\'s legislature, demonstrators gathered for a second Saturday in a row for an anti-lockdown protest. Ford blasted the protesters for disrespecting the Canadian flag by flying it upside down during the demonstration. \"I understand, people are hurting out there, and people want to get back out there,\" said Ford. But he said that flying the flag upside down disrespects members of the Armed Forces who are overseas, as well as those helping in long-term facilities in Ontario. \"What they\\'re doing is putting their lives in jeopardy as far as I\\'m concerned with congregating side-by-side.\" Protesters gather to demand Ontario reopen at Queen Park in Toronto on Saturday.  (Natalie Kalata/CBC) Ford said he respected their right to protest but wondered aloud whether it\\'s fair that mothers with their children receive fines for being in parks while anti-lockdown protesters aren\\'t fined. Provinces across Canada are preparing to start relaxing lockdown rules in the coming week. Businesses, such as\\xa0gardening centres and auto dealerships, will be allowed to open in Ontario on Monday, while residents in Newfoundland and Labrador will now be permitted\\xa0to interact with one other household other than their own. WATCH |\\xa0Canada\\'s economy to be particularly hard hit by COVID-19, says expert: Canada faces several economic disadvantages as it emerges from the pandemic but having the U.S. as its major trading partner could help, says Peter Hall, the chief economist for Export Development Canada.\\xa0\\xa0 7:36 Quebec has announced plans to gradually reopen daycares, elementary schools, retail businesses, construction and manufacturing during the month of May. Ford agreed with Quebec Premier François Legault by saying that the fight against COVID-19 is now separated between the battle in long-term care homes and the general public. \"There\\'s two different worlds. Right now, we\\'re fighting this virus, one in long-term care homes and one in the public domain,\" Ford said. \"In the public domain, everyone has done an incredible job\\xa0…\\xa0and that\\'s the reason why we see the trend going down.\" People use a measuring tape to keep a safe distance as they sit in a park in Montreal on Saturday. (Graham Hughes/The Canadian Press) British Columbia\\'s top medical official, Dr. Bonnie Henry, urged people to stay vigilant, asking anyone with symptoms to contact health officials and take measures to protect their family and community members. \"It is far too easy to tip the scales against us and undo the hard work and sacrifice that everybody here in B.C. has made,\" she said Saturday. \"We cannot afford any missteps as we look to ease our restrictions in the coming days and weeks.\" WATCH |\\xa0Personal support workers reusing masks amid PPE shortage: Some personal support workers are using the same protective mask multiple times a day while going in and out of care homes because they worry about running out. 2:03 Meanwhile, Prime Minister Justin Trudeau spoke with New Zealand\\'s Prime Minister Jacinda Ardern to share information about fighting the pandemic while protecting the economy. A readout of the call said the two leaders also spoke about the need to keep supply chains working throughout the global crisis, particularly in regards to medical supplies. New Zealand has widely been seen as a success story in the effort to curb the spread of COVID-19.  Health expert warns reopening provincial economies will be \\'tricky\\'  As of Saturday evening, Canada had 56,714 confirmed and presumptive coronavirus cases, with the majority concentrated in Ontario and Quebec. Provinces and territories list 23,814 of the cases as resolved or recovered. A CBC News tally of COVID-19-related deaths based on provincial data, regional health information and CBC\\'s reporting lists 3,656 deaths in Canada and two known coronavirus-related deaths of Canadians abroad. The contagious respiratory illness causes mild or moderate symptoms for most people. For some, especially older adults and people with existing health problems, it can cause more severe illness or death.\\xa0There is no proven treatment or vaccine for the virus, which first emerged in China in late 2019. What\\'s happening in the provinces and territories British Columbia\\'s\\xa0provincial health officer, Dr. Bonnie Henry, announced on Saturday a new\\xa0community outbreak\\xa0at a poultry plant, where there are three confirmed cases.\\xa0Henry also said there were 26 new COVID-19\\xa0cases in the province on Saturday, bringing the current total to 2,171. Henry also said\\xa0B.C. can\\'t mimic New Zealand, which has received global praise for its response. Those countries do not share a border with a country hard hit by the virus like the U.S., she noted. \"We are very close to a very large country that is having itself a very large outbreak. As we know, early on, Washington state had a dramatic increase in cases that affected us quite dramatically here in B.C.,\" Henry said. \"So it\\'s a balance, we all have our own approach.\"\\xa0Read more about what\\'s happening in B.C. WATCH |\\xa0Travellers arriving in B.C.\\xa0met with strict quarantine instructions: As travellers land in B.C., they are expected to have detailed quarantine plans and will receive followup calls a few days later. 2:07 Alberta reported 97 new cases on Saturday,\\xa0the first time in weeks the daily new cases dropped below 100. The province also reported two new deaths. This weekend marks the first days of Alberta\\'s tiered relaunch strategy, with an emphasis on outdoor activities. Provincial parks and some boat launches were reopened with limited services on Friday. Golfers were permitted to hit the fairway on Saturday after the province issued a set of guidelines to course operators intended to reduce the risk of transmission.\\xa0Read more about what\\'s happening in Alberta.   WATCH | Edmonton grandma overcomes broken pelvis, pneumonia and COVID-19: Edmonton grandma overcomes broken pelvis, pneumonia and COVID-19. 0:41 Saskatchewan\\xa0announced that its number of\\xa0cases\\xa0has climbed to 421, with\\xa0six new cases recorded on Saturday.\\xa0Of the new cases included in the update, four are in the North, one is in Saskatoon and one is in Regina. Northern leaders say drastic action may have to be taken unless more people start following public health orders, as they say some people are still trying to go around the restrictions.\\xa0Read more about what\\'s happening in Saskatchewan. Manitoba\\xa0reported one new case on Saturday.\\xa0The province says there is also one more hospitalization, bringing the total to six.\\xa0Read more about what\\'s happening in Manitoba. WATCH |\\xa0Winnipeg couple of 70 years \\'connect\\' through window amid restrictions: Winnipeg couple of 70 years \\'connect\\' through window amid COVID-19 restrictions 1:34 Ontario health officials are urging\\xa0residents to keep up physical\\xa0distancing measures as the province sees the warmest weather in months. \"I don\\'t mind people going outside, people getting exercise, but plan it. Don\\'t just go out and go to the most crowded places,\" said Chief Medical Officer of Health\\xa0Dr. David Williams.\\xa0 Various prevention measures have been put in place by officials across Ontario to slow the spread outdoors, including the temporary closure of\\xa0provincial parks and public outdoor spaces and amenities. But as temperatures climb, so have the number of cases. The province reported 511 new confirmed cases on Saturday, an increase from the 421 cases reported on Friday.\\xa0Read more about what\\'s happening in Ontario.\\xa0 People sitting in lawn chairs practice physical distancing as they chat in the Ottawa community of Carp on Saturday. (Justin Tang/The Canadian Press) Quebec\\'s\\xa0director of public health says the\\xa0province is launching a more \"aggressive\" testing strategy\\xa0as it begins to loosen pandemic restrictions.\\xa0Dr. Horacio Arruda\\xa0says Quebec\\xa0is planning to conduct 14,000 tests a day, up from roughly 6,000 tests a day that it\\'s currently doing.\\xa0 The province wants to\\xa0start testing regular citizens, including some without symptoms. Until late this week, Quebec was only testing essential workers with symptoms, with a focus on health-care workers.\\xa0Read more about what\\'s happening in Quebec. A health-care worker prepares to give a COVID-19 test at a clinic in Montreal on Saturday. (Graham Hughes/The Canadian Press) New Brunswick\\xa0is COVID-19 free, according to the latest numbers from the province. The province says there were no new cases on Saturday — for the 14th straight day — and\\xa0all 118 cases have now recovered. That makes New Brunswick the only province without a confirmed active case in the country.\\xa0Read more about what\\'s happening in N.B. Nova Scotia is reporting two more deaths\\xa0at the Northwood long-term care home in Halifax. That brings the death toll in the province to 31. The province also reported four news cases, bringing the total number of positive cases to 963. To date, 609 people have recovered from COVID-19. Twelve people are in hospital, including three in\\xa0intensive care.\\xa0Read more about what\\'s happening in N.S. A paramedic and an ambulance is seen at Northwood Manor, one of the largest nursing homes in Atlantic Canada, in Halifax on Friday. (Andrew Vaughan/The Canadian Press) In Prince Edward Island,\\xa0Phase 1 of the province\\'s\\xa0plan to ease restrictions is now in its second day. Charlottetown Mayor Philip Brown\\xa0said there will be increased monitoring in city parks this weekend to ensure physical distancing is taking place now that groups of up to five people are allowed to gather outside. Read more about what\\'s happening on P.E.I. Newfoundland and Labrador has no\\xa0new\\xa0reported cases of COVID-19 on Saturday. According to a news release issued by the\\xa0provincial government, the number of total\\xa0cases in the province remains\\xa0at 259. Saturday is the fifth day this week without any new reported cases of COVID-19 in the province, with only three new cases since April 18. Read more about what\\'s happening in N.L. It\\'s a hard road for truckers these days. But now there are hot meals and friendly smiles along the way - and both are free. <br><br>Read the full story: <a href=\"https://t.co/2waGuP1Oc2\">https://t.co/2waGuP1Oc2</a><a href=\"https://twitter.com/hashtag/Covid19nfld?src=hash&amp;ref_src=twsrc%5Etfw\">#Covid19nfld</a> <a href=\"https://t.co/Vi92XMwNTv\">pic.twitter.com/Vi92XMwNTv</a>&mdash;@CBCNL In Canada\\'s North,\\xa0\\xa0all of Yukon\\'s 11 confirmed cases of COVID-19 have recovered. Meanwhile, Yukon Justice Minister Tracy-Anne\\xa0McPhee announced Friday that someone has been charged under Yukon\\'s Civil Emergency Measures Act for allegedly failing to self-isolate as required.\\xa0Read more about what\\'s happening across the North. WATCH |\\xa0Yellowknife\\'s sanitation workers keep working amid pandemic: Kavanaugh Brothers owner and general manager Peter Houweling shares what he\\'s doing differently to keep trash collection going in the middle of a pandemic. 3:06 What\\'s happening in the U.S. New York Gov. Andrew Cuomo on Saturday pushed back against what he called premature demands that he reopen the state, saying he knew people were struggling without jobs but that more understanding of the coronavirus was needed. As governors in about half the United States partially reopen their economies over this weekend, Cuomo said he needed much more information on what the pandemic is doing in his hardest-hit state before he loosens restrictions. \"Even when you are in unchartered waters, it doesn\\'t mean you proceed blindly,\" he said. \"Use information to determine action, not emotions, not politics, not what people think or feel but what we know in terms of facts.\" New York Gov. Cuomo sprays disinfectant in a New York City subway car on Saturday. (Kevin P. Coughlin/Office of Governor Andrew M. Cuomo via AP) New Jersey Gov.\\xa0Phil Murphy echoed Cuomo\\'s slow-go restart approach, even as he reported \"positive trends,\" including a decline in the number of hospital patients with COVID-19. While the number of deaths has trended lower in recent days, New Jersey\\'s toll, second only to New York\\'s, stood at 7,742, which Murphy cited as a key reason for maintaining his stay-at-home order. \"The family, friends and neighbours who we have lost are the reason why we cannot rush our restart,\" he said at a news briefing. \"We need to keep seeing these lines moving in these directions before we can put New Jersey on the road back, and before we\\'re able to responsibly restart our economy.\" A cyclist rides past a traffic barrel posted with a sign restricting parking to residents only in Belmar, N.J., on Saturday. (Matt Rourke/The Associated Press) As\\xa0many U.S. eastern seaboard residents enjoyed a perfect spring day on Saturday, those in New Jersey had access to more outdoor space as Murphy allowed the state\\'s parks and golf courses to reopen for the first time in a month, warning they would be shut again if social distancing requirements were violated. \"Anecdotal and preliminary\\xa0reports suggest that the rules were being observed, he said. Georgia and Texas are leading the way in letting businesses shuttered by the pandemic begin partially reopening. Leaders in those and several other states where the coronavirus has had less of an impact are under pressure to allow people to return to work as government data released this week showed 30 million Americans have sought unemployment benefits since March 21. A worker wipes down an escalator at a mall in Dallas on Saturday. (LM Otero/The Associated Press) Cuomo pointed to the roughly 900 new coronavirus cases hospitals in New York are still reporting daily, and the fact that officials do not know where those infections are coming from, as reason enough to keep the Empire State shutdown. The governor also released the preliminary results of a statewide antibody survey of about 15,000 people showing that 12.3 per cent\\xa0were previously infected with the virus. It confirmed the results of another test with a smaller sample size released about 10 days ago showing that one in five New York City residents has had the virus, with the Bronx bureau seeing the highest number positive for antibodies at 27.6 per cent. A worker measures the temperature of Puerto Rico National Guard Gen. Jose Reyes in Ponce, Puerto Rico, on Saturday. (Carlos Giusti/The Associated Press) As of Saturday, the number of known infections across the U.S. had climbed to more than 1.1 million, including about 66,000 deaths, according to a Johns Hopkins University tally. As testing increases across the country, so does the number of cases. North Carolina on Saturday posted a record number of new cases with 551 infections, as\\xa0did Puerto Rico, with 182. Iowa hit a record for the second straight day. Overall in the U.S., there were 34,000 new cases on Friday, the highest daily total since April 24. What\\'s happening around the world Russia reported a sharp spike in its daily tally of COVID-19\\xa0cases, with a new one-day high of 9,633 on Saturday. That\\'s a 20 per cent increase from the previous day\\'s count. More than half of the new cases were reported in Moscow, where concern is growing about whether hospitals could become overwhelmed. The Russian capital\\'s mayor said this week officials are considering establishing temporary hospitals at sports complexes and shopping malls. According to a tally by Johns Hopkins University, Russia has more than 124,000 cases and 1,222 deaths. A medical worker leaves a tent at a COVID-19 testing point central Moscow on Saturday. (Yuri Kadobnov/AFP via Getty Images) Spain\\'s prime minister, Pedro Sanchez, announced on Saturday that commuters on transit will be required to wear masks starting Monday.\\xa0Sanchez says he\\'ll ask the parliament for an extension of the state of emergency established March 14 and set to expire on May 9. The announcement comes as Spaniards were allowed outdoors to exercise for the first time in seven weeks. People ran, walked or rode bicycles under a sunny sky in Barcelona, where many flocked to the maritime promenade to get close to the still off-limits beach. Others jogged around parks and along sidewalks across the nation. Spain\\'s death toll for the virus reached 25,100 after 276 more people died in the last 24 hours. That\\'s down from more than 900 daily deaths reported a month ago. The total confirmed infections reached 216,582, with another 1,147 reported cases in the last day. People are seen at a seafront promenade Barcelona on Saturday. (Emilio Morenatti/The Associated Press) Britain\\'s Department of Health says a total of 28,131 people have died in hospitals, care homes and the wider community after testing positive for COVID-19\\xa0in the United Kingdom, an increase of 621 from the previous tally. The U.K. has more than 183,000 cases, according to Johns Hopkins University. Prime Minister Boris Johnson on Thursday told the nation that Britain had passed its peak in the outbreak, and said he has plans to reveal a \"road map\" outlining how lockdown steps might be eased in the coming week. Police officers patrol with a megaphone instructing people to keep moving in an effort to keep groups from forming in London\\'s Greenwich Park on Saturday. (Yui Mok/PA via AP) France hopes to extend the health emergency put in place to fight the\\xa0crisis until July 24. Health Minister Olivier Veran made the announcement on Saturday, arguing that the extension of the measures that began March 24 is required to prevent a new flareup of infections. The proposal, which will be put to the French parliament next week and is expected to pass, is centred on the notion that a \"premature\" relaxing the state of emergency \"could see a risk of the outbreak\" increasing. France is among countries most affected by the pandemic, having recorded some 24,594 deaths and 167,346 confirmed cases so far. The new proposals include a data system for those that have contracted the virus, that will function for up to a year. A pharmacist serves a customer from behind newly installed see-through protective screens in Nice, France, on Saturday. (Valery Hache/AFP via Getty Images) In Malaysia, Senior Minister Ismail Sabri defended the mass arrest of immigrants without valid documents in viral hotspots.\\xa0Sabri says 586 immigrants were detained during an operation Friday in several buildings under strict lockdown in Kuala Lumpur. He says they all tested negative for the virus and have been sent to detention camps for breaching immigration laws. Rights groups have slammed the government for breaking its promise to not act against migrants who come out for virus screening. They say the inhumane move during a pandemic could hamper efforts to curb the virus\\'s spread. Ismail brushed off the criticism Saturday, saying authorities were acting within the law. He says Malaysia has taken care of the immigrants\\' welfare during the lockdown, but they must face the law as they have no valid documents. Malaysia, which has 6,176 cases and 103 deaths, will let most businesses reopen Monday before a partial lockdown ends May 12. A medical worker performs temperature checks at a hospital in Kuala Lumpur, Malaysia, on Saturday. (Rahman Roslan/Getty Images) China, where the pandemic began in December, reported one new infection and no deaths in the 24 hours through midnight Friday. The country has reported a total of 82,875 confirmed cases and 4,633 deaths. The National Health Commission reported 43 people were released from hospitals Friday after being declared recovered, raising the total to 77,685. There were a total 557 people still hospitalized on the mainland. A passenger wears a hazmat suit as they wait for a train at Hankou Railway Station in Wuhan, China, on Saturday. (AFP via Getty Images) Africa now has more than 40,000 COVID-19\\xa0cases. That\\'s according to the Africa Centers for Disease Control and Prevention. There have been more than 1,600 deaths across the continent. Fifty-three of Africa\\'s 54 countries have confirmed cases, all but tiny, mountainous Lesotho, which is surrounded by South Africa. A Ministry of Health staff member takes samples from a child during the first day of mass testing in Djibouti on Saturday. (AFP via Getty Images) In Brazil, rioting inmates in the northern state of Amazonas held seven guards hostage for several hours on Saturday, protesting against the suspension of all visits amid the\\xa0pandemic, authorities said. After more than five tense hours, the state\\'s public security secretariat said the situation inside the Puraquequara prison in the city of Manaus had been brought under control without any casualties and the guards freed. Manaus has become one of Brazil\\'s COVID-19\\xa0hotspots, with 3,941 confirmed cases and 357 deaths as of Friday, data from the state\\'s health secretary show. The pandemic has overwhelmed the city\\'s hospitals, emergency response and even cemeteries, where mass burials occur\\xa0on a regular basis and coffins threaten\\xa0to run out. Brazil has the most cases and deaths in Latin America, with more than 92,000 infections\\xa0and over 6,400 deaths.\\xa0President Jair Bolsonaro\\xa0has repeatedly downplayed the pandemic and called for the end of lockdown measures. Military police secure the perimeter of the  Puraquequara prison as inmates stand on a water tower protesting against bad conditions and restrictions on family visits in Manaus, Brazil, on Saturday. (Edmar Barros/The Associated Press) Turkey\\'s health minister has announced 78 new deaths in the past 24 hours, bringing the death toll from COVID-19 to 3,336. The minister tweeted Saturday that an additional 1,983 had been infected, increasing the total to 124,375. \"For the first time since March 30, the daily case number has fallen below 2,000,\" he tweeted. The new number leaves Turkey ranked seventh in the world for highest infection rate from the coronavirus. Russia\\'s confirmed infections of 124,054 had briefly surpassed Turkey\\'s. The minister also tweeted that 58,259 people have recovered from COVID-19, including 4,451 since Friday. '"
      ]
     },
     "execution_count": 695,
     "metadata": {},
     "output_type": "execute_result"
    }
   ],
   "source": [
    "df_au_text['text'][2]"
   ]
  },
  {
   "cell_type": "code",
   "execution_count": 696,
   "metadata": {},
   "outputs": [],
   "source": [
    "#Aggregate all articles by author and turn each four docs into \n",
    "#SpaCy objects with only raw text\n",
    "\n",
    "cbc_raw = ' '.join([text for text in df_au_text[df_au_text['authors'] == 'Cbc News']['text']])\n",
    "assoc_press_raw = ' '.join([text for text in df_au_text[df_au_text['authors'] == 'The Associated Press']['text']])\n",
    "can_press_raw = ' '.join([text for text in df_au_text[df_au_text['authors'] == 'The Canadian Press']['text']])\n",
    "thom_reut_raw = ' '.join([text for text in df_au_text[df_au_text['authors'] == 'Thomson Reuters']['text']])\n"
   ]
  },
  {
   "cell_type": "code",
   "execution_count": 698,
   "metadata": {},
   "outputs": [],
   "source": [
    "#Use standard text cleaner for \"text\" \n",
    "def text_cleaner(text):\n",
    "    # visual inspection identifies a form of punctuation spaCy does not\n",
    "    # recognize: the double dash '--'.  better get rid of it now!\n",
    "    text = re.sub(r'--',' ',text)\n",
    "    text = re.sub(\"[\\[].*?[\\]]\", \"\", text)\n",
    "    text = re.sub(r\"(\\b|\\s+\\-?|^\\-?)(\\d+|\\d*\\.\\d+)\\b\", \" \", text)\n",
    "    text = ' '.join(text.split())\n",
    "    return text"
   ]
  },
  {
   "cell_type": "code",
   "execution_count": 699,
   "metadata": {},
   "outputs": [],
   "source": [
    "cbc = text_cleaner(str(cbc_raw))\n",
    "assoc_press = text_cleaner(str(assoc_press_raw))\n",
    "can_press = text_cleaner(str(can_press_raw))\n",
    "thom_reut = text_cleaner(str(thom_reut_raw))"
   ]
  },
  {
   "cell_type": "code",
   "execution_count": 701,
   "metadata": {},
   "outputs": [
    {
     "data": {
      "text/plain": [
       "str"
      ]
     },
     "execution_count": 701,
     "metadata": {},
     "output_type": "execute_result"
    }
   ],
   "source": [
    "type(cbc)"
   ]
  },
  {
   "cell_type": "code",
   "execution_count": 702,
   "metadata": {},
   "outputs": [
    {
     "data": {
      "text/plain": [
       "str"
      ]
     },
     "execution_count": 702,
     "metadata": {},
     "output_type": "execute_result"
    }
   ],
   "source": [
    "type(can_press)"
   ]
  },
  {
   "cell_type": "code",
   "execution_count": 703,
   "metadata": {},
   "outputs": [],
   "source": [
    "#Create spacy objects for grouping into sentences\n",
    "#Have to trim single objects to within spacy object limits\n",
    "nlp = spacy.load('en')\n",
    "\n",
    "cbc_doc = nlp(cbc[1:100000])\n",
    "assoc_press_doc = nlp(assoc_press[1:100000])\n",
    "can_press_doc = nlp(can_press[1:100000])\n",
    "thom_reut_doc = nlp(thom_reut[1:100000])"
   ]
  },
  {
   "cell_type": "code",
   "execution_count": 705,
   "metadata": {},
   "outputs": [],
   "source": [
    "#Make dataframe with sentence and respective author\n",
    "cbc_sent = [[sent, 'cbc'] for sent in cbc_doc.sents]\n",
    "assoc_press_sent = [[sent, 'assoc_press'] for sent in assoc_press_doc.sents]\n",
    "can_press_sent = [[sent, 'can_press'] for sent in can_press_doc.sents]\n",
    "thom_reut_sent = [[sent, 'thom_reut'] for sent in thom_reut_doc.sents]"
   ]
  },
  {
   "cell_type": "code",
   "execution_count": 707,
   "metadata": {},
   "outputs": [
    {
     "data": {
      "text/html": [
       "<div>\n",
       "<style scoped>\n",
       "    .dataframe tbody tr th:only-of-type {\n",
       "        vertical-align: middle;\n",
       "    }\n",
       "\n",
       "    .dataframe tbody tr th {\n",
       "        vertical-align: top;\n",
       "    }\n",
       "\n",
       "    .dataframe thead th {\n",
       "        text-align: right;\n",
       "    }\n",
       "</style>\n",
       "<table border=\"1\" class=\"dataframe\">\n",
       "  <thead>\n",
       "    <tr style=\"text-align: right;\">\n",
       "      <th></th>\n",
       "      <th>text</th>\n",
       "      <th>author</th>\n",
       "    </tr>\n",
       "  </thead>\n",
       "  <tbody>\n",
       "    <tr>\n",
       "      <th>0</th>\n",
       "      <td>(oronavirus, Brief)</td>\n",
       "      <td>cbc</td>\n",
       "    </tr>\n",
       "    <tr>\n",
       "      <th>1</th>\n",
       "      <td>((, CBC, ), Canada, is, officially, in, a, rec...</td>\n",
       "      <td>cbc</td>\n",
       "    </tr>\n",
       "    <tr>\n",
       "      <th>2</th>\n",
       "      <td>(Ontario, allows, some, businesses, to, reopen...</td>\n",
       "      <td>cbc</td>\n",
       "    </tr>\n",
       "    <tr>\n",
       "      <th>3</th>\n",
       "      <td>(Air, Canada, anticipates, return, of, worldwi...</td>\n",
       "      <td>cbc</td>\n",
       "    </tr>\n",
       "    <tr>\n",
       "      <th>4</th>\n",
       "      <td>(Canadians, have, lost, more, than, $, million...</td>\n",
       "      <td>cbc</td>\n",
       "    </tr>\n",
       "  </tbody>\n",
       "</table>\n",
       "</div>"
      ],
      "text/plain": [
       "                                                text author\n",
       "0                                (oronavirus, Brief)    cbc\n",
       "1  ((, CBC, ), Canada, is, officially, in, a, rec...    cbc\n",
       "2  (Ontario, allows, some, businesses, to, reopen...    cbc\n",
       "3  (Air, Canada, anticipates, return, of, worldwi...    cbc\n",
       "4  (Canadians, have, lost, more, than, $, million...    cbc"
      ]
     },
     "execution_count": 707,
     "metadata": {},
     "output_type": "execute_result"
    }
   ],
   "source": [
    "df_sent = pd.DataFrame(cbc_sent+assoc_press_sent+can_press_sent+thom_reut_sent, columns = ['text', 'author'])\n",
    "df_sent.head()"
   ]
  },
  {
   "cell_type": "code",
   "execution_count": 709,
   "metadata": {},
   "outputs": [],
   "source": [
    "# get rid off stop words and punctuation\n",
    "# and lemmatize the tokens\n",
    "for i, sentence in enumerate(df_sent[\"text\"]):\n",
    "    df_sent.loc[i, \"text\"] = \" \".join(\n",
    "            [token.lemma_ for token in sentence if not token.is_punct and not token.is_stop])"
   ]
  },
  {
   "cell_type": "code",
   "execution_count": 628,
   "metadata": {},
   "outputs": [
    {
     "data": {
      "text/html": [
       "<div>\n",
       "<style scoped>\n",
       "    .dataframe tbody tr th:only-of-type {\n",
       "        vertical-align: middle;\n",
       "    }\n",
       "\n",
       "    .dataframe tbody tr th {\n",
       "        vertical-align: top;\n",
       "    }\n",
       "\n",
       "    .dataframe thead th {\n",
       "        text-align: right;\n",
       "    }\n",
       "</style>\n",
       "<table border=\"1\" class=\"dataframe\">\n",
       "  <thead>\n",
       "    <tr style=\"text-align: right;\">\n",
       "      <th></th>\n",
       "      <th>text</th>\n",
       "      <th>author</th>\n",
       "    </tr>\n",
       "  </thead>\n",
       "  <tbody>\n",
       "    <tr>\n",
       "      <th>0</th>\n",
       "      <td>oronavirus Brief</td>\n",
       "      <td>cbc</td>\n",
       "    </tr>\n",
       "    <tr>\n",
       "      <th>1</th>\n",
       "      <td>CBC Canada officially recession pandemic C.D. ...</td>\n",
       "      <td>cbc</td>\n",
       "    </tr>\n",
       "    <tr>\n",
       "      <th>2</th>\n",
       "      <td>Ontario allow business reopen Monday amid stri...</td>\n",
       "      <td>cbc</td>\n",
       "    </tr>\n",
       "    <tr>\n",
       "      <th>3</th>\n",
       "      <td>Air Canada anticipate return worldwide air tra...</td>\n",
       "      <td>cbc</td>\n",
       "    </tr>\n",
       "    <tr>\n",
       "      <th>4</th>\n",
       "      <td>canadian lose $ million covid- scam</td>\n",
       "      <td>cbc</td>\n",
       "    </tr>\n",
       "  </tbody>\n",
       "</table>\n",
       "</div>"
      ],
      "text/plain": [
       "                                                text author\n",
       "0                                   oronavirus Brief    cbc\n",
       "1  CBC Canada officially recession pandemic C.D. ...    cbc\n",
       "2  Ontario allow business reopen Monday amid stri...    cbc\n",
       "3  Air Canada anticipate return worldwide air tra...    cbc\n",
       "4                canadian lose $ million covid- scam    cbc"
      ]
     },
     "execution_count": 628,
     "metadata": {},
     "output_type": "execute_result"
    }
   ],
   "source": [
    "df_sent.head()"
   ]
  },
  {
   "cell_type": "code",
   "execution_count": 629,
   "metadata": {},
   "outputs": [
    {
     "data": {
      "text/html": [
       "<div>\n",
       "<style scoped>\n",
       "    .dataframe tbody tr th:only-of-type {\n",
       "        vertical-align: middle;\n",
       "    }\n",
       "\n",
       "    .dataframe tbody tr th {\n",
       "        vertical-align: top;\n",
       "    }\n",
       "\n",
       "    .dataframe thead th {\n",
       "        text-align: right;\n",
       "    }\n",
       "</style>\n",
       "<table border=\"1\" class=\"dataframe\">\n",
       "  <thead>\n",
       "    <tr style=\"text-align: right;\">\n",
       "      <th></th>\n",
       "      <th>text</th>\n",
       "      <th>author</th>\n",
       "      <th>sent_length</th>\n",
       "    </tr>\n",
       "  </thead>\n",
       "  <tbody>\n",
       "    <tr>\n",
       "      <th>0</th>\n",
       "      <td>oronavirus Brief</td>\n",
       "      <td>cbc</td>\n",
       "      <td>16</td>\n",
       "    </tr>\n",
       "    <tr>\n",
       "      <th>1</th>\n",
       "      <td>CBC Canada officially recession pandemic C.D. ...</td>\n",
       "      <td>cbc</td>\n",
       "      <td>54</td>\n",
       "    </tr>\n",
       "    <tr>\n",
       "      <th>2</th>\n",
       "      <td>Ontario allow business reopen Monday amid stri...</td>\n",
       "      <td>cbc</td>\n",
       "      <td>93</td>\n",
       "    </tr>\n",
       "    <tr>\n",
       "      <th>3</th>\n",
       "      <td>Air Canada anticipate return worldwide air tra...</td>\n",
       "      <td>cbc</td>\n",
       "      <td>59</td>\n",
       "    </tr>\n",
       "    <tr>\n",
       "      <th>4</th>\n",
       "      <td>canadian lose $ million covid- scam</td>\n",
       "      <td>cbc</td>\n",
       "      <td>35</td>\n",
       "    </tr>\n",
       "  </tbody>\n",
       "</table>\n",
       "</div>"
      ],
      "text/plain": [
       "                                                text author  sent_length\n",
       "0                                   oronavirus Brief    cbc           16\n",
       "1  CBC Canada officially recession pandemic C.D. ...    cbc           54\n",
       "2  Ontario allow business reopen Monday amid stri...    cbc           93\n",
       "3  Air Canada anticipate return worldwide air tra...    cbc           59\n",
       "4                canadian lose $ million covid- scam    cbc           35"
      ]
     },
     "execution_count": 629,
     "metadata": {},
     "output_type": "execute_result"
    }
   ],
   "source": [
    "#Add a feature column that contains length of sentences\n",
    "df_sent['sent_length'] = [len(df_sent['text'][x]) for x in range(df_sent.shape[0])]\n",
    "df_sent.head()"
   ]
  },
  {
   "cell_type": "code",
   "execution_count": 630,
   "metadata": {},
   "outputs": [],
   "source": [
    "#Tfidf vectorization\n",
    "from sklearn.feature_extraction.text import TfidfVectorizer, CountVectorizer\n",
    "tfvectorizer = TfidfVectorizer(max_df=0.5, min_df=2, use_idf=True, norm=u'l2', smooth_idf=True, ngram_range = (1,2))\n",
    "Xtf = tfvectorizer.fit_transform(df_sent['text'])\n",
    "tfidf_df = pd.DataFrame(Xtf.toarray(), columns = tfvectorizer.get_feature_names())\n"
   ]
  },
  {
   "cell_type": "code",
   "execution_count": 631,
   "metadata": {},
   "outputs": [],
   "source": [
    "Xtf = tfvectorizer.fit_transform(df_sent['text'])\n",
    "tfidf_df = pd.DataFrame(Xtf.toarray(), columns = tfvectorizer.get_feature_names())"
   ]
  },
  {
   "cell_type": "code",
   "execution_count": 632,
   "metadata": {},
   "outputs": [],
   "source": [
    "df_tfvec = pd.concat([tfidf_df, df_sent], axis = 1)"
   ]
  },
  {
   "cell_type": "code",
   "execution_count": 633,
   "metadata": {},
   "outputs": [],
   "source": [
    "#Count vectorization\n",
    "cvectorizer = CountVectorizer(analyzer='word', ngram_range = (1,2))\n",
    "Xcv = cvectorizer.fit_transform(df_sent['text'])\n",
    "bow_df = pd.DataFrame(Xcv.toarray(), columns = cvectorizer.get_feature_names())\n"
   ]
  },
  {
   "cell_type": "code",
   "execution_count": 634,
   "metadata": {},
   "outputs": [],
   "source": [
    "df_cvec = pd.concat([bow_df, df_sent], axis = 1)"
   ]
  },
  {
   "cell_type": "code",
   "execution_count": 635,
   "metadata": {},
   "outputs": [
    {
     "data": {
      "text/html": [
       "<div>\n",
       "<style scoped>\n",
       "    .dataframe tbody tr th:only-of-type {\n",
       "        vertical-align: middle;\n",
       "    }\n",
       "\n",
       "    .dataframe tbody tr th {\n",
       "        vertical-align: top;\n",
       "    }\n",
       "\n",
       "    .dataframe thead th {\n",
       "        text-align: right;\n",
       "    }\n",
       "</style>\n",
       "<table border=\"1\" class=\"dataframe\">\n",
       "  <thead>\n",
       "    <tr style=\"text-align: right;\">\n",
       "      <th></th>\n",
       "      <th>100th</th>\n",
       "      <th>100th birthday</th>\n",
       "      <th>1930</th>\n",
       "      <th>1960</th>\n",
       "      <th>1970</th>\n",
       "      <th>19th</th>\n",
       "      <th>19th century</th>\n",
       "      <th>1st</th>\n",
       "      <th>30</th>\n",
       "      <th>3rd</th>\n",
       "      <th>...</th>\n",
       "      <th>zealand</th>\n",
       "      <th>zhao</th>\n",
       "      <th>zhao lijian</th>\n",
       "      <th>zone</th>\n",
       "      <th>zoom</th>\n",
       "      <th>édouard</th>\n",
       "      <th>édouard philippe</th>\n",
       "      <th>text</th>\n",
       "      <th>author</th>\n",
       "      <th>sent_length</th>\n",
       "    </tr>\n",
       "  </thead>\n",
       "  <tbody>\n",
       "    <tr>\n",
       "      <th>0</th>\n",
       "      <td>0.0</td>\n",
       "      <td>0.0</td>\n",
       "      <td>0.0</td>\n",
       "      <td>0.0</td>\n",
       "      <td>0.0</td>\n",
       "      <td>0.0</td>\n",
       "      <td>0.0</td>\n",
       "      <td>0.0</td>\n",
       "      <td>0.0</td>\n",
       "      <td>0.0</td>\n",
       "      <td>...</td>\n",
       "      <td>0.0</td>\n",
       "      <td>0.0</td>\n",
       "      <td>0.0</td>\n",
       "      <td>0.0</td>\n",
       "      <td>0.0</td>\n",
       "      <td>0.0</td>\n",
       "      <td>0.0</td>\n",
       "      <td>oronavirus Brief</td>\n",
       "      <td>cbc</td>\n",
       "      <td>16</td>\n",
       "    </tr>\n",
       "    <tr>\n",
       "      <th>1</th>\n",
       "      <td>0.0</td>\n",
       "      <td>0.0</td>\n",
       "      <td>0.0</td>\n",
       "      <td>0.0</td>\n",
       "      <td>0.0</td>\n",
       "      <td>0.0</td>\n",
       "      <td>0.0</td>\n",
       "      <td>0.0</td>\n",
       "      <td>0.0</td>\n",
       "      <td>0.0</td>\n",
       "      <td>...</td>\n",
       "      <td>0.0</td>\n",
       "      <td>0.0</td>\n",
       "      <td>0.0</td>\n",
       "      <td>0.0</td>\n",
       "      <td>0.0</td>\n",
       "      <td>0.0</td>\n",
       "      <td>0.0</td>\n",
       "      <td>CBC Canada officially recession pandemic C.D. ...</td>\n",
       "      <td>cbc</td>\n",
       "      <td>54</td>\n",
       "    </tr>\n",
       "    <tr>\n",
       "      <th>2</th>\n",
       "      <td>0.0</td>\n",
       "      <td>0.0</td>\n",
       "      <td>0.0</td>\n",
       "      <td>0.0</td>\n",
       "      <td>0.0</td>\n",
       "      <td>0.0</td>\n",
       "      <td>0.0</td>\n",
       "      <td>0.0</td>\n",
       "      <td>0.0</td>\n",
       "      <td>0.0</td>\n",
       "      <td>...</td>\n",
       "      <td>0.0</td>\n",
       "      <td>0.0</td>\n",
       "      <td>0.0</td>\n",
       "      <td>0.0</td>\n",
       "      <td>0.0</td>\n",
       "      <td>0.0</td>\n",
       "      <td>0.0</td>\n",
       "      <td>Ontario allow business reopen Monday amid stri...</td>\n",
       "      <td>cbc</td>\n",
       "      <td>93</td>\n",
       "    </tr>\n",
       "    <tr>\n",
       "      <th>3</th>\n",
       "      <td>0.0</td>\n",
       "      <td>0.0</td>\n",
       "      <td>0.0</td>\n",
       "      <td>0.0</td>\n",
       "      <td>0.0</td>\n",
       "      <td>0.0</td>\n",
       "      <td>0.0</td>\n",
       "      <td>0.0</td>\n",
       "      <td>0.0</td>\n",
       "      <td>0.0</td>\n",
       "      <td>...</td>\n",
       "      <td>0.0</td>\n",
       "      <td>0.0</td>\n",
       "      <td>0.0</td>\n",
       "      <td>0.0</td>\n",
       "      <td>0.0</td>\n",
       "      <td>0.0</td>\n",
       "      <td>0.0</td>\n",
       "      <td>Air Canada anticipate return worldwide air tra...</td>\n",
       "      <td>cbc</td>\n",
       "      <td>59</td>\n",
       "    </tr>\n",
       "    <tr>\n",
       "      <th>4</th>\n",
       "      <td>0.0</td>\n",
       "      <td>0.0</td>\n",
       "      <td>0.0</td>\n",
       "      <td>0.0</td>\n",
       "      <td>0.0</td>\n",
       "      <td>0.0</td>\n",
       "      <td>0.0</td>\n",
       "      <td>0.0</td>\n",
       "      <td>0.0</td>\n",
       "      <td>0.0</td>\n",
       "      <td>...</td>\n",
       "      <td>0.0</td>\n",
       "      <td>0.0</td>\n",
       "      <td>0.0</td>\n",
       "      <td>0.0</td>\n",
       "      <td>0.0</td>\n",
       "      <td>0.0</td>\n",
       "      <td>0.0</td>\n",
       "      <td>canadian lose $ million covid- scam</td>\n",
       "      <td>cbc</td>\n",
       "      <td>35</td>\n",
       "    </tr>\n",
       "  </tbody>\n",
       "</table>\n",
       "<p>5 rows × 6947 columns</p>\n",
       "</div>"
      ],
      "text/plain": [
       "   100th  100th birthday  1930  1960  1970  19th  19th century  1st   30  3rd  \\\n",
       "0    0.0             0.0   0.0   0.0   0.0   0.0           0.0  0.0  0.0  0.0   \n",
       "1    0.0             0.0   0.0   0.0   0.0   0.0           0.0  0.0  0.0  0.0   \n",
       "2    0.0             0.0   0.0   0.0   0.0   0.0           0.0  0.0  0.0  0.0   \n",
       "3    0.0             0.0   0.0   0.0   0.0   0.0           0.0  0.0  0.0  0.0   \n",
       "4    0.0             0.0   0.0   0.0   0.0   0.0           0.0  0.0  0.0  0.0   \n",
       "\n",
       "   ...  zealand  zhao  zhao lijian  zone  zoom  édouard  édouard philippe  \\\n",
       "0  ...      0.0   0.0          0.0   0.0   0.0      0.0               0.0   \n",
       "1  ...      0.0   0.0          0.0   0.0   0.0      0.0               0.0   \n",
       "2  ...      0.0   0.0          0.0   0.0   0.0      0.0               0.0   \n",
       "3  ...      0.0   0.0          0.0   0.0   0.0      0.0               0.0   \n",
       "4  ...      0.0   0.0          0.0   0.0   0.0      0.0               0.0   \n",
       "\n",
       "                                                text  author  sent_length  \n",
       "0                                   oronavirus Brief     cbc           16  \n",
       "1  CBC Canada officially recession pandemic C.D. ...     cbc           54  \n",
       "2  Ontario allow business reopen Monday amid stri...     cbc           93  \n",
       "3  Air Canada anticipate return worldwide air tra...     cbc           59  \n",
       "4                canadian lose $ million covid- scam     cbc           35  \n",
       "\n",
       "[5 rows x 6947 columns]"
      ]
     },
     "execution_count": 635,
     "metadata": {},
     "output_type": "execute_result"
    }
   ],
   "source": [
    "df_tfvec.head()"
   ]
  },
  {
   "cell_type": "code",
   "execution_count": 636,
   "metadata": {},
   "outputs": [
    {
     "name": "stdout",
     "output_type": "stream",
     "text": [
      "----------------------Logistic Regression Scores----------------------\n",
      "Tfidf Training set score: 0.8399264029438822\n",
      "\n",
      "Test set score: 0.5641379310344827\n",
      "----------------------Random Forest Scores----------------------\n",
      "Tfidf Training set score: 0.8873045078196872\n",
      "\n",
      "Test set score: 0.5351724137931034\n"
     ]
    }
   ],
   "source": [
    "#Tfidf models\n",
    "tfY = df_tfvec['author']\n",
    "tfX = np.array(df_tfvec.drop(['text','author'], 1))\n",
    "\n",
    "# We split the dataset into train and test sets\n",
    "tfX_train, tfX_test, tfy_train, tfy_test = train_test_split(tfX, tfY, test_size=0.4, random_state=123)\n",
    "\n",
    "# Models\n",
    "lr = LogisticRegression(max_iter=5000)\n",
    "rfc = RandomForestClassifier()\n",
    "\n",
    "\n",
    "lr.fit(tfX_train, tfy_train)\n",
    "rfc.fit(tfX_train, tfy_train)\n",
    "\n",
    "\n",
    "print(\"----------------------Logistic Regression Scores----------------------\")\n",
    "print('Tfidf Training set score:', lr.score(tfX_train, tfy_train))\n",
    "print('\\nTest set score:', lr.score(tfX_test, tfy_test))\n",
    "\n",
    "print(\"----------------------Random Forest Scores----------------------\")\n",
    "print('Tfidf Training set score:', rfc.score(tfX_train, tfy_train))\n",
    "print('\\nTest set score:', rfc.score(tfX_test, tfy_test))"
   ]
  },
  {
   "cell_type": "code",
   "execution_count": 637,
   "metadata": {},
   "outputs": [
    {
     "name": "stdout",
     "output_type": "stream",
     "text": [
      "----------------------Logistic Regression Scores----------------------\n",
      "CVec Training set score: 0.8854645814167433\n",
      "\n",
      "Test set score: 0.5593103448275862\n",
      "----------------------Random Forest Scores----------------------\n",
      "CVec Training set score: 0.8873045078196872\n",
      "\n",
      "Test set score: 0.5041379310344828\n"
     ]
    }
   ],
   "source": [
    "#CVec models\n",
    "cvY = df_cvec['author']\n",
    "cvX = np.array(df_cvec.drop(['text','author', 'sent_length'], 1))\n",
    "\n",
    "# We split the dataset into train and test sets\n",
    "cvX_train, cvX_test, cvy_train, cvy_test = train_test_split(cvX, cvY, test_size=0.4, random_state=123)\n",
    "\n",
    "# Models\n",
    "lr = LogisticRegression(max_iter=5000)\n",
    "rfc = RandomForestClassifier()\n",
    "\n",
    "\n",
    "lr.fit(cvX_train, cvy_train)\n",
    "rfc.fit(cvX_train, cvy_train)\n",
    "\n",
    "\n",
    "print(\"----------------------Logistic Regression Scores----------------------\")\n",
    "print('CVec Training set score:', lr.score(cvX_train, cvy_train))\n",
    "print('\\nTest set score:', lr.score(cvX_test, cvy_test))\n",
    "\n",
    "print(\"----------------------Random Forest Scores----------------------\")\n",
    "print('CVec Training set score:', rfc.score(cvX_train, cvy_train))\n",
    "print('\\nTest set score:', rfc.score(cvX_test, cvy_test))"
   ]
  },
  {
   "cell_type": "code",
   "execution_count": 638,
   "metadata": {},
   "outputs": [],
   "source": [
    "#Generate arrays for the vectorized columns (did it this way since had also included sentence length but excluded it later)\n",
    "tfsl = np.array([np.flip(tfX[i])[:] for i in range(len(tfX))])\n",
    "cvsl = np.array([np.flip(cvX[i])[:] for i in range(len(cvX))])"
   ]
  },
  {
   "cell_type": "code",
   "execution_count": 644,
   "metadata": {},
   "outputs": [],
   "source": [
    "#Run UMAP on both Tfidf and Count vectorized datasets to see if it separates any of the news sources from one another\n",
    "#or if there are any clusters that appear independent of the news sources\n",
    "import umap\n",
    "\n",
    "tfumap = umap.UMAP(n_neighbors=100,\n",
    "                      min_dist=1,\n",
    "                      metric='euclidean').fit_transform(tfsl)\n",
    "\n",
    "cvumap = umap.UMAP(n_neighbors=20,\n",
    "                      min_dist=1,\n",
    "                      metric='euclidean').fit_transform(cvsl)"
   ]
  },
  {
   "cell_type": "code",
   "execution_count": 645,
   "metadata": {},
   "outputs": [],
   "source": [
    "dftfumap = pd.DataFrame(tfumap, index = tfY)\n",
    "dfcvumap = pd.DataFrame(cvumap, index = cvY)"
   ]
  },
  {
   "cell_type": "code",
   "execution_count": 655,
   "metadata": {},
   "outputs": [
    {
     "data": {
      "image/png": "[encoded data removed]",
      "text/plain": [
       "<Figure size 1080x360 with 2 Axes>"
      ]
     },
     "metadata": {
      "needs_background": "light"
     },
     "output_type": "display_data"
    }
   ],
   "source": [
    "\n",
    "\n",
    "fig = plt.figure(figsize = (15,5))\n",
    "\n",
    "plt.subplot(1,2,1)\n",
    "sns.scatterplot(tfumap[:,0], tfumap[:,1], tfY)\n",
    "plt.title('UMAP of Tfidf vectorized \\nnews sources',size = 20)\n",
    "plt.subplot(1,2,2)\n",
    "sns.scatterplot(cvumap[:,0], cvumap[:,1], cvY)\n",
    "plt.title('UMAP  of Count vectorized \\nnews sources',size = 20)\n",
    "plt.show()"
   ]
  },
  {
   "cell_type": "code",
   "execution_count": null,
   "metadata": {},
   "outputs": [],
   "source": [
    "#UMAP patterns are not defined by news sources but there are some distinct groups in the Count vectorized UMAP"
   ]
  },
  {
   "cell_type": "code",
   "execution_count": 642,
   "metadata": {},
   "outputs": [],
   "source": [
    "from sklearn.cluster import KMeans"
   ]
  },
  {
   "cell_type": "code",
   "execution_count": 656,
   "metadata": {},
   "outputs": [],
   "source": [
    "#Define cluster labels for UMAP pattern (clearly there are two main ones)\n",
    "km = KMeans(n_clusters = 4)\n",
    "km.fit_transform(cvumap)\n",
    "cvpred = km.fit_predict(cvumap)"
   ]
  },
  {
   "cell_type": "code",
   "execution_count": 714,
   "metadata": {},
   "outputs": [],
   "source": [
    "#Add cluster labels to check whether sentence length defines these clusters\n",
    "df_sent['cv_umap_pred'] = cvpred"
   ]
  },
  {
   "cell_type": "code",
   "execution_count": 712,
   "metadata": {},
   "outputs": [
    {
     "data": {
      "image/png": "[encoded data removed]",
      "text/plain": [
       "<Figure size 432x288 with 1 Axes>"
      ]
     },
     "metadata": {
      "needs_background": "light"
     },
     "output_type": "display_data"
    }
   ],
   "source": [
    "# Label UMAP by kmeans labeled clusters\n",
    "fig = sns.scatterplot(cvumap[:,0], cvumap[:,1], cvpred, palette = ['r', 'b', 'g', 'c'])\n",
    "plt.show()"
   ]
  },
  {
   "cell_type": "code",
   "execution_count": 717,
   "metadata": {},
   "outputs": [],
   "source": [
    "df_sent['sent_length'] = df_tfvec['sent_length']"
   ]
  },
  {
   "cell_type": "code",
   "execution_count": 721,
   "metadata": {},
   "outputs": [
    {
     "data": {
      "text/plain": [
       "cv_umap_pred\n",
       "0    45.630814\n",
       "1    86.495785\n",
       "2    94.067114\n",
       "3    57.800995\n",
       "Name: sent_length, dtype: float64"
      ]
     },
     "execution_count": 721,
     "metadata": {},
     "output_type": "execute_result"
    }
   ],
   "source": [
    "sent_length_grouped = df_sent.groupby('cv_umap_pred')['sent_length']\n",
    "sent_length_grouped.mean()"
   ]
  },
  {
   "cell_type": "markdown",
   "metadata": {},
   "source": [
    "Conclusions:\n",
    "1. Tfidf and Count vectorizers did a poor job alone in predicting the news source. This suggests that the word analysis alone does not predict news source (~50% accuracy with logistic regression). Although not shown, adding sentence length did not improve distinction between news sources. This suggests that these features are fairly constant amoung top news sources in Canada. \n",
    "\n",
    "2. While sentence length was not included in UMAP dimension reduction, the amount of words for a sentence will become apparent from the amount of 1s that populate rows with either short or long sentences. Therefore it is not that surprising that UMAP labeled with k-means clusters show that theses clusters seem to group by length of sentences (0 and 3 are closer and are the shorter sentences; 1 and 2 are closer and represent the longer sentences). It is interesting that there is such sharp division in sentence length that is consistent among all the new sources.\n",
    "\n"
   ]
  },
  {
   "cell_type": "code",
   "execution_count": null,
   "metadata": {},
   "outputs": [],
   "source": []
  }
 ],
 "metadata": {
  "kernelspec": {
   "display_name": "Python 3",
   "language": "python",
   "name": "python3"
  },
  "language_info": {
   "codemirror_mode": {
    "name": "ipython",
    "version": 3
   },
   "file_extension": ".py",
   "mimetype": "text/x-python",
   "name": "python",
   "nbconvert_exporter": "python",
   "pygments_lexer": "ipython3",
   "version": "3.7.7"
  }
 },
 "nbformat": 4,
 "nbformat_minor": 4
}
