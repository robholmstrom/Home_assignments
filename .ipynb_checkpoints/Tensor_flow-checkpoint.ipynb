{
 "cells": [
  {
   "cell_type": "code",
   "execution_count": 1,
   "metadata": {},
   "outputs": [],
   "source": [
    "import warnings\n",
    "warnings.filterwarnings(\"ignore\")\n",
    "\n",
    "from tensorflow.keras.datasets import mnist\n",
    "from tensorflow.keras.models import Sequential \n",
    "from tensorflow.keras.layers import Dense"
   ]
  },
  {
   "cell_type": "code",
   "execution_count": 2,
   "metadata": {},
   "outputs": [
    {
     "name": "stdout",
     "output_type": "stream",
     "text": [
      "Downloading data from https://storage.googleapis.com/tensorflow/tf-keras-datasets/mnist.npz\n",
      "11493376/11490434 [==============================] - 0s 0us/step\n"
     ]
    }
   ],
   "source": [
    "(X_train, y_train), (X_test, y_test) = mnist.load_data()\n",
    "input_dim = 784  # 28*28\n",
    "output_dim = nb_classes = 10\n",
    "batch_size = 128\n",
    "nb_epoch = 20\n",
    "\n",
    "X_train = X_train.reshape(60000, input_dim)\n",
    "X_test = X_test.reshape(10000, input_dim)\n",
    "X_train = X_train.astype('float32')\n",
    "X_test = X_test.astype('float32')\n",
    "X_train /= 255\n",
    "X_test /= 255"
   ]
  },
  {
   "cell_type": "code",
   "execution_count": 3,
   "metadata": {},
   "outputs": [],
   "source": [
    "from tensorflow.keras.utils import to_categorical\n",
    "\n",
    "Y_train = to_categorical(y_train, nb_classes)\n",
    "Y_test = to_categorical(y_test, nb_classes)"
   ]
  },
  {
   "cell_type": "code",
   "execution_count": 8,
   "metadata": {},
   "outputs": [
    {
     "name": "stdout",
     "output_type": "stream",
     "text": [
      "Epoch 1/20\n",
      "60000/60000 [==============================] - 2s 32us/sample - loss: 1.6020 - acc: 0.5214\n",
      "Epoch 2/20\n",
      "60000/60000 [==============================] - 2s 32us/sample - loss: 0.5965 - acc: 0.8485\n",
      "Epoch 3/20\n",
      "60000/60000 [==============================] - 2s 34us/sample - loss: 0.3885 - acc: 0.8936\n",
      "Epoch 4/20\n",
      "60000/60000 [==============================] - 2s 36us/sample - loss: 0.3238 - acc: 0.9102\n",
      "Epoch 5/20\n",
      "60000/60000 [==============================] - 2s 40us/sample - loss: 0.2851 - acc: 0.9201\n",
      "Epoch 6/20\n",
      "60000/60000 [==============================] - 2s 40us/sample - loss: 0.2560 - acc: 0.9270\n",
      "Epoch 7/20\n",
      "60000/60000 [==============================] - 3s 43us/sample - loss: 0.2325 - acc: 0.9345\n",
      "Epoch 8/20\n",
      "60000/60000 [==============================] - 3s 45us/sample - loss: 0.2136 - acc: 0.9390\n",
      "Epoch 9/20\n",
      "60000/60000 [==============================] - 3s 49us/sample - loss: 0.1973 - acc: 0.9438\n",
      "Epoch 10/20\n",
      "60000/60000 [==============================] - 3s 46us/sample - loss: 0.1834 - acc: 0.9478\n",
      "Epoch 11/20\n",
      "60000/60000 [==============================] - 3s 43us/sample - loss: 0.1719 - acc: 0.9505\n",
      "Epoch 12/20\n",
      "60000/60000 [==============================] - 3s 46us/sample - loss: 0.1609 - acc: 0.9541\n",
      "Epoch 13/20\n",
      "60000/60000 [==============================] - 3s 46us/sample - loss: 0.1513 - acc: 0.9561\n",
      "Epoch 14/20\n",
      "60000/60000 [==============================] - 3s 48us/sample - loss: 0.1430 - acc: 0.9586\n",
      "Epoch 15/20\n",
      "60000/60000 [==============================] - 3s 48us/sample - loss: 0.1354 - acc: 0.9613\n",
      "Epoch 16/20\n",
      "60000/60000 [==============================] - 3s 48us/sample - loss: 0.1278 - acc: 0.9640\n",
      "Epoch 17/20\n",
      "60000/60000 [==============================] - 3s 49us/sample - loss: 0.1217 - acc: 0.9657\n",
      "Epoch 18/20\n",
      "60000/60000 [==============================] - 3s 53us/sample - loss: 0.1156 - acc: 0.9675\n",
      "Epoch 19/20\n",
      "60000/60000 [==============================] - 3s 53us/sample - loss: 0.1101 - acc: 0.9694\n",
      "Epoch 20/20\n",
      "60000/60000 [==============================] - 3s 54us/sample - loss: 0.1052 - acc: 0.9707\n"
     ]
    },
    {
     "data": {
      "text/plain": [
       "<tensorflow.python.keras.callbacks.History at 0x7f9e40b1a650>"
      ]
     },
     "execution_count": 8,
     "metadata": {},
     "output_type": "execute_result"
    }
   ],
   "source": [
    "model = Sequential()\n",
    "model.add(Dense(1028, input_shape = (784, ), activation = 'relu'))\n",
    "model.add(Dense(32, activation='relu'))\n",
    "model.add(Dense(16, activation = 'relu'))\n",
    "model.add(Dense(10, activation = 'softmax'))\n",
    "\n",
    "model.compile(loss = 'categorical_crossentropy', optimizer= 'sgd', metrics = ['accuracy'])\n",
    "model.fit(X_train, Y_train, batch_size = 128, epochs = 20)"
   ]
  },
  {
   "cell_type": "code",
   "execution_count": null,
   "metadata": {},
   "outputs": [],
   "source": [
    "score = model.evaluate(X_test, Y_test, verbose=0)\n",
    "print('Test score:', score[0])\n",
    "print('Test accuracy:', score[1])"
   ]
  },
  {
   "cell_type": "code",
   "execution_count": 9,
   "metadata": {},
   "outputs": [
    {
     "name": "stdout",
     "output_type": "stream",
     "text": [
      "Epoch 1/20\n",
      "60000/60000 [==============================] - 9s 153us/sample - loss: 1.3983 - acc: 0.6189\n",
      "Epoch 2/20\n",
      "60000/60000 [==============================] - 10s 167us/sample - loss: 0.3746 - acc: 0.8943\n",
      "Epoch 3/20\n",
      "60000/60000 [==============================] - 10s 170us/sample - loss: 0.2722 - acc: 0.9209\n",
      "Epoch 4/20\n",
      "60000/60000 [==============================] - 11s 181us/sample - loss: 0.2221 - acc: 0.9344\n",
      "Epoch 5/20\n",
      "60000/60000 [==============================] - 12s 206us/sample - loss: 0.1889 - acc: 0.9448\n",
      "Epoch 6/20\n",
      "60000/60000 [==============================] - 11s 184us/sample - loss: 0.1654 - acc: 0.9517\n",
      "Epoch 7/20\n",
      "60000/60000 [==============================] - 10s 173us/sample - loss: 0.1453 - acc: 0.9575\n",
      "Epoch 8/20\n",
      "60000/60000 [==============================] - 11s 177us/sample - loss: 0.1305 - acc: 0.9621\n",
      "Epoch 9/20\n",
      "60000/60000 [==============================] - 11s 179us/sample - loss: 0.1183 - acc: 0.9654\n",
      "Epoch 10/20\n",
      "60000/60000 [==============================] - 9s 153us/sample - loss: 0.1063 - acc: 0.9690\n",
      "Epoch 11/20\n",
      "60000/60000 [==============================] - 10s 163us/sample - loss: 0.0981 - acc: 0.9711\n",
      "Epoch 12/20\n",
      "60000/60000 [==============================] - 10s 173us/sample - loss: 0.0880 - acc: 0.9744\n",
      "Epoch 13/20\n",
      "60000/60000 [==============================] - 11s 180us/sample - loss: 0.0800 - acc: 0.9762\n",
      "Epoch 14/20\n",
      "60000/60000 [==============================] - 10s 172us/sample - loss: 0.0730 - acc: 0.9796\n",
      "Epoch 15/20\n",
      "60000/60000 [==============================] - 11s 176us/sample - loss: 0.0673 - acc: 0.9814\n",
      "Epoch 16/20\n",
      "60000/60000 [==============================] - 11s 177us/sample - loss: 0.0619 - acc: 0.9824\n",
      "Epoch 17/20\n",
      "60000/60000 [==============================] - 11s 191us/sample - loss: 0.0565 - acc: 0.9836\n",
      "Epoch 18/20\n",
      "60000/60000 [==============================] - 12s 196us/sample - loss: 0.0523 - acc: 0.9853\n",
      "Epoch 19/20\n",
      "60000/60000 [==============================] - 11s 189us/sample - loss: 0.0474 - acc: 0.9870\n",
      "Epoch 20/20\n",
      "60000/60000 [==============================] - 12s 192us/sample - loss: 0.0435 - acc: 0.9878\n"
     ]
    },
    {
     "data": {
      "text/plain": [
       "<tensorflow.python.keras.callbacks.History at 0x7f9e40b3fdd0>"
      ]
     },
     "execution_count": 9,
     "metadata": {},
     "output_type": "execute_result"
    }
   ],
   "source": [
    "model = Sequential()\n",
    "model.add(Dense(1028, input_shape = (784, ), activation = 'relu'))\n",
    "model.add(Dense(1024, activation='relu'))\n",
    "model.add(Dense(512, activation = 'relu'))\n",
    "model.add(Dense(256, activation = 'relu'))\n",
    "model.add(Dense(128, activation = 'relu'))\n",
    "model.add(Dense(64, activation = 'relu'))\n",
    "model.add(Dense(10, activation = 'softmax'))\n",
    "\n",
    "model.compile(loss = 'categorical_crossentropy', optimizer= 'sgd', metrics = ['accuracy'])\n",
    "model.fit(X_train, Y_train, batch_size = 128, epochs = 20)"
   ]
  },
  {
   "cell_type": "code",
   "execution_count": 10,
   "metadata": {},
   "outputs": [
    {
     "name": "stdout",
     "output_type": "stream",
     "text": [
      "Test score: 0.11454341415381059\n",
      "Test accuracy: 0.9652\n"
     ]
    }
   ],
   "source": [
    "score = model.evaluate(X_test, Y_test, verbose=0)\n",
    "print('Test score:', score[0])\n",
    "print('Test accuracy:', score[1])"
   ]
  },
  {
   "cell_type": "code",
   "execution_count": null,
   "metadata": {},
   "outputs": [],
   "source": []
  }
 ],
 "metadata": {
  "kernelspec": {
   "display_name": "Python 3",
   "language": "python",
   "name": "python3"
  },
  "language_info": {
   "codemirror_mode": {
    "name": "ipython",
    "version": 3
   },
   "file_extension": ".py",
   "mimetype": "text/x-python",
   "name": "python",
   "nbconvert_exporter": "python",
   "pygments_lexer": "ipython3",
   "version": "3.7.7"
  }
 },
 "nbformat": 4,
 "nbformat_minor": 4
}
